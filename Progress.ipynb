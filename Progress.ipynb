{
 "cells": [
  {
   "cell_type": "markdown",
   "metadata": {},
   "source": [
    "# Index\n",
    "\n",
    "- [Work](#Work)\n",
    "- [WorkOk](#WorkOk)\n",
    "- [WorkSnowball](#WorkSnowball)\n",
    "- [Forward Snowballing](#Forward-Snowballing)\n",
    "- [Other](#Other)\n",
    "  - [WorkUnrelated](#WorkUnrelated)\n",
    "  - [WorkNoFile](#WorkNoFile)\n",
    "  - [WorkLang](#WorkLang)\n",
    "- [Generate numbers](#Generate-numbers)\n",
    "- [Other queries](#Queries)"
   ]
  },
  {
   "cell_type": "code",
   "execution_count": 1,
   "metadata": {
    "collapsed": true
   },
   "outputs": [],
   "source": [
    "import database\n",
    "from datetime import datetime\n",
    "from snowballing.operations import load_work, reload, load_work_map_all_years\n",
    "from snowballing.jupyter_utils import work_button, idisplay\n",
    "reload()"
   ]
  },
  {
   "cell_type": "markdown",
   "metadata": {},
   "source": [
    "# Work\n",
    "\n",
    "Since this is the default class, it is used as a safety check.\n",
    "\n",
    "No work should be stored with this class at the end of the snowballing.\n",
    "\n",
    "If the work has this class, we did not decide yet whether the work is related or not."
   ]
  },
  {
   "cell_type": "code",
   "execution_count": 2,
   "metadata": {},
   "outputs": [
    {
     "data": {
      "application/vnd.jupyter.widget-view+json": {
       "model_id": "48879cb4cf3e4e0a966f105a8c8388e7",
       "version_major": 2,
       "version_minor": 0
      },
      "text/plain": [
       "A Jupyter Widget"
      ]
     },
     "metadata": {},
     "output_type": "display_data"
    },
    {
     "data": {
      "text/plain": [
       "0"
      ]
     },
     "execution_count": 2,
     "metadata": {},
     "output_type": "execute_result"
    }
   ],
   "source": [
    "reload()\n",
    "query = [work_button(w) for w in load_work() if w.category == \"work\"]\n",
    "idisplay(*query)\n",
    "len(query)"
   ]
  },
  {
   "cell_type": "markdown",
   "metadata": {},
   "source": [
    "# WorkOk\n",
    "\n",
    "This class is used for related work that has not been explored with a backward snowballing yet."
   ]
  },
  {
   "cell_type": "code",
   "execution_count": 3,
   "metadata": {},
   "outputs": [
    {
     "data": {
      "application/vnd.jupyter.widget-view+json": {
       "model_id": "c7bf2501e9754c489f45eeaff2665497",
       "version_major": 2,
       "version_minor": 0
      },
      "text/plain": [
       "A Jupyter Widget"
      ]
     },
     "metadata": {},
     "output_type": "display_data"
    },
    {
     "data": {
      "text/plain": [
       "0"
      ]
     },
     "execution_count": 3,
     "metadata": {},
     "output_type": "execute_result"
    }
   ],
   "source": [
    "reload()\n",
    "query = [work_button(w) for w in load_work() if w.category == \"ok\"]\n",
    "idisplay(*query)\n",
    "len(query)"
   ]
  },
  {
   "cell_type": "markdown",
   "metadata": {},
   "source": [
    "# WorkSnowball\n",
    "\n",
    "This class is used for related work that has been explored with backward snowballing."
   ]
  },
  {
   "cell_type": "code",
   "execution_count": 4,
   "metadata": {},
   "outputs": [
    {
     "data": {
      "application/vnd.jupyter.widget-view+json": {
       "model_id": "b6a528773f5a449d8ec2c0aad4c7844c",
       "version_major": 2,
       "version_minor": 0
      },
      "text/plain": [
       "A Jupyter Widget"
      ]
     },
     "metadata": {},
     "output_type": "display_data"
    },
    {
     "data": {
      "text/plain": [
       "53"
      ]
     },
     "execution_count": 4,
     "metadata": {},
     "output_type": "execute_result"
    }
   ],
   "source": [
    "reload()\n",
    "query = [work_button(w) for w in load_work() if w.category == \"snowball\"]\n",
    "idisplay(*query)\n",
    "len(query)"
   ]
  },
  {
   "cell_type": "markdown",
   "metadata": {},
   "source": [
    "# Forward Snowballing\n",
    "\n",
    "Use the attribute .snowball to indicate when were performed the last snowball.\n",
    "\n",
    "The query search WorkOk and WorkSnowball with outdated snowball attributes.\n"
   ]
  },
  {
   "cell_type": "code",
   "execution_count": 5,
   "metadata": {},
   "outputs": [
    {
     "data": {
      "application/vnd.jupyter.widget-view+json": {
       "model_id": "540be5e4f02c40aa9977eb96ce5874b6",
       "version_major": 2,
       "version_minor": 0
      },
      "text/plain": [
       "A Jupyter Widget"
      ]
     },
     "metadata": {},
     "output_type": "display_data"
    },
    {
     "data": {
      "application/vnd.jupyter.widget-view+json": {
       "model_id": "3d7805566c494e4c8e7e0a73d118bbe8",
       "version_major": 2,
       "version_minor": 0
      },
      "text/plain": [
       "A Jupyter Widget"
      ]
     },
     "metadata": {},
     "output_type": "display_data"
    },
    {
     "data": {
      "application/vnd.jupyter.widget-view+json": {
       "model_id": "1704baf36497444aa38402e4c362dcc5",
       "version_major": 2,
       "version_minor": 0
      },
      "text/plain": [
       "A Jupyter Widget"
      ]
     },
     "metadata": {},
     "output_type": "display_data"
    },
    {
     "data": {
      "application/vnd.jupyter.widget-view+json": {
       "model_id": "73f5ff3a54e84774a073418aee8b6b02",
       "version_major": 2,
       "version_minor": 0
      },
      "text/plain": [
       "A Jupyter Widget"
      ]
     },
     "metadata": {},
     "output_type": "display_data"
    },
    {
     "data": {
      "application/vnd.jupyter.widget-view+json": {
       "model_id": "051b2ab95616418f8d37fe2429770190",
       "version_major": 2,
       "version_minor": 0
      },
      "text/plain": [
       "A Jupyter Widget"
      ]
     },
     "metadata": {},
     "output_type": "display_data"
    },
    {
     "data": {
      "application/vnd.jupyter.widget-view+json": {
       "model_id": "ce44405c4f03489bb44dea1dbaa83737",
       "version_major": 2,
       "version_minor": 0
      },
      "text/plain": [
       "A Jupyter Widget"
      ]
     },
     "metadata": {},
     "output_type": "display_data"
    },
    {
     "data": {
      "application/vnd.jupyter.widget-view+json": {
       "model_id": "2d35aeb3c44d4068a141d598230aab38",
       "version_major": 2,
       "version_minor": 0
      },
      "text/plain": [
       "A Jupyter Widget"
      ]
     },
     "metadata": {},
     "output_type": "display_data"
    },
    {
     "data": {
      "application/vnd.jupyter.widget-view+json": {
       "model_id": "f3b3874d984b426bb0a1ede67f4f5c65",
       "version_major": 2,
       "version_minor": 0
      },
      "text/plain": [
       "A Jupyter Widget"
      ]
     },
     "metadata": {},
     "output_type": "display_data"
    },
    {
     "data": {
      "application/vnd.jupyter.widget-view+json": {
       "model_id": "c418a0fc261a48f0b6145f5dc9561e15",
       "version_major": 2,
       "version_minor": 0
      },
      "text/plain": [
       "A Jupyter Widget"
      ]
     },
     "metadata": {},
     "output_type": "display_data"
    },
    {
     "data": {
      "application/vnd.jupyter.widget-view+json": {
       "model_id": "8cd3971eedd44634af30e2189fa2bf4e",
       "version_major": 2,
       "version_minor": 0
      },
      "text/plain": [
       "A Jupyter Widget"
      ]
     },
     "metadata": {},
     "output_type": "display_data"
    },
    {
     "data": {
      "application/vnd.jupyter.widget-view+json": {
       "model_id": "4d0e138da2564db78e64aaf58ce5e985",
       "version_major": 2,
       "version_minor": 0
      },
      "text/plain": [
       "A Jupyter Widget"
      ]
     },
     "metadata": {},
     "output_type": "display_data"
    },
    {
     "data": {
      "application/vnd.jupyter.widget-view+json": {
       "model_id": "98fb7fa22c7d41e58a1e494fa753007d",
       "version_major": 2,
       "version_minor": 0
      },
      "text/plain": [
       "A Jupyter Widget"
      ]
     },
     "metadata": {},
     "output_type": "display_data"
    },
    {
     "data": {
      "application/vnd.jupyter.widget-view+json": {
       "model_id": "9958e687e2304128b54101fd60c433ea",
       "version_major": 2,
       "version_minor": 0
      },
      "text/plain": [
       "A Jupyter Widget"
      ]
     },
     "metadata": {},
     "output_type": "display_data"
    },
    {
     "data": {
      "application/vnd.jupyter.widget-view+json": {
       "model_id": "940df7816b97423286f22f0f315967ce",
       "version_major": 2,
       "version_minor": 0
      },
      "text/plain": [
       "A Jupyter Widget"
      ]
     },
     "metadata": {},
     "output_type": "display_data"
    },
    {
     "data": {
      "application/vnd.jupyter.widget-view+json": {
       "model_id": "f842ac860dea444086958a7d73ff2358",
       "version_major": 2,
       "version_minor": 0
      },
      "text/plain": [
       "A Jupyter Widget"
      ]
     },
     "metadata": {},
     "output_type": "display_data"
    },
    {
     "data": {
      "application/vnd.jupyter.widget-view+json": {
       "model_id": "c8984087035f4d22b38ce5eb662672d1",
       "version_major": 2,
       "version_minor": 0
      },
      "text/plain": [
       "A Jupyter Widget"
      ]
     },
     "metadata": {},
     "output_type": "display_data"
    },
    {
     "data": {
      "application/vnd.jupyter.widget-view+json": {
       "model_id": "35ec3d6ae00a420fa430bf9129a603e8",
       "version_major": 2,
       "version_minor": 0
      },
      "text/plain": [
       "A Jupyter Widget"
      ]
     },
     "metadata": {},
     "output_type": "display_data"
    },
    {
     "data": {
      "application/vnd.jupyter.widget-view+json": {
       "model_id": "6349c97c07aa405f917c9348e049708a",
       "version_major": 2,
       "version_minor": 0
      },
      "text/plain": [
       "A Jupyter Widget"
      ]
     },
     "metadata": {},
     "output_type": "display_data"
    },
    {
     "data": {
      "application/vnd.jupyter.widget-view+json": {
       "model_id": "9aae34e1c09e43a185e390ec8c720da0",
       "version_major": 2,
       "version_minor": 0
      },
      "text/plain": [
       "A Jupyter Widget"
      ]
     },
     "metadata": {},
     "output_type": "display_data"
    },
    {
     "data": {
      "application/vnd.jupyter.widget-view+json": {
       "model_id": "793be422d46c4a668ea4fc440e86ae84",
       "version_major": 2,
       "version_minor": 0
      },
      "text/plain": [
       "A Jupyter Widget"
      ]
     },
     "metadata": {},
     "output_type": "display_data"
    },
    {
     "data": {
      "application/vnd.jupyter.widget-view+json": {
       "model_id": "6348abcebd224734a65a1b4b59244acb",
       "version_major": 2,
       "version_minor": 0
      },
      "text/plain": [
       "A Jupyter Widget"
      ]
     },
     "metadata": {},
     "output_type": "display_data"
    },
    {
     "data": {
      "application/vnd.jupyter.widget-view+json": {
       "model_id": "9f808a7850134bc9972a5a61dec9b33e",
       "version_major": 2,
       "version_minor": 0
      },
      "text/plain": [
       "A Jupyter Widget"
      ]
     },
     "metadata": {},
     "output_type": "display_data"
    },
    {
     "data": {
      "application/vnd.jupyter.widget-view+json": {
       "model_id": "831228e10e9b4cb298cf84d2b55f20a1",
       "version_major": 2,
       "version_minor": 0
      },
      "text/plain": [
       "A Jupyter Widget"
      ]
     },
     "metadata": {},
     "output_type": "display_data"
    },
    {
     "data": {
      "application/vnd.jupyter.widget-view+json": {
       "model_id": "f5ecf8f6d2a64965b41fc2ce49c9e941",
       "version_major": 2,
       "version_minor": 0
      },
      "text/plain": [
       "A Jupyter Widget"
      ]
     },
     "metadata": {},
     "output_type": "display_data"
    },
    {
     "data": {
      "application/vnd.jupyter.widget-view+json": {
       "model_id": "38fd3b6bb9b5496cae7ae8aa6077130b",
       "version_major": 2,
       "version_minor": 0
      },
      "text/plain": [
       "A Jupyter Widget"
      ]
     },
     "metadata": {},
     "output_type": "display_data"
    },
    {
     "data": {
      "application/vnd.jupyter.widget-view+json": {
       "model_id": "91456f4d86464050a2b6c4597f2d74fe",
       "version_major": 2,
       "version_minor": 0
      },
      "text/plain": [
       "A Jupyter Widget"
      ]
     },
     "metadata": {},
     "output_type": "display_data"
    },
    {
     "data": {
      "application/vnd.jupyter.widget-view+json": {
       "model_id": "0241d389ee6344008e9e7ab937a4ae7d",
       "version_major": 2,
       "version_minor": 0
      },
      "text/plain": [
       "A Jupyter Widget"
      ]
     },
     "metadata": {},
     "output_type": "display_data"
    },
    {
     "data": {
      "application/vnd.jupyter.widget-view+json": {
       "model_id": "9eeab05b888144238eac2082f0e3f660",
       "version_major": 2,
       "version_minor": 0
      },
      "text/plain": [
       "A Jupyter Widget"
      ]
     },
     "metadata": {},
     "output_type": "display_data"
    },
    {
     "data": {
      "application/vnd.jupyter.widget-view+json": {
       "model_id": "606c4c36ae5344808129830fab06a757",
       "version_major": 2,
       "version_minor": 0
      },
      "text/plain": [
       "A Jupyter Widget"
      ]
     },
     "metadata": {},
     "output_type": "display_data"
    },
    {
     "data": {
      "application/vnd.jupyter.widget-view+json": {
       "model_id": "bcdb7b207d0f45579f70ce7b09e89c4f",
       "version_major": 2,
       "version_minor": 0
      },
      "text/plain": [
       "A Jupyter Widget"
      ]
     },
     "metadata": {},
     "output_type": "display_data"
    },
    {
     "data": {
      "application/vnd.jupyter.widget-view+json": {
       "model_id": "ee4467bf5d6643d984a50265c26d8ed7",
       "version_major": 2,
       "version_minor": 0
      },
      "text/plain": [
       "A Jupyter Widget"
      ]
     },
     "metadata": {},
     "output_type": "display_data"
    },
    {
     "data": {
      "application/vnd.jupyter.widget-view+json": {
       "model_id": "e1054469a2a140c88e803d3417e6ac26",
       "version_major": 2,
       "version_minor": 0
      },
      "text/plain": [
       "A Jupyter Widget"
      ]
     },
     "metadata": {},
     "output_type": "display_data"
    },
    {
     "data": {
      "application/vnd.jupyter.widget-view+json": {
       "model_id": "c3507bb1239249b3af89d38ca00c236c",
       "version_major": 2,
       "version_minor": 0
      },
      "text/plain": [
       "A Jupyter Widget"
      ]
     },
     "metadata": {},
     "output_type": "display_data"
    },
    {
     "data": {
      "application/vnd.jupyter.widget-view+json": {
       "model_id": "acfd4ee301f54cdfa7807a29166c5ef9",
       "version_major": 2,
       "version_minor": 0
      },
      "text/plain": [
       "A Jupyter Widget"
      ]
     },
     "metadata": {},
     "output_type": "display_data"
    },
    {
     "data": {
      "application/vnd.jupyter.widget-view+json": {
       "model_id": "841d2576931f4dcd9fddcc2b02a67cfe",
       "version_major": 2,
       "version_minor": 0
      },
      "text/plain": [
       "A Jupyter Widget"
      ]
     },
     "metadata": {},
     "output_type": "display_data"
    },
    {
     "data": {
      "application/vnd.jupyter.widget-view+json": {
       "model_id": "c0ee29731329448c9dc33ee817010e1f",
       "version_major": 2,
       "version_minor": 0
      },
      "text/plain": [
       "A Jupyter Widget"
      ]
     },
     "metadata": {},
     "output_type": "display_data"
    },
    {
     "data": {
      "application/vnd.jupyter.widget-view+json": {
       "model_id": "69866fdccf604440bf862c8b0e35133c",
       "version_major": 2,
       "version_minor": 0
      },
      "text/plain": [
       "A Jupyter Widget"
      ]
     },
     "metadata": {},
     "output_type": "display_data"
    },
    {
     "data": {
      "application/vnd.jupyter.widget-view+json": {
       "model_id": "33b88b145d7a4fc6b56c3f23850be3c5",
       "version_major": 2,
       "version_minor": 0
      },
      "text/plain": [
       "A Jupyter Widget"
      ]
     },
     "metadata": {},
     "output_type": "display_data"
    },
    {
     "data": {
      "application/vnd.jupyter.widget-view+json": {
       "model_id": "0fafdb2eaf16457a8cca001575d7182a",
       "version_major": 2,
       "version_minor": 0
      },
      "text/plain": [
       "A Jupyter Widget"
      ]
     },
     "metadata": {},
     "output_type": "display_data"
    },
    {
     "data": {
      "application/vnd.jupyter.widget-view+json": {
       "model_id": "38867fb4f500404a94d51dbab0c1ac64",
       "version_major": 2,
       "version_minor": 0
      },
      "text/plain": [
       "A Jupyter Widget"
      ]
     },
     "metadata": {},
     "output_type": "display_data"
    },
    {
     "data": {
      "application/vnd.jupyter.widget-view+json": {
       "model_id": "abbc28021ca34ea3b74f2af7f6bec0f7",
       "version_major": 2,
       "version_minor": 0
      },
      "text/plain": [
       "A Jupyter Widget"
      ]
     },
     "metadata": {},
     "output_type": "display_data"
    },
    {
     "data": {
      "application/vnd.jupyter.widget-view+json": {
       "model_id": "5f6009fea6544228908645f240689b4d",
       "version_major": 2,
       "version_minor": 0
      },
      "text/plain": [
       "A Jupyter Widget"
      ]
     },
     "metadata": {},
     "output_type": "display_data"
    },
    {
     "data": {
      "application/vnd.jupyter.widget-view+json": {
       "model_id": "18c079f73d7c479d8c9b4b54e301f4ee",
       "version_major": 2,
       "version_minor": 0
      },
      "text/plain": [
       "A Jupyter Widget"
      ]
     },
     "metadata": {},
     "output_type": "display_data"
    },
    {
     "data": {
      "application/vnd.jupyter.widget-view+json": {
       "model_id": "39bb3c60600b4ac8941eb2aa93838815",
       "version_major": 2,
       "version_minor": 0
      },
      "text/plain": [
       "A Jupyter Widget"
      ]
     },
     "metadata": {},
     "output_type": "display_data"
    },
    {
     "data": {
      "application/vnd.jupyter.widget-view+json": {
       "model_id": "f7acf9cdeccf4aab91c4700f6f97cf21",
       "version_major": 2,
       "version_minor": 0
      },
      "text/plain": [
       "A Jupyter Widget"
      ]
     },
     "metadata": {},
     "output_type": "display_data"
    },
    {
     "data": {
      "application/vnd.jupyter.widget-view+json": {
       "model_id": "93624a3cda6144dd9721e1fc7feac7c9",
       "version_major": 2,
       "version_minor": 0
      },
      "text/plain": [
       "A Jupyter Widget"
      ]
     },
     "metadata": {},
     "output_type": "display_data"
    },
    {
     "data": {
      "application/vnd.jupyter.widget-view+json": {
       "model_id": "734a139de3684268a3922161ca2289a4",
       "version_major": 2,
       "version_minor": 0
      },
      "text/plain": [
       "A Jupyter Widget"
      ]
     },
     "metadata": {},
     "output_type": "display_data"
    },
    {
     "data": {
      "application/vnd.jupyter.widget-view+json": {
       "model_id": "201130a167ec458bb88d40dfa15965c8",
       "version_major": 2,
       "version_minor": 0
      },
      "text/plain": [
       "A Jupyter Widget"
      ]
     },
     "metadata": {},
     "output_type": "display_data"
    },
    {
     "data": {
      "application/vnd.jupyter.widget-view+json": {
       "model_id": "c7a546b46e5a4aaeb1fd1cc9ee9341af",
       "version_major": 2,
       "version_minor": 0
      },
      "text/plain": [
       "A Jupyter Widget"
      ]
     },
     "metadata": {},
     "output_type": "display_data"
    },
    {
     "data": {
      "application/vnd.jupyter.widget-view+json": {
       "model_id": "963e520e993f413f9feb49422e0925e9",
       "version_major": 2,
       "version_minor": 0
      },
      "text/plain": [
       "A Jupyter Widget"
      ]
     },
     "metadata": {},
     "output_type": "display_data"
    },
    {
     "data": {
      "application/vnd.jupyter.widget-view+json": {
       "model_id": "fb54e4aa19fd4dc9a73c261c7027b365",
       "version_major": 2,
       "version_minor": 0
      },
      "text/plain": [
       "A Jupyter Widget"
      ]
     },
     "metadata": {},
     "output_type": "display_data"
    },
    {
     "data": {
      "application/vnd.jupyter.widget-view+json": {
       "model_id": "41c54cf0ec2e496f89c2b71a10e36a52",
       "version_major": 2,
       "version_minor": 0
      },
      "text/plain": [
       "A Jupyter Widget"
      ]
     },
     "metadata": {},
     "output_type": "display_data"
    },
    {
     "data": {
      "application/vnd.jupyter.widget-view+json": {
       "model_id": "1b4d748c1cf64cd99b846294912760e2",
       "version_major": 2,
       "version_minor": 0
      },
      "text/plain": [
       "A Jupyter Widget"
      ]
     },
     "metadata": {},
     "output_type": "display_data"
    },
    {
     "data": {
      "text/plain": [
       "53"
      ]
     },
     "execution_count": 5,
     "metadata": {},
     "output_type": "execute_result"
    }
   ],
   "source": [
    "current_snowball = datetime(2017, 7, 26)\n",
    "\n",
    "reload()\n",
    "query = [\n",
    "    idisplay(work_button(w))\n",
    "    for w in load_work()\n",
    "    if w.category in (\"ok\", \"snowball\")\n",
    "    if not hasattr(w, \"snowball\")\n",
    "    or w.snowball < current_snowball\n",
    "]\n",
    "len(query)"
   ]
  },
  {
   "cell_type": "markdown",
   "metadata": {},
   "source": [
    "# Other"
   ]
  },
  {
   "cell_type": "markdown",
   "metadata": {},
   "source": [
    "## WorkUnrelated\n",
    "\n",
    "Number of work unrelated to the snowballing"
   ]
  },
  {
   "cell_type": "code",
   "execution_count": 6,
   "metadata": {
    "scrolled": true
   },
   "outputs": [
    {
     "data": {
      "text/plain": [
       "1435"
      ]
     },
     "execution_count": 6,
     "metadata": {},
     "output_type": "execute_result"
    }
   ],
   "source": [
    "sum(\n",
    "    1\n",
    "    for w in load_work()\n",
    "    if w.category == \"unrelated\"\n",
    ")"
   ]
  },
  {
   "cell_type": "markdown",
   "metadata": {},
   "source": [
    "## WorkNoFile\n",
    "\n",
    "Number of work without files"
   ]
  },
  {
   "cell_type": "code",
   "execution_count": 8,
   "metadata": {
    "scrolled": true
   },
   "outputs": [
    {
     "data": {
      "text/plain": [
       "19"
      ]
     },
     "execution_count": 8,
     "metadata": {},
     "output_type": "execute_result"
    }
   ],
   "source": [
    "sum(\n",
    "    1\n",
    "    for w in load_work()\n",
    "    if w.category == \"nofile\"\n",
    ")"
   ]
  },
  {
   "cell_type": "markdown",
   "metadata": {},
   "source": [
    "## WorkLang\n",
    "\n",
    "Number of work in foreign languages"
   ]
  },
  {
   "cell_type": "code",
   "execution_count": 9,
   "metadata": {
    "scrolled": true
   },
   "outputs": [
    {
     "data": {
      "text/plain": [
       "21"
      ]
     },
     "execution_count": 9,
     "metadata": {},
     "output_type": "execute_result"
    }
   ],
   "source": [
    "sum(\n",
    "    1\n",
    "    for w in load_work()\n",
    "    if w.category == \"lang\"\n",
    ")"
   ]
  },
  {
   "cell_type": "markdown",
   "metadata": {},
   "source": [
    "# Generate numbers"
   ]
  },
  {
   "cell_type": "code",
   "execution_count": 10,
   "metadata": {},
   "outputs": [
    {
     "name": "stdout",
     "output_type": "stream",
     "text": [
      "1\n",
      "        \n",
      "2\n",
      "        \n",
      "3\n",
      "        \n",
      "4\n",
      "        \n",
      "5\n",
      "        \n",
      "6\n",
      "        \n",
      "7\n",
      "        \n",
      "8\n",
      "        \n",
      "9\n",
      "        \n",
      "10\n",
      "        \n",
      "11\n",
      "        \n",
      "12\n",
      "        \n",
      "13\n",
      "        \n",
      "14\n",
      "        \n",
      "15\n",
      "        \n",
      "16\n",
      "        \n",
      "17\n",
      "        \n",
      "18\n",
      "        \n",
      "19\n",
      "        \n",
      "20\n",
      "        \n",
      "21\n",
      "        \n",
      "22\n",
      "        \n",
      "23\n",
      "        \n",
      "24\n",
      "        \n",
      "25\n",
      "        \n",
      "26\n",
      "        \n",
      "27\n",
      "        \n",
      "28\n",
      "        \n",
      "29\n",
      "        \n",
      "30\n",
      "        \n",
      "31\n",
      "        \n",
      "32\n",
      "        \n",
      "33\n",
      "        \n",
      "34\n",
      "        \n",
      "35\n",
      "        \n",
      "36\n",
      "        \n",
      "37\n",
      "        \n",
      "38\n",
      "        \n",
      "39\n",
      "        \n",
      "40\n",
      "        \n",
      "41\n",
      "        \n",
      "42\n",
      "        \n",
      "43\n",
      "        \n",
      "44\n",
      "        \n",
      "45\n",
      "        \n",
      "46\n",
      "        \n",
      "47\n",
      "        \n",
      "48\n",
      "        \n",
      "49\n",
      "        \n",
      "50\n",
      "        \n",
      "51\n",
      "        \n",
      "52\n",
      "        \n",
      "53\n",
      "        \n",
      "54\n",
      "        \n",
      "55\n",
      "        \n",
      "56\n",
      "        \n",
      "57\n",
      "        \n",
      "58\n",
      "        \n",
      "59\n",
      "        \n",
      "60\n",
      "        \n",
      "61\n",
      "        \n",
      "62\n",
      "        \n",
      "63\n",
      "        \n",
      "64\n",
      "        \n",
      "65\n",
      "        \n",
      "66\n",
      "        \n",
      "67\n",
      "        \n",
      "68\n",
      "        \n",
      "69\n",
      "        \n",
      "70\n",
      "        \n",
      "71\n",
      "        \n",
      "72\n",
      "        \n",
      "73\n",
      "        \n",
      "74\n",
      "        \n",
      "75\n",
      "        \n"
     ]
    }
   ],
   "source": [
    "for i in range(1, 76):\n",
    "    print(i)\n",
    "    print(\"        \")"
   ]
  },
  {
   "cell_type": "markdown",
   "metadata": {},
   "source": [
    "# Queries"
   ]
  },
  {
   "cell_type": "code",
   "execution_count": 15,
   "metadata": {},
   "outputs": [
    {
     "data": {
      "text/plain": [
       "[]"
      ]
     },
     "execution_count": 15,
     "metadata": {},
     "output_type": "execute_result"
    }
   ],
   "source": [
    "[(k, 'forward' if hasattr(w, 'scholar') else '', w.todo if hasattr(w, 'todo') else '') for k, w in load_work_map_all_years() if w.category==\"ok\"]"
   ]
  },
  {
   "cell_type": "code",
   "execution_count": 16,
   "metadata": {},
   "outputs": [
    {
     "data": {
      "text/plain": [
       "[('feitelson2015a',\n",
       "  '[concepts] describes repretition, replication, reproduction, variation, and corroboration'),\n",
       " ('missier2013a',\n",
       "  '[repro][xx] talks about workflow decay and reprodutibility'),\n",
       " ('davison2012a', '[repro][x] concepts about reproducibility'),\n",
       " ('brammer2011a', '[related_work] VM for reproducibilitty'),\n",
       " ('hanson2011a',\n",
       "  '[repro][x] Motivates the need for transparency of data for reproducibility'),\n",
       " ('baggerly2009a', '[repro][x] Presents the need of reproducibility'),\n",
       " ('donoho2009a', '[repro][x] Motivates the need for reproducibility'),\n",
       " ('drummond2009a',\n",
       "  '[repro][x] Distinction between reproducibility and replicability'),\n",
       " ('ioannidis2005a', '[repro][x] Presents unreproducible research'),\n",
       " ('buckheit1995a',\n",
       "  '[repro][x] Presents many situations that motivates the need for reproducibility'),\n",
       " ('claerbout1992a', '[repro][x] motivates the need for reproducibility')]"
      ]
     },
     "execution_count": 16,
     "metadata": {},
     "output_type": "execute_result"
    }
   ],
   "source": [
    "[(k, w.star) for k, w in load_work_map_all_years()\n",
    " if \"repro\" in getattr(w, 'star', '')]"
   ]
  },
  {
   "cell_type": "code",
   "execution_count": null,
   "metadata": {
    "collapsed": true
   },
   "outputs": [],
   "source": []
  }
 ],
 "metadata": {
  "kernelspec": {
   "display_name": "Python 3",
   "language": "python",
   "name": "python3"
  },
  "language_info": {
   "codemirror_mode": {
    "name": "ipython",
    "version": 3
   },
   "file_extension": ".py",
   "mimetype": "text/x-python",
   "name": "python",
   "nbconvert_exporter": "python",
   "pygments_lexer": "ipython3",
   "version": "3.6.1"
  },
  "toc": {
   "nav_menu": {
    "height": "12px",
    "width": "252px"
   },
   "navigate_menu": true,
   "number_sections": true,
   "sideBar": true,
   "threshold": 4,
   "toc_cell": false,
   "toc_section_display": "block",
   "toc_window_display": false
  },
  "widgets": {
   "state": {
    "0dd0c03f79d447518bac81d38e6c6b02": {
     "views": [
      {
       "cell_index": 9
      }
     ]
    },
    "1471634fac2740fe9b7ee276eaa89be3": {
     "views": [
      {
       "cell_index": 9
      }
     ]
    },
    "169159e21ecd4f479911e808edbb9f5c": {
     "views": [
      {
       "cell_index": 9
      }
     ]
    },
    "1be435f2a5504b3bbe137f5a9c045dd3": {
     "views": [
      {
       "cell_index": 9
      }
     ]
    },
    "1dc091bc6bc64d6fa9025ee96d06e263": {
     "views": [
      {
       "cell_index": 7
      }
     ]
    },
    "1efedc0928df4e5188ae9ec49af68ee1": {
     "views": [
      {
       "cell_index": 9
      }
     ]
    },
    "25ee7f75bdb34a899ae6547aa5f90774": {
     "views": [
      {
       "cell_index": 9
      }
     ]
    },
    "2a580eddc9f24b09b69e3aa55f67ff72": {
     "views": [
      {
       "cell_index": 9
      }
     ]
    },
    "2b71ad0717dc4ac29141424426c00013": {
     "views": [
      {
       "cell_index": 9
      }
     ]
    },
    "2d52fa43d72e4384adee4d6750747a7f": {
     "views": [
      {
       "cell_index": 9
      }
     ]
    },
    "2eb148394ca04fa5aea64e7261c44980": {
     "views": [
      {
       "cell_index": 9
      }
     ]
    },
    "2efcaf89da4045e5b314b870da50aad4": {
     "views": [
      {
       "cell_index": 9
      }
     ]
    },
    "33e7dd8807304f3ca6d7bfff3b0c9124": {
     "views": [
      {
       "cell_index": 9
      }
     ]
    },
    "34ad7fc39d86468db492e133cf1bc2cd": {
     "views": [
      {
       "cell_index": 9
      }
     ]
    },
    "3ad00c3d36be4a5a836499e5c9405b46": {
     "views": [
      {
       "cell_index": 9
      }
     ]
    },
    "3bc6f23158ea45daad42554551c11051": {
     "views": [
      {
       "cell_index": 9
      }
     ]
    },
    "3c99dd4e2986474dae1e0b942d2da077": {
     "views": [
      {
       "cell_index": 9
      }
     ]
    },
    "4657303cb8f246c29d6e06e372ec1fd9": {
     "views": [
      {
       "cell_index": 9
      }
     ]
    },
    "598cecfc4d234a769afc8dfd24c04d74": {
     "views": [
      {
       "cell_index": 9
      }
     ]
    },
    "602906320e614d2bbab44c362513f744": {
     "views": [
      {
       "cell_index": 9
      }
     ]
    },
    "6645239a7f6e4514ae2301283c5a395a": {
     "views": [
      {
       "cell_index": 9
      }
     ]
    },
    "6a300519deae412786e343a6e6f21af2": {
     "views": [
      {
       "cell_index": 9
      }
     ]
    },
    "72a6866fff0d40fe8e110483e71b0f64": {
     "views": [
      {
       "cell_index": 9
      }
     ]
    },
    "73bb07f6cee840418ab4cc66e60b28ba": {
     "views": [
      {
       "cell_index": 9
      }
     ]
    },
    "740e45f0afb24c739ff9128c8b1e089b": {
     "views": [
      {
       "cell_index": 9
      }
     ]
    },
    "774661d7ad014793b526685c5694b7d0": {
     "views": [
      {
       "cell_index": 9
      }
     ]
    },
    "7e801d2432da41f6a7aba34d5fc63132": {
     "views": [
      {
       "cell_index": 9
      }
     ]
    },
    "8bf15f46d3364351a09668d446ea70f7": {
     "views": [
      {
       "cell_index": 9
      }
     ]
    },
    "8cf718ce5c784575a8fa764f75e1a641": {
     "views": [
      {
       "cell_index": 9
      }
     ]
    },
    "934f95f5c4f64854b20bb0acdacf1b79": {
     "views": [
      {
       "cell_index": 9
      }
     ]
    },
    "9bcb49a3d5624013acaa02066fdb5141": {
     "views": [
      {
       "cell_index": 9
      }
     ]
    },
    "9fb8eda2cbe041e59afe2a1095030b80": {
     "views": [
      {
       "cell_index": 9
      }
     ]
    },
    "a2a34424ed4b4b5d819f434dea77ccaf": {
     "views": [
      {
       "cell_index": 9
      }
     ]
    },
    "a6137590ef354ee492912641e37265a4": {
     "views": [
      {
       "cell_index": 9
      }
     ]
    },
    "a6efcde26ff844338cb8914dcfdffd67": {
     "views": [
      {
       "cell_index": 9
      }
     ]
    },
    "a8b85432db544ce0b08b47604ad57f4a": {
     "views": [
      {
       "cell_index": 9
      }
     ]
    },
    "ad6f0a5d23b4403f8342d2dd4ea669ff": {
     "views": [
      {
       "cell_index": 9
      }
     ]
    },
    "b0a706387a8f44c59b7c307e1bc1ec28": {
     "views": [
      {
       "cell_index": 9
      }
     ]
    },
    "b56576a2af4142cab7261be87783b8d6": {
     "views": [
      {
       "cell_index": 9
      }
     ]
    },
    "b5962916b7244181977b864d04ef16a1": {
     "views": [
      {
       "cell_index": 9
      }
     ]
    },
    "b6d4b3d933764fc4ae4831132cf3488a": {
     "views": [
      {
       "cell_index": 9
      }
     ]
    },
    "b9668c00737b4ce9bc84eb661aa38398": {
     "views": [
      {
       "cell_index": 9
      }
     ]
    },
    "c0b9d6307fec4675bdeea2405523d206": {
     "views": [
      {
       "cell_index": 9
      }
     ]
    },
    "c244bba8b72c44c3ad80956602f77797": {
     "views": [
      {
       "cell_index": 9
      }
     ]
    },
    "cf87efc726194968b0d2bd639149e53d": {
     "views": [
      {
       "cell_index": 9
      }
     ]
    },
    "d7c5f9510cd949e5b9574fddc0815179": {
     "views": [
      {
       "cell_index": 9
      }
     ]
    },
    "d986674bc65345e1b3feb4a9ae8bd3d7": {
     "views": [
      {
       "cell_index": 9
      }
     ]
    },
    "da81d878489f463a8f4a80017d217659": {
     "views": [
      {
       "cell_index": 9
      }
     ]
    },
    "dd4b0f71e6e242c9bfae9a8e2f731dbc": {
     "views": [
      {
       "cell_index": 9
      }
     ]
    },
    "e083564ee24340bbaee8098bef58c15f": {
     "views": [
      {
       "cell_index": 9
      }
     ]
    },
    "e2dae4f9074b4cc5a85b18ee2804be9c": {
     "views": [
      {
       "cell_index": 3
      }
     ]
    },
    "e6406778d6b645948e6adbd43a01b968": {
     "views": [
      {
       "cell_index": 9
      }
     ]
    },
    "ed92c27c5fee4ce1be3e218773f96237": {
     "views": [
      {
       "cell_index": 9
      }
     ]
    },
    "f7185168f349421ca1bc22a3e804cc7c": {
     "views": [
      {
       "cell_index": 9
      }
     ]
    },
    "fb8876c18d8b43c19e889f7f8bdc6f56": {
     "views": [
      {
       "cell_index": 9
      }
     ]
    },
    "fdfe211a29dc412eb1449fcbf0dcffb5": {
     "views": [
      {
       "cell_index": 5
      }
     ]
    }
   },
   "version": "1.2.0"
  }
 },
 "nbformat": 4,
 "nbformat_minor": 2
}
