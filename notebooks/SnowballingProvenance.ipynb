{
 "cells": [
  {
   "cell_type": "code",
   "execution_count": 1,
   "metadata": {
    "collapsed": true
   },
   "outputs": [],
   "source": [
    "import os, sys\n",
    "sys.path.insert(1, os.path.join(sys.path[0], '..'))\n",
    "import database\n",
    "from snowballing.operations import reload, work_by_varname\n",
    "from snowballing.snowballing import snowballing, create_provenance, log_to_provn\n",
    "reload()"
   ]
  },
  {
   "cell_type": "code",
   "execution_count": 2,
   "metadata": {
    "collapsed": false
   },
   "outputs": [
    {
     "data": {
      "text/plain": [
       "1345"
      ]
     },
     "execution_count": 2,
     "metadata": {},
     "output_type": "execute_result"
    }
   ],
   "source": [
    "reload()\n",
    "frontier = {work_by_varname(x) for x in (\n",
    "\"dey2015a\", \"frew2008a\", \"frew2008b\", \"huq2013a\", \"lerner2014a\",\n",
    "\"macko2012a\", \"mcphillips2015a\", \"mcphillips2015b\", \"murta2014a\"\n",
    ")}\n",
    "filter_function = lambda x: x.category == \"snowball\"\n",
    "frontier, log, visited = create_provenance(\n",
    "    frontier, filter_function, backward_first=True\n",
    ")\n",
    "\n",
    "log\n",
    "len(visited)"
   ]
  },
  {
   "cell_type": "code",
   "execution_count": 3,
   "metadata": {
    "collapsed": false
   },
   "outputs": [
    {
     "data": {
      "text/plain": [
       "[Step(name='start', new_references=9, new_related=9, total_visited=9, total_related=9),\n",
       " Step(name='backward', new_references=119, new_related=10, total_visited=128, total_related=19),\n",
       " Step(name='forward', new_references=360, new_related=28, total_visited=488, total_related=47),\n",
       " Step(name='backward', new_references=675, new_related=3, total_visited=1163, total_related=50),\n",
       " Step(name='forward', new_references=110, new_related=3, total_visited=1273, total_related=53),\n",
       " Step(name='backward', new_references=68, new_related=0, total_visited=1341, total_related=53),\n",
       " Step(name='forward', new_references=4, new_related=0, total_visited=1345, total_related=53)]"
      ]
     },
     "execution_count": 3,
     "metadata": {},
     "output_type": "execute_result"
    }
   ],
   "source": [
    "log"
   ]
  },
  {
   "cell_type": "code",
   "execution_count": 4,
   "metadata": {
    "collapsed": false
   },
   "outputs": [],
   "source": [
    "with open(\"output/snowballing.provn\", \"w\") as provn:\n",
    "    provn.write(log_to_provn(log))"
   ]
  },
  {
   "cell_type": "code",
   "execution_count": 13,
   "metadata": {
    "collapsed": false
   },
   "outputs": [
    {
     "name": "stderr",
     "output_type": "stream",
     "text": [
      "'provconvert.bat' is not recognized as an internal or external command,\n",
      "operable program or batch file.\n"
     ]
    }
   ],
   "source": [
    "!provconvert.bat -infile snowballing.provn -outfile snowballing.dot"
   ]
  },
  {
   "cell_type": "code",
   "execution_count": 5,
   "metadata": {
    "collapsed": true
   },
   "outputs": [],
   "source": [
    "with open(\"output/snowballing.dot\", \"r\") as prov_dot:\n",
    "    text = prov_dot.read().replace('rankdir=\"BT\";', 'rankdir=\"RL\";')\n",
    "with open(\"output/snowballing.dot\", \"w\") as prov_dot:\n",
    "    prov_dot.write(text)"
   ]
  },
  {
   "cell_type": "code",
   "execution_count": 7,
   "metadata": {
    "collapsed": false
   },
   "outputs": [],
   "source": [
    "!dot -Tpng output/snowballing.dot -ooutput/snowballing.png\n",
    "!dot -Tsvg output/snowballing.dot -ooutput/snowballing.svg\n",
    "!inkscape -D -z --file=output/snowballing.svg --export-pdf=../../csur/figs/snowballing.pdf"
   ]
  },
  {
   "cell_type": "code",
   "execution_count": 8,
   "metadata": {
    "collapsed": false
   },
   "outputs": [
    {
     "data": {
      "text/plain": [
       "1345"
      ]
     },
     "execution_count": 8,
     "metadata": {},
     "output_type": "execute_result"
    }
   ],
   "source": [
    "len(visited)"
   ]
  },
  {
   "cell_type": "code",
   "execution_count": 9,
   "metadata": {
    "collapsed": false
   },
   "outputs": [
    {
     "data": {
      "text/plain": [
       "53"
      ]
     },
     "execution_count": 9,
     "metadata": {},
     "output_type": "execute_result"
    }
   ],
   "source": [
    "len([x for x in visited if x.category in {\"snowball\"}])"
   ]
  },
  {
   "cell_type": "code",
   "execution_count": 11,
   "metadata": {
    "collapsed": false
   },
   "outputs": [
    {
     "data": {
      "text/plain": [
       "27"
      ]
     },
     "execution_count": 11,
     "metadata": {},
     "output_type": "execute_result"
    }
   ],
   "source": [
    "from snowballing.approaches import get_approaches\n",
    "all_approaches = get_approaches()\n",
    "script = [(a, m) for a, m in all_approaches if not m[\"binary\"]]\n",
    "binary = [(a, m) for a, m in all_approaches if m[\"binary\"]]\n",
    "len(script)"
   ]
  },
  {
   "cell_type": "code",
   "execution_count": 12,
   "metadata": {
    "collapsed": false
   },
   "outputs": [
    {
     "data": {
      "text/plain": [
       "9"
      ]
     },
     "execution_count": 12,
     "metadata": {},
     "output_type": "execute_result"
    }
   ],
   "source": [
    "len([(x, x.year) for x in visited\n",
    "     if x.category in {\"nofile\"}\n",
    "     if x.place.name != \"Tech Report\"\n",
    "     if x.place.name != \"Book\"\n",
    "     if x.place.name != \"Patent\"\n",
    "     if x.display != x.place.acronym\n",
    "    ])"
   ]
  },
  {
   "cell_type": "code",
   "execution_count": 13,
   "metadata": {
    "collapsed": false
   },
   "outputs": [
    {
     "data": {
      "text/plain": [
       "20"
      ]
     },
     "execution_count": 13,
     "metadata": {},
     "output_type": "execute_result"
    }
   ],
   "source": [
    "len([x for x in visited if x.category in {\"lang\"}])"
   ]
  },
  {
   "cell_type": "code",
   "execution_count": 14,
   "metadata": {
    "collapsed": false
   },
   "outputs": [
    {
     "data": {
      "text/plain": [
       "138"
      ]
     },
     "execution_count": 14,
     "metadata": {},
     "output_type": "execute_result"
    }
   ],
   "source": [
    "len([x for x in visited if x.category in {\"site\"}])"
   ]
  },
  {
   "cell_type": "code",
   "execution_count": 15,
   "metadata": {
    "collapsed": false
   },
   "outputs": [
    {
     "data": {
      "text/plain": [
       "70"
      ]
     },
     "execution_count": 15,
     "metadata": {},
     "output_type": "execute_result"
    }
   ],
   "source": [
    "len([x for x in visited\n",
    "     if x.place.name == \"Tech Report\"\n",
    "    ])"
   ]
  },
  {
   "cell_type": "code",
   "execution_count": 16,
   "metadata": {
    "collapsed": false
   },
   "outputs": [
    {
     "data": {
      "text/plain": [
       "65"
      ]
     },
     "execution_count": 16,
     "metadata": {},
     "output_type": "execute_result"
    }
   ],
   "source": [
    "len([x for x in visited\n",
    "     if x.place.name == \"Book\"\n",
    "    ])"
   ]
  },
  {
   "cell_type": "code",
   "execution_count": 17,
   "metadata": {
    "collapsed": false
   },
   "outputs": [
    {
     "data": {
      "text/plain": [
       "{'binary ok',\n",
       " 'binarysnowball',\n",
       " 'lang',\n",
       " 'nofile',\n",
       " 'site',\n",
       " 'snowball',\n",
       " 'unrelated'}"
      ]
     },
     "execution_count": 17,
     "metadata": {},
     "output_type": "execute_result"
    }
   ],
   "source": [
    "{x.category for x in visited}"
   ]
  },
  {
   "cell_type": "code",
   "execution_count": 18,
   "metadata": {
    "collapsed": false,
    "scrolled": true
   },
   "outputs": [
    {
     "data": {
      "text/plain": [
       "[(2012,\n",
       "  'Ai, Yong and Ke, Jie and Yi, Shijie',\n",
       "  'Mapping Structure and Access Control on Information Resource View',\n",
       "  'Advances in Information Sciences and Service Sciences',\n",
       "  'researchgate'),\n",
       " (2015,\n",
       "  'Sultana, Salmin and Bertino, Elisa',\n",
       "  'A distributed system for the management of fine-grained provenance',\n",
       "  'Journal of Database Management',\n",
       "  'done'),\n",
       " (2009,\n",
       "  'Groves, Trish',\n",
       "  'Managing UK research data for future use',\n",
       "  'British Medical Journal',\n",
       "  'done'),\n",
       " (1989,\n",
       "  'Harner, E James',\n",
       "  'Interactively developing models based on the exponential family',\n",
       "  'Symposium on the Interface of Computing Science and Statistics',\n",
       "  'wont'),\n",
       " (2006,\n",
       "  \"Millman, K Jarrod and D\\x92'Esposito, Mark\",\n",
       "  'Data and Analysis Management for Functional Magnetic Resonance Imaging Studies',\n",
       "  'International Advanced Database Conference',\n",
       "  'done'),\n",
       " (1983,\n",
       "  'R.A. BECKER',\n",
       "  'poster presentation',\n",
       "  'American Statistical Association meetings',\n",
       "  'wont'),\n",
       " (1983,\n",
       "  'Sheil, Beau',\n",
       "  'Environments for exploratory programming',\n",
       "  'Datamation',\n",
       "  'wont'),\n",
       " (2014,\n",
       "  'Kandl, Thomas and Khan, Nawaz',\n",
       "  'Trusted information supply chain framework in clinical studies',\n",
       "  'Advanced Science Letters',\n",
       "  'researchgate'),\n",
       " (1984,\n",
       "  'Nicholson, WL and Carr, DB and Cowley, PJ and Whiting, MA',\n",
       "  'The role of environments in managing data analysis',\n",
       "  'American Statistical Association meetings',\n",
       "  'researchgate')]"
      ]
     },
     "execution_count": 18,
     "metadata": {},
     "output_type": "execute_result"
    }
   ],
   "source": [
    "[(x.year, x.authors, x.name, x.place.name, x.request) for x in visited\n",
    " if x.category in {\"nofile\"}\n",
    " if x.place.name != \"Tech Report\"\n",
    " if x.place.name != \"Book\"\n",
    " if x.place.name != \"Patent\"\n",
    " if x.display != x.place.acronym]"
   ]
  },
  {
   "cell_type": "code",
   "execution_count": 19,
   "metadata": {
    "collapsed": false
   },
   "outputs": [
    {
     "data": {
      "text/plain": [
       "9"
      ]
     },
     "execution_count": 19,
     "metadata": {},
     "output_type": "execute_result"
    }
   ],
   "source": [
    "len(_)"
   ]
  },
  {
   "cell_type": "code",
   "execution_count": null,
   "metadata": {
    "collapsed": true
   },
   "outputs": [],
   "source": []
  }
 ],
 "metadata": {
  "kernelspec": {
   "display_name": "Python 3",
   "language": "python",
   "name": "python3"
  },
  "language_info": {
   "codemirror_mode": {
    "name": "ipython",
    "version": 3
   },
   "file_extension": ".py",
   "mimetype": "text/x-python",
   "name": "python",
   "nbconvert_exporter": "python",
   "pygments_lexer": "ipython3",
   "version": "3.6.0"
  },
  "toc": {
   "nav_menu": {
    "height": "12px",
    "width": "252px"
   },
   "navigate_menu": true,
   "number_sections": true,
   "sideBar": true,
   "threshold": 4,
   "toc_cell": false,
   "toc_section_display": "block",
   "toc_window_display": false
  }
 },
 "nbformat": 4,
 "nbformat_minor": 0
}
