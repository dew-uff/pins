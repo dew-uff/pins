{
 "cells": [
  {
   "cell_type": "code",
   "execution_count": 7,
   "metadata": {
    "collapsed": true,
    "scrolled": false
   },
   "outputs": [],
   "source": [
    "import os, sys\n",
    "sys.path.insert(1, os.path.join(sys.path[0], '..'))\n",
    "import database\n",
    "from graph import GoalGraph, FullGraph\n",
    "from snowballing.operations import reload, load_work\n",
    "reload()"
   ]
  },
  {
   "cell_type": "code",
   "execution_count": 11,
   "metadata": {
    "scrolled": false
   },
   "outputs": [
    {
     "data": {
      "application/vnd.jupyter.widget-view+json": {
       "model_id": "d1af268e06b54737b528bd54070ae7d8",
       "version_major": 2,
       "version_minor": 0
      },
      "text/plain": [
       "A Jupyter Widget"
      ]
     },
     "metadata": {},
     "output_type": "display_data"
    }
   ],
   "source": [
    "GoalGraph(\n",
    "    \"selected\",\n",
    "#     filter_out=\"noworkflow\",\n",
    "    r=27, margin=71, dist_x=85, dist_y=80,\n",
    "    letters=7, places=True, max_by_year=5,\n",
    "    delayed=True, margin_left=80, references=False,\n",
    ")"
   ]
  },
  {
   "cell_type": "code",
   "execution_count": 12,
   "metadata": {
    "collapsed": true
   },
   "outputs": [],
   "source": [
    "!inkscape -D -z --file=output/selected.svg --export-pdf=../../csur/figs/citationgraph.pdf"
   ]
  },
  {
   "cell_type": "code",
   "execution_count": 13,
   "metadata": {
    "collapsed": true
   },
   "outputs": [],
   "source": [
    "from pathlib import Path\n",
    "Path(\"output/selected.html\").replace(Path(\"..\") / \"docs\" / \"selected.html\")\n",
    "Path(\"output/selected.svg\").replace(Path(\"..\") / \"docs\" / \"data\" / \"selected.svg\")"
   ]
  },
  {
   "cell_type": "code",
   "execution_count": 5,
   "metadata": {
    "scrolled": false
   },
   "outputs": [
    {
     "data": {
      "application/vnd.jupyter.widget-view+json": {
       "model_id": "fa5ce8fa6f6e407197f19a88e1140aeb",
       "version_major": 2,
       "version_minor": 0
      },
      "text/plain": [
       "A Jupyter Widget"
      ]
     },
     "metadata": {},
     "output_type": "display_data"
    }
   ],
   "source": [
    "FullGraph(\n",
    "    \"graph\",\n",
    "    r=27, margin=71, dist_x=80, dist_y=120,\n",
    "    letters=7, places=True, max_by_year=0,\n",
    "    delayed=True, margin_left=80,\n",
    ")"
   ]
  },
  {
   "cell_type": "code",
   "execution_count": 6,
   "metadata": {
    "collapsed": true
   },
   "outputs": [],
   "source": [
    "Path(\"output/graph.html\").replace(Path(\"..\") / \"docs\" / \"graph.html\")\n",
    "Path(\"output/graph.svg\").replace(Path(\"..\") / \"docs\" / \"data\" / \"graph.svg\")"
   ]
  }
 ],
 "metadata": {
  "kernelspec": {
   "display_name": "Python 3",
   "language": "python",
   "name": "python3"
  },
  "language_info": {
   "codemirror_mode": {
    "name": "ipython",
    "version": 3
   },
   "file_extension": ".py",
   "mimetype": "text/x-python",
   "name": "python",
   "nbconvert_exporter": "python",
   "pygments_lexer": "ipython3",
   "version": "3.6.1"
  },
  "toc": {
   "nav_menu": {
    "height": "12px",
    "width": "252px"
   },
   "number_sections": true,
   "sideBar": true,
   "skip_h1_title": false,
   "title_cell": "Table of Contents",
   "title_sidebar": "Contents",
   "toc_cell": false,
   "toc_position": {},
   "toc_section_display": "block",
   "toc_window_display": false
  },
  "widgets": {
   "state": {
    "6f68ed456d4b46a7b1dc512b9fa17b8a": {
     "views": [
      {
       "cell_index": 4
      }
     ]
    },
    "7f961e022b8b4e3d8657efc5af3ce917": {
     "views": [
      {
       "cell_index": 1
      }
     ]
    }
   },
   "version": "1.2.0"
  }
 },
 "nbformat": 4,
 "nbformat_minor": 1
}
