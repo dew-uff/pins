{
 "cells": [
  {
   "cell_type": "code",
   "execution_count": 1,
   "metadata": {
    "collapsed": false
   },
   "outputs": [
    {
     "data": {
      "text/plain": [
       "27"
      ]
     },
     "execution_count": 1,
     "metadata": {},
     "output_type": "execute_result"
    }
   ],
   "source": [
    "import os, sys, re\n",
    "from functools import partial\n",
    "\n",
    "import pandas as pd\n",
    "import numpy as np\n",
    "\n",
    "from bibtexparser.latexenc import string_to_latex\n",
    "\n",
    "sys.path.insert(1, os.path.join(sys.path[0], '..'))\n",
    "\n",
    "import database\n",
    "from snowballing.operations import load_work_map_all_years, work_to_bibtex, reload\n",
    "from snowballing.operations import match_bibtex_to_work\n",
    "from snowballing.approaches import get_approaches, name, wlatex_name, wcitea\n",
    "reload()\n",
    "\n",
    "all_approaches = get_approaches()\n",
    "script = [(a, m) for a, m in all_approaches if not m[\"binary\"]]\n",
    "binary = [(a, m) for a, m in all_approaches if m[\"binary\"]]\n",
    "\n",
    "approaches = [a for a, m in script]\n",
    "\n",
    "len(script)"
   ]
  },
  {
   "cell_type": "code",
   "execution_count": 2,
   "metadata": {
    "collapsed": false
   },
   "outputs": [
    {
     "data": {
      "text/plain": [
       "{Reproducibility, Management, Comprehension, Caching, Framework}"
      ]
     },
     "execution_count": 2,
     "metadata": {},
     "output_type": "execute_result"
    }
   ],
   "source": [
    "{y for a, m in script for y in m[\"supports\"]}"
   ]
  },
  {
   "cell_type": "code",
   "execution_count": 3,
   "metadata": {
    "collapsed": false
   },
   "outputs": [],
   "source": [
    "from database.groups import YES, NO\n",
    "from database.groups import CACHE, COMPREHENSION, FRAMEWORK, MANAGEMENT, REPRODUCIBILITY, SECURITY\n",
    "columns = [CACHE, COMPREHENSION, FRAMEWORK, MANAGEMENT, REPRODUCIBILITY, SECURITY]\n",
    "\n",
    "name = lambda x: x.display.replace(\"  \", \"\")\n",
    "\n",
    "header = [[\"Approach\", \"Main goal\"] + [column.value for column in columns]]\n",
    "category_table = (\n",
    "    header +\n",
    "    [\n",
    "        [name(approach), approach._meta[0][\"goal\"].value] +\n",
    "        [\n",
    "            (YES if column in approach._meta[0][\"supports\"] else NO).value\n",
    "             for column in columns\n",
    "        ]\n",
    "        for approach in approaches\n",
    "#        if name(approach) not in {\"noWorkflow\", \"YW*NW\"}\n",
    "    ]\n",
    ")"
   ]
  },
  {
   "cell_type": "code",
   "execution_count": 4,
   "metadata": {
    "collapsed": false
   },
   "outputs": [
    {
     "data": {
      "text/html": [
       "<div>\n",
       "<table border=\"1\" class=\"dataframe\">\n",
       "  <thead>\n",
       "    <tr style=\"text-align: right;\">\n",
       "      <th></th>\n",
       "      <th>Main goal</th>\n",
       "      <th>Caching</th>\n",
       "      <th>Comprehension</th>\n",
       "      <th>Framework</th>\n",
       "      <th>Management</th>\n",
       "      <th>Reproducibility</th>\n",
       "      <th>Security</th>\n",
       "    </tr>\n",
       "  </thead>\n",
       "  <tbody>\n",
       "    <tr>\n",
       "      <th>Astro-WISE</th>\n",
       "      <td>Framework</td>\n",
       "      <td>✓</td>\n",
       "      <td>✓</td>\n",
       "      <td>✓</td>\n",
       "      <td>✗</td>\n",
       "      <td>✓</td>\n",
       "      <td>✗</td>\n",
       "    </tr>\n",
       "    <tr>\n",
       "      <th>Becker and Chambers</th>\n",
       "      <td>Comprehension</td>\n",
       "      <td>✗</td>\n",
       "      <td>✓</td>\n",
       "      <td>✗</td>\n",
       "      <td>✗</td>\n",
       "      <td>✓</td>\n",
       "      <td>✗</td>\n",
       "    </tr>\n",
       "    <tr>\n",
       "      <th>Bochner, Gude, and Schreiber</th>\n",
       "      <td>Comprehension</td>\n",
       "      <td>✗</td>\n",
       "      <td>✓</td>\n",
       "      <td>✓</td>\n",
       "      <td>✗</td>\n",
       "      <td>✗</td>\n",
       "      <td>✗</td>\n",
       "    </tr>\n",
       "    <tr>\n",
       "      <th>CPL</th>\n",
       "      <td>Framework</td>\n",
       "      <td>✗</td>\n",
       "      <td>✓</td>\n",
       "      <td>✓</td>\n",
       "      <td>✗</td>\n",
       "      <td>✗</td>\n",
       "      <td>✗</td>\n",
       "    </tr>\n",
       "    <tr>\n",
       "      <th>CXXR</th>\n",
       "      <td>Comprehension</td>\n",
       "      <td>✗</td>\n",
       "      <td>✓</td>\n",
       "      <td>✗</td>\n",
       "      <td>✗</td>\n",
       "      <td>✗</td>\n",
       "      <td>✗</td>\n",
       "    </tr>\n",
       "    <tr>\n",
       "      <th>Datatrack</th>\n",
       "      <td>Management</td>\n",
       "      <td>✗</td>\n",
       "      <td>✓</td>\n",
       "      <td>✗</td>\n",
       "      <td>✓</td>\n",
       "      <td>✓</td>\n",
       "      <td>✗</td>\n",
       "    </tr>\n",
       "    <tr>\n",
       "      <th>ES3</th>\n",
       "      <td>Comprehension</td>\n",
       "      <td>✗</td>\n",
       "      <td>✓</td>\n",
       "      <td>✗</td>\n",
       "      <td>✗</td>\n",
       "      <td>✗</td>\n",
       "      <td>✗</td>\n",
       "    </tr>\n",
       "    <tr>\n",
       "      <th>ESSW</th>\n",
       "      <td>Management</td>\n",
       "      <td>✗</td>\n",
       "      <td>✓</td>\n",
       "      <td>✗</td>\n",
       "      <td>✓</td>\n",
       "      <td>✗</td>\n",
       "      <td>✗</td>\n",
       "    </tr>\n",
       "    <tr>\n",
       "      <th>IncPy</th>\n",
       "      <td>Caching</td>\n",
       "      <td>✓</td>\n",
       "      <td>✗</td>\n",
       "      <td>✗</td>\n",
       "      <td>✗</td>\n",
       "      <td>✗</td>\n",
       "      <td>✗</td>\n",
       "    </tr>\n",
       "    <tr>\n",
       "      <th>Lancet</th>\n",
       "      <td>Reproducibility</td>\n",
       "      <td>✗</td>\n",
       "      <td>✓</td>\n",
       "      <td>✗</td>\n",
       "      <td>✓</td>\n",
       "      <td>✓</td>\n",
       "      <td>✗</td>\n",
       "    </tr>\n",
       "    <tr>\n",
       "      <th>Magni</th>\n",
       "      <td>Reproducibility</td>\n",
       "      <td>✗</td>\n",
       "      <td>✗</td>\n",
       "      <td>✓</td>\n",
       "      <td>✗</td>\n",
       "      <td>✓</td>\n",
       "      <td>✗</td>\n",
       "    </tr>\n",
       "    <tr>\n",
       "      <th>Michaelides et al.</th>\n",
       "      <td>Reproducibility</td>\n",
       "      <td>✗</td>\n",
       "      <td>✓</td>\n",
       "      <td>✗</td>\n",
       "      <td>✗</td>\n",
       "      <td>✓</td>\n",
       "      <td>✗</td>\n",
       "    </tr>\n",
       "    <tr>\n",
       "      <th>noWorkflow</th>\n",
       "      <td>Comprehension</td>\n",
       "      <td>✗</td>\n",
       "      <td>✓</td>\n",
       "      <td>✗</td>\n",
       "      <td>✓</td>\n",
       "      <td>✓</td>\n",
       "      <td>✗</td>\n",
       "    </tr>\n",
       "    <tr>\n",
       "      <th>Provenance Curious</th>\n",
       "      <td>Comprehension</td>\n",
       "      <td>✗</td>\n",
       "      <td>✓</td>\n",
       "      <td>✗</td>\n",
       "      <td>✗</td>\n",
       "      <td>✗</td>\n",
       "      <td>✗</td>\n",
       "    </tr>\n",
       "    <tr>\n",
       "      <th>pypet</th>\n",
       "      <td>Management</td>\n",
       "      <td>✗</td>\n",
       "      <td>✗</td>\n",
       "      <td>✗</td>\n",
       "      <td>✓</td>\n",
       "      <td>✗</td>\n",
       "      <td>✗</td>\n",
       "    </tr>\n",
       "    <tr>\n",
       "      <th>RDataTracker</th>\n",
       "      <td>Comprehension</td>\n",
       "      <td>✗</td>\n",
       "      <td>✓</td>\n",
       "      <td>✗</td>\n",
       "      <td>✗</td>\n",
       "      <td>✗</td>\n",
       "      <td>✗</td>\n",
       "    </tr>\n",
       "    <tr>\n",
       "      <th>Sacred</th>\n",
       "      <td>Reproducibility</td>\n",
       "      <td>✗</td>\n",
       "      <td>✓</td>\n",
       "      <td>✗</td>\n",
       "      <td>✓</td>\n",
       "      <td>✓</td>\n",
       "      <td>✗</td>\n",
       "    </tr>\n",
       "    <tr>\n",
       "      <th>SisGExp</th>\n",
       "      <td>Management</td>\n",
       "      <td>✗</td>\n",
       "      <td>✓</td>\n",
       "      <td>✗</td>\n",
       "      <td>✓</td>\n",
       "      <td>✓</td>\n",
       "      <td>✗</td>\n",
       "    </tr>\n",
       "    <tr>\n",
       "      <th>StarFlow</th>\n",
       "      <td>Management</td>\n",
       "      <td>✓</td>\n",
       "      <td>✓</td>\n",
       "      <td>✗</td>\n",
       "      <td>✓</td>\n",
       "      <td>✗</td>\n",
       "      <td>✗</td>\n",
       "    </tr>\n",
       "    <tr>\n",
       "      <th>Sumatra</th>\n",
       "      <td>Reproducibility</td>\n",
       "      <td>✗</td>\n",
       "      <td>✓</td>\n",
       "      <td>✗</td>\n",
       "      <td>✓</td>\n",
       "      <td>✓</td>\n",
       "      <td>✗</td>\n",
       "    </tr>\n",
       "    <tr>\n",
       "      <th>Tariq, Ali, and Gehani</th>\n",
       "      <td>Comprehension</td>\n",
       "      <td>✗</td>\n",
       "      <td>✓</td>\n",
       "      <td>✗</td>\n",
       "      <td>✗</td>\n",
       "      <td>✗</td>\n",
       "      <td>✗</td>\n",
       "    </tr>\n",
       "    <tr>\n",
       "      <th>Variolite</th>\n",
       "      <td>Management</td>\n",
       "      <td>✗</td>\n",
       "      <td>✓</td>\n",
       "      <td>✗</td>\n",
       "      <td>✓</td>\n",
       "      <td>✓</td>\n",
       "      <td>✗</td>\n",
       "    </tr>\n",
       "    <tr>\n",
       "      <th>VCR</th>\n",
       "      <td>Reproducibility</td>\n",
       "      <td>✗</td>\n",
       "      <td>✓</td>\n",
       "      <td>✗</td>\n",
       "      <td>✗</td>\n",
       "      <td>✓</td>\n",
       "      <td>✗</td>\n",
       "    </tr>\n",
       "    <tr>\n",
       "      <th>versuchung</th>\n",
       "      <td>Reproducibility</td>\n",
       "      <td>✗</td>\n",
       "      <td>✓</td>\n",
       "      <td>✓</td>\n",
       "      <td>✗</td>\n",
       "      <td>✓</td>\n",
       "      <td>✗</td>\n",
       "    </tr>\n",
       "    <tr>\n",
       "      <th>WISE</th>\n",
       "      <td>Comprehension</td>\n",
       "      <td>✗</td>\n",
       "      <td>✓</td>\n",
       "      <td>✗</td>\n",
       "      <td>✗</td>\n",
       "      <td>✗</td>\n",
       "      <td>✗</td>\n",
       "    </tr>\n",
       "    <tr>\n",
       "      <th>YesWorkflow</th>\n",
       "      <td>Comprehension</td>\n",
       "      <td>✗</td>\n",
       "      <td>✓</td>\n",
       "      <td>✗</td>\n",
       "      <td>✗</td>\n",
       "      <td>✗</td>\n",
       "      <td>✗</td>\n",
       "    </tr>\n",
       "    <tr>\n",
       "      <th>YW*NW</th>\n",
       "      <td>Comprehension</td>\n",
       "      <td>✗</td>\n",
       "      <td>✓</td>\n",
       "      <td>✗</td>\n",
       "      <td>✓</td>\n",
       "      <td>✓</td>\n",
       "      <td>✗</td>\n",
       "    </tr>\n",
       "    <tr>\n",
       "      <th>Total</th>\n",
       "      <td></td>\n",
       "      <td>3</td>\n",
       "      <td>24</td>\n",
       "      <td>5</td>\n",
       "      <td>11</td>\n",
       "      <td>14</td>\n",
       "      <td>0</td>\n",
       "    </tr>\n",
       "    <tr>\n",
       "      <th>Total main goal</th>\n",
       "      <td></td>\n",
       "      <td>1</td>\n",
       "      <td>11</td>\n",
       "      <td>2</td>\n",
       "      <td>6</td>\n",
       "      <td>7</td>\n",
       "      <td>0</td>\n",
       "    </tr>\n",
       "  </tbody>\n",
       "</table>\n",
       "</div>"
      ],
      "text/plain": [
       "0                                   Main goal Caching Comprehension Framework  \\\n",
       "Astro-WISE                          Framework       ✓             ✓         ✓   \n",
       "Becker and Chambers             Comprehension       ✗             ✓         ✗   \n",
       "Bochner, Gude, and Schreiber    Comprehension       ✗             ✓         ✓   \n",
       "CPL                                 Framework       ✗             ✓         ✓   \n",
       "CXXR                            Comprehension       ✗             ✓         ✗   \n",
       "Datatrack                          Management       ✗             ✓         ✗   \n",
       "ES3                             Comprehension       ✗             ✓         ✗   \n",
       "ESSW                               Management       ✗             ✓         ✗   \n",
       "IncPy                                 Caching       ✓             ✗         ✗   \n",
       "Lancet                        Reproducibility       ✗             ✓         ✗   \n",
       "Magni                         Reproducibility       ✗             ✗         ✓   \n",
       "Michaelides et al.            Reproducibility       ✗             ✓         ✗   \n",
       "noWorkflow                      Comprehension       ✗             ✓         ✗   \n",
       "Provenance Curious              Comprehension       ✗             ✓         ✗   \n",
       "pypet                              Management       ✗             ✗         ✗   \n",
       "RDataTracker                    Comprehension       ✗             ✓         ✗   \n",
       "Sacred                        Reproducibility       ✗             ✓         ✗   \n",
       "SisGExp                            Management       ✗             ✓         ✗   \n",
       "StarFlow                           Management       ✓             ✓         ✗   \n",
       "Sumatra                       Reproducibility       ✗             ✓         ✗   \n",
       "Tariq, Ali, and Gehani          Comprehension       ✗             ✓         ✗   \n",
       "Variolite                          Management       ✗             ✓         ✗   \n",
       "VCR                           Reproducibility       ✗             ✓         ✗   \n",
       "versuchung                    Reproducibility       ✗             ✓         ✓   \n",
       "WISE                            Comprehension       ✗             ✓         ✗   \n",
       "YesWorkflow                     Comprehension       ✗             ✓         ✗   \n",
       "YW*NW                           Comprehension       ✗             ✓         ✗   \n",
       "Total                                               3            24         5   \n",
       "Total main goal                                     1            11         2   \n",
       "\n",
       "0                            Management Reproducibility Security  \n",
       "Astro-WISE                            ✗               ✓        ✗  \n",
       "Becker and Chambers                   ✗               ✓        ✗  \n",
       "Bochner, Gude, and Schreiber          ✗               ✗        ✗  \n",
       "CPL                                   ✗               ✗        ✗  \n",
       "CXXR                                  ✗               ✗        ✗  \n",
       "Datatrack                             ✓               ✓        ✗  \n",
       "ES3                                   ✗               ✗        ✗  \n",
       "ESSW                                  ✓               ✗        ✗  \n",
       "IncPy                                 ✗               ✗        ✗  \n",
       "Lancet                                ✓               ✓        ✗  \n",
       "Magni                                 ✗               ✓        ✗  \n",
       "Michaelides et al.                    ✗               ✓        ✗  \n",
       "noWorkflow                            ✓               ✓        ✗  \n",
       "Provenance Curious                    ✗               ✗        ✗  \n",
       "pypet                                 ✓               ✗        ✗  \n",
       "RDataTracker                          ✗               ✗        ✗  \n",
       "Sacred                                ✓               ✓        ✗  \n",
       "SisGExp                               ✓               ✓        ✗  \n",
       "StarFlow                              ✓               ✗        ✗  \n",
       "Sumatra                               ✓               ✓        ✗  \n",
       "Tariq, Ali, and Gehani                ✗               ✗        ✗  \n",
       "Variolite                             ✓               ✓        ✗  \n",
       "VCR                                   ✗               ✓        ✗  \n",
       "versuchung                            ✗               ✓        ✗  \n",
       "WISE                                  ✗               ✗        ✗  \n",
       "YesWorkflow                           ✗               ✗        ✗  \n",
       "YW*NW                                 ✓               ✓        ✗  \n",
       "Total                                11              14        0  \n",
       "Total main goal                       6               7        0  "
      ]
     },
     "execution_count": 4,
     "metadata": {},
     "output_type": "execute_result"
    }
   ],
   "source": [
    "df = pd.DataFrame(category_table)\n",
    "new_row = (\n",
    "    [\"Total\", \"\"] +\n",
    "    [df[df[i + 2] == YES.value][i + 2].count()\n",
    "     for i in range(len(columns))]\n",
    ")\n",
    "df.loc[len(df)] = new_row\n",
    "\n",
    "new_row = (\n",
    "    [\"Total main goal\", \"\"] +\n",
    "    [sum(1 for a in approaches if a._meta[0][\"goal\"] == column)\n",
    "     for column in columns]\n",
    ")\n",
    "df.loc[len(df)] = new_row\n",
    "\n",
    "\n",
    "df.columns = df.iloc[0]\n",
    "df = df.set_index('Approach')\n",
    "df.index.name = None\n",
    "df = df[1:]\n",
    "\n",
    "\n",
    "df"
   ]
  },
  {
   "cell_type": "code",
   "execution_count": 5,
   "metadata": {
    "collapsed": true
   },
   "outputs": [],
   "source": [
    "writer = pd.ExcelWriter('output/goal.xlsx')\n",
    "df.to_excel(writer,'Sheet1')\n",
    "writer.save()"
   ]
  },
  {
   "cell_type": "code",
   "execution_count": 6,
   "metadata": {
    "collapsed": false
   },
   "outputs": [
    {
     "data": {
      "text/plain": [
       "14"
      ]
     },
     "execution_count": 6,
     "metadata": {},
     "output_type": "execute_result"
    }
   ],
   "source": [
    "len(binary)"
   ]
  },
  {
   "cell_type": "code",
   "execution_count": 7,
   "metadata": {
    "collapsed": false
   },
   "outputs": [
    {
     "data": {
      "text/plain": [
       "27"
      ]
     },
     "execution_count": 7,
     "metadata": {},
     "output_type": "execute_result"
    }
   ],
   "source": [
    "len(script)"
   ]
  },
  {
   "cell_type": "code",
   "execution_count": 8,
   "metadata": {
    "collapsed": false
   },
   "outputs": [
    {
     "data": {
      "text/plain": [
       "[Astro-wise: Tracing and using lineage for scientific data processing,\n",
       " Dynamic Pipeline Changes in Scientific Data Processing]"
      ]
     },
     "execution_count": 8,
     "metadata": {},
     "output_type": "execute_result"
    }
   ],
   "source": [
    "script[0][0].work"
   ]
  },
  {
   "cell_type": "code",
   "execution_count": 9,
   "metadata": {
    "collapsed": false
   },
   "outputs": [],
   "source": [
    "with open('../../csur/bibliography.bib') as bibtex_file:\n",
    "    bibtex_str = bibtex_file.read()\n",
    "\n",
    "matched = match_bibtex_to_work(bibtex_str.split(\"%Entries\")[-1])\n",
    "works = dict(map(reversed, matched))\n",
    "latex_name = partial(wlatex_name, works=works)\n",
    "citea = partial(wcitea, works=works)"
   ]
  },
  {
   "cell_type": "code",
   "execution_count": null,
   "metadata": {
    "collapsed": false
   },
   "outputs": [],
   "source": []
  },
  {
   "cell_type": "code",
   "execution_count": 10,
   "metadata": {
    "collapsed": false
   },
   "outputs": [
    {
     "data": {
      "text/plain": [
       "{Reproducibility, Management, Comprehension, Security, Caching, Framework}"
      ]
     },
     "execution_count": 10,
     "metadata": {},
     "output_type": "execute_result"
    }
   ],
   "source": [
    "columns = [CACHE, COMPREHENSION, FRAMEWORK, MANAGEMENT, REPRODUCIBILITY\n",
    "#, SECURITY\n",
    "]\n",
    "approaches = [a for a, m in script]\n",
    "{y for a, m in all_approaches for y in m[\"supports\"]}"
   ]
  },
  {
   "cell_type": "code",
   "execution_count": 11,
   "metadata": {
    "collapsed": false
   },
   "outputs": [],
   "source": [
    "category_table = (\n",
    "    [\n",
    "        [citea(approach), approach._meta[0][\"goal\"].value] +\n",
    "        [\n",
    "            r\"\\true\" if column in approach._meta[0][\"supports\"] else r\"\\false\"\n",
    "            for column in columns\n",
    "        ]\n",
    "        for approach in approaches\n",
    "#        if name(approach) not in {\"noWorkflow\", \"YW*NW\"}\n",
    "    ]\n",
    ")"
   ]
  },
  {
   "cell_type": "code",
   "execution_count": 12,
   "metadata": {
    "collapsed": false
   },
   "outputs": [],
   "source": [
    "total = (\n",
    "    [r\"\\textbf{Total}\", \"\"] +\n",
    "    [str(sum(1 for j in range(len(category_table))\n",
    "             if category_table[j][i + 2] == r\"\\true\"))\n",
    "     for i in range(len(columns))\n",
    "    ]\n",
    ")\n",
    "\n",
    "total_main_goal = (\n",
    "    [r\"\\textbf{Total Main Goal}\", \"\"] +\n",
    "    [str(sum(1 for a in approaches\n",
    "             if a._meta[0][\"goal\"] == column))\n",
    "     for column in columns]\n",
    ")\n",
    "\n",
    "slash = (\n",
    "    [r\"\\textbf{Main Goal / Total}\", \"\"] +\n",
    "    [\"{} / {}\".format(\n",
    "        sum(1 for a in approaches if a._meta[0][\"goal\"] == column),\n",
    "        sum(1 for j in range(len(category_table)) if category_table[j][i + 2] == r\"\\true\")\n",
    "     ) for i, column in enumerate(columns)]\n",
    ")\n",
    "\n",
    "#category_table.append(total)\n",
    "#category_table.append(total_main_goal)\n",
    "category_table.append(slash)"
   ]
  },
  {
   "cell_type": "code",
   "execution_count": 13,
   "metadata": {
    "collapsed": false
   },
   "outputs": [],
   "source": [
    "RENAME = {\n",
    "    CACHE: \"Cache\",\n",
    "    COMPREHENSION: \"Compr\",\n",
    "    FRAMEWORK: \"Frame\",\n",
    "    MANAGEMENT: \"Manag\",\n",
    "    REPRODUCIBILITY: \"Repro\",\n",
    "    SECURITY: \"Secur\"\n",
    "}\n",
    "\n",
    "header = r\"\\begin{tabular}{?>{\\centering\\arraybackslash} m{0.3\\textwidth}?>{\\centering\\arraybackslash} m{0.15\\textwidth}?\" + \"S?\" * len(columns) + r\"\"\" }\n",
    "  \\arrayrulecolor{LightBlueLine}\\hline\n",
    "  \\rowcolor{BlueRow}\n",
    "  \\textbf{Approach} & \\textbf{Main goal} & \\multicolumn{5}{c}{\\textbf{Secondary goals}}\\\\\n",
    "  \\arrayrulecolor{LightBlueLine}\\hline\n",
    "   &  & \"\"\" + \" & \".join(\"\\\\textbf{{{}}}\".format(RENAME[column]) for column in columns) + r\"\"\"\\\\\n",
    "  \\arrayrulecolor{LightBlueLine}\\hline\n",
    "\"\"\"\n",
    "footer = r\"\"\"\n",
    "\\end{tabular}\n",
    "\"\"\""
   ]
  },
  {
   "cell_type": "code",
   "execution_count": 14,
   "metadata": {
    "collapsed": false
   },
   "outputs": [],
   "source": [
    "result = []\n",
    "for i, row in enumerate(category_table):\n",
    "    if i % 2 == 0:\n",
    "        result.append(r\"  \\rowcolor{BlueRow}\")\n",
    "    result.append(\"  \" + \" & \".join(row) + r\"\\\\\")\n",
    "    result.append(r\"  \\arrayrulecolor{LightBlueLine}\\hline\")"
   ]
  },
  {
   "cell_type": "code",
   "execution_count": 15,
   "metadata": {
    "collapsed": false
   },
   "outputs": [],
   "source": [
    "latex = header + \"\\n\" + \"\\n\".join(result) + \"\\n\" + footer\n",
    "with open(\"../../csur/figs/goals.tex\", \"w\") as goals:\n",
    "    goals.write(latex)"
   ]
  },
  {
   "cell_type": "code",
   "execution_count": 16,
   "metadata": {
    "collapsed": false
   },
   "outputs": [
    {
     "name": "stdout",
     "output_type": "stream",
     "text": [
      "Guo's Thesis 2012 Software tools to facilitate research programming\n",
      "Guo's Thesis 2012 Software tools to facilitate research programming\n",
      "PASS 2010 Foundations for provenance-aware systems\n",
      "ES3 2008 Automatic capture and reconstruction of computational provenance\n",
      "ES3 2004 Earth System Science Server (ES3): Local Infrastructure for Earth Science Product Management\n",
      "ES3 2008 Es3: A demonstration of transparent provenance for scientific computation\n",
      "ES3 2005 Tracking the lineage of arbitrary processing sequences\n",
      "ES3 2010 Automatic Provenance Collection and Publishing in a Science Data Production Environment -- Early Results\n",
      "ES3 2011 Provenance-enabled automatic data publishing\n"
     ]
    }
   ],
   "source": [
    "for a, m in binary:\n",
    "    for w in a.work:\n",
    "        if w.category != \"binarysnowball\":\n",
    "            print(w.display, w.year, w)"
   ]
  },
  {
   "cell_type": "code",
   "execution_count": null,
   "metadata": {
    "collapsed": true
   },
   "outputs": [],
   "source": []
  }
 ],
 "metadata": {
  "kernelspec": {
   "display_name": "Python 3",
   "language": "python",
   "name": "python3"
  },
  "language_info": {
   "codemirror_mode": {
    "name": "ipython",
    "version": 3
   },
   "file_extension": ".py",
   "mimetype": "text/x-python",
   "name": "python",
   "nbconvert_exporter": "python",
   "pygments_lexer": "ipython3",
   "version": "3.6.0"
  },
  "toc": {
   "nav_menu": {
    "height": "12px",
    "width": "252px"
   },
   "navigate_menu": true,
   "number_sections": true,
   "sideBar": true,
   "threshold": 4,
   "toc_cell": false,
   "toc_section_display": "block",
   "toc_window_display": false
  }
 },
 "nbformat": 4,
 "nbformat_minor": 0
}
