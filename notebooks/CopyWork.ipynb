{
 "cells": [
  {
   "cell_type": "code",
   "execution_count": 1,
   "metadata": {
    "collapsed": false
   },
   "outputs": [
    {
     "data": {
      "text/plain": [
       "27"
      ]
     },
     "execution_count": 1,
     "metadata": {},
     "output_type": "execute_result"
    }
   ],
   "source": [
    "import os, sys, shutil\n",
    "\n",
    "sys.path.insert(1, os.path.join(sys.path[0], '..'))\n",
    "\n",
    "import database\n",
    "from snowballing.operations import reload\n",
    "from snowballing.approaches import get_approaches\n",
    "reload()\n",
    "\n",
    "all_approaches = get_approaches()\n",
    "script = [(a, m) for a, m in all_approaches if not m[\"binary\"]]\n",
    "binary = [(a, m) for a, m in all_approaches if m[\"binary\"]]\n",
    "len(script)"
   ]
  },
  {
   "cell_type": "code",
   "execution_count": 2,
   "metadata": {
    "collapsed": false
   },
   "outputs": [],
   "source": [
    "for a, m in script:\n",
    "    for work in a.work:\n",
    "        if work.file:\n",
    "            name = work.file.split(\"#\")[0]\n",
    "            shutil.copyfile(\n",
    "                os.path.join(r\"C:\\Users\\joao\\OneDrive\\Documents\\pos\\related\\files\", name),\n",
    "                os.path.join(r\"C:\\Users\\joao\\Desktop\\artigos\", name)\n",
    "            )"
   ]
  },
  {
   "cell_type": "code",
   "execution_count": null,
   "metadata": {
    "collapsed": true
   },
   "outputs": [],
   "source": []
  }
 ],
 "metadata": {
  "kernelspec": {
   "display_name": "Python 3",
   "language": "python",
   "name": "python3"
  },
  "language_info": {
   "codemirror_mode": {
    "name": "ipython",
    "version": 3
   },
   "file_extension": ".py",
   "mimetype": "text/x-python",
   "name": "python",
   "nbconvert_exporter": "python",
   "pygments_lexer": "ipython3",
   "version": "3.6.0"
  },
  "toc": {
   "nav_menu": {
    "height": "12px",
    "width": "252px"
   },
   "navigate_menu": true,
   "number_sections": true,
   "sideBar": true,
   "threshold": 4,
   "toc_cell": false,
   "toc_section_display": "block",
   "toc_window_display": false
  }
 },
 "nbformat": 4,
 "nbformat_minor": 0
}
