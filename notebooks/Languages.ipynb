{
 "cells": [
  {
   "cell_type": "code",
   "execution_count": 1,
   "metadata": {},
   "outputs": [
    {
     "data": {
      "text/plain": [
       "27"
      ]
     },
     "execution_count": 1,
     "metadata": {},
     "output_type": "execute_result"
    }
   ],
   "source": [
    "import os, sys, re\n",
    "from functools import partial\n",
    "from collections import defaultdict, Counter\n",
    "\n",
    "import pandas as pd\n",
    "import numpy as np\n",
    "\n",
    "from bibtexparser.latexenc import string_to_latex\n",
    "\n",
    "sys.path.insert(1, os.path.join(sys.path[0], '..'))\n",
    "\n",
    "import database\n",
    "from snowballing.operations import load_work_map_all_years, work_to_bibtex, reload\n",
    "from snowballing.operations import match_bibtex_to_work\n",
    "from snowballing.approaches import get_approaches, name, wlatex_name, wcitea\n",
    "reload()\n",
    "\n",
    "all_approaches = get_approaches()\n",
    "script = [(a, m) for a, m in all_approaches if not m[\"binary\"]]\n",
    "binary = [(a, m) for a, m in all_approaches if m[\"binary\"]]\n",
    "\n",
    "approaches = [a for a, m in script]\n",
    "\n",
    "len(script)"
   ]
  },
  {
   "cell_type": "code",
   "execution_count": 2,
   "metadata": {},
   "outputs": [],
   "source": [
    "with open('../../csur/bibliography.bib') as bibtex_file:\n",
    "    bibtex_str = bibtex_file.read()\n",
    "\n",
    "matched = match_bibtex_to_work(bibtex_str.split(\"%Entries\")[-1])\n",
    "works = dict(map(reversed, matched))\n",
    "latex_name = partial(wlatex_name, works=works)\n",
    "citea = partial(wcitea, works=works)"
   ]
  },
  {
   "cell_type": "code",
   "execution_count": 3,
   "metadata": {},
   "outputs": [],
   "source": [
    "languages = defaultdict(list)\n",
    "\n",
    "for a, m in script:\n",
    "    for lang in m['languages']:\n",
    "        languages[repr(lang)].append((a, m))\n",
    "languages[\"Agnostic\"] = languages[\"*\"]\n",
    "del languages[\"*\"]\n",
    "del languages[\"C\"]\n",
    "del languages[\"C++\"]\n",
    "del languages[\"Java\"]\n",
    "\n",
    "count = Counter({k: len(v) for k, v in languages.items()})"
   ]
  },
  {
   "cell_type": "code",
   "execution_count": 4,
   "metadata": {},
   "outputs": [
    {
     "data": {
      "text/plain": [
       "[('Python', 16),\n",
       " ('R', 6),\n",
       " ('Agnostic', 3),\n",
       " ('S', 1),\n",
       " ('IDL', 1),\n",
       " ('Perl', 1),\n",
       " ('Blockly', 1),\n",
       " ('LLVM', 1),\n",
       " ('Matlab', 1)]"
      ]
     },
     "execution_count": 4,
     "metadata": {},
     "output_type": "execute_result"
    }
   ],
   "source": [
    "count.most_common()"
   ]
  },
  {
   "cell_type": "code",
   "execution_count": 5,
   "metadata": {},
   "outputs": [],
   "source": [
    "columns = [\"Language\", \"Count\", \"Approaches\"]\n",
    "data = [\n",
    "    [language, str(number), \", \".join(latex_name(a) for a, m in languages[language])]\n",
    "    for language, number in count.most_common()\n",
    "]"
   ]
  },
  {
   "cell_type": "code",
   "execution_count": 9,
   "metadata": {},
   "outputs": [],
   "source": [
    "header = r\"\"\"\\begin{tabular}{|c|c|m{0.7\\textwidth}|}\n",
    "  \\hline\n",
    "  \\rowcolor{BlueRow}\n",
    "  %s\\\\\n",
    "  \\hline\n",
    "\"\"\" % (\n",
    "    \" & \".join([\n",
    "        (r\"\\multicolumn{1}{%sc|}{\\textbf{%s}}\" % ('|' if not i else '', column,))\n",
    "        for i, column in enumerate(columns)]),\n",
    ")\n",
    "footer = r\"\"\"\n",
    "  \\hline\n",
    "\\end{tabular}\n",
    "\"\"\"\n"
   ]
  },
  {
   "cell_type": "code",
   "execution_count": 10,
   "metadata": {},
   "outputs": [],
   "source": [
    "result = []\n",
    "for i, row in enumerate(data):\n",
    "    if i % 2 == 1:\n",
    "        result.append(r\"  \\rowcolor{BlueRow}\")\n",
    "    result.append(\"  \" + \" & \".join(row) + r\"\\\\\")\n",
    "    #result.append(r\"  \\hline\")"
   ]
  },
  {
   "cell_type": "code",
   "execution_count": 11,
   "metadata": {},
   "outputs": [],
   "source": [
    "latex = header + \"\\n\" + \"\\n\".join(result) + \"\\n\" + footer\n",
    "with open(\"../../csur/figs/script_languages.tex\", \"w\") as tex:\n",
    "    tex.write(latex)"
   ]
  },
  {
   "cell_type": "code",
   "execution_count": null,
   "metadata": {},
   "outputs": [],
   "source": []
  },
  {
   "cell_type": "code",
   "execution_count": null,
   "metadata": {},
   "outputs": [],
   "source": []
  }
 ],
 "metadata": {
  "kernelspec": {
   "display_name": "Python 3",
   "language": "python",
   "name": "python3"
  },
  "language_info": {
   "codemirror_mode": {
    "name": "ipython",
    "version": 3
   },
   "file_extension": ".py",
   "mimetype": "text/x-python",
   "name": "python",
   "nbconvert_exporter": "python",
   "pygments_lexer": "ipython3",
   "version": "3.6.6"
  },
  "toc": {
   "nav_menu": {
    "height": "12px",
    "width": "252px"
   },
   "number_sections": true,
   "sideBar": true,
   "skip_h1_title": false,
   "toc_cell": false,
   "toc_position": {},
   "toc_section_display": "block",
   "toc_window_display": false
  }
 },
 "nbformat": 4,
 "nbformat_minor": 2
}
