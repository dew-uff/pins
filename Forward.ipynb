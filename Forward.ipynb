{
 "cells": [
  {
   "cell_type": "code",
   "execution_count": 1,
   "metadata": {
    "collapsed": true
   },
   "outputs": [],
   "source": [
    "import database\n",
    "from snowballing.operations import load_work, reload, work_by_varname\n",
    "from snowballing.selenium_scholar import SeleniumScholarQuerier\n",
    "from snowballing.snowballing import ForwardSnowballing\n",
    "from snowballing.dbmanager import insert, set_attribute"
   ]
  },
  {
   "cell_type": "code",
   "execution_count": 2,
   "metadata": {
    "collapsed": true
   },
   "outputs": [],
   "source": [
    "querier = SeleniumScholarQuerier()"
   ]
  },
  {
   "cell_type": "code",
   "execution_count": 3,
   "metadata": {
    "scrolled": true
   },
   "outputs": [
    {
     "name": "stderr",
     "output_type": "stream",
     "text": [
      "[ INFO]  settings applied\n"
     ]
    },
    {
     "data": {
      "text/plain": [
       "<snowballing.selenium_scholar.SeleniumScholarQuerier at 0x27af40259e8>"
      ]
     },
     "execution_count": 3,
     "metadata": {},
     "output_type": "execute_result"
    }
   ],
   "source": [
    "querier.apply_settings(20, 4)"
   ]
  },
  {
   "cell_type": "code",
   "execution_count": 4,
   "metadata": {},
   "outputs": [],
   "source": [
    "manager = ForwardSnowballing(querier, \"murta2014a\", start=0)"
   ]
  },
  {
   "cell_type": "code",
   "execution_count": 5,
   "metadata": {},
   "outputs": [
    {
     "data": {
      "application/vnd.jupyter.widget-view+json": {
       "model_id": "5981aee964b94fc5911a02d5a32c3895",
       "version_major": 2,
       "version_minor": 0
      },
      "text/plain": [
       "A Jupyter Widget"
      ]
     },
     "metadata": {},
     "output_type": "display_data"
    },
    {
     "data": {
      "application/javascript": [
       "$('span:contains(\"# Temp\")').closest('.cell').remove();"
      ],
      "text/plain": [
       "<IPython.core.display.Javascript object>"
      ]
     },
     "metadata": {},
     "output_type": "display_data"
    },
    {
     "data": {
      "application/javascript": [
       "\n",
       "        $('span:contains(\"# Temp\")').closest('.cell').remove();\n",
       "        var code = IPython.notebook.insert_cell_below('code');\n",
       "        code.set_text(atob(\"IyBUZW1wCmluc2VydCgnJycKY3VyY2luMjAxN2EgPSBEQihXb3JrKAogICAgMjAxNywgIkVtYmVkZGluZyBkYXRhIHByb3ZlbmFuY2UgaW50byB0aGUgTGVhcm5pbmcgSGVhbHRoIFN5c3RlbSB0byBmYWNpbGl0YXRlIHJlcHJvZHVjaWJsZSByZXNlYXJjaCIsCiAgICBkaXNwbGF5PSJjdXJjaW4iLAogICAgYXV0aG9ycz0iQ3VyY2luLCBWYXNhIiwKICAgIHBsYWNlPUxIUywKICAgIGVudHJ5dHlwZT0iYXJ0aWNsZSIsCiAgICB2b2x1bWU9IjEiLAogICAgbnVtYmVyPSIyIiwKICAgIHB1Ymxpc2hlcj0iV2lsZXkgT25saW5lIExpYnJhcnkiLAogICAgSUQ9ImN1cmNpbjIwMTdlbWJlZGRpbmciLAogICAgY2x1c3Rlcl9pZD0iNzgzNjkxODc1NDkyNDczNjQ2MiIsCiAgICBzY2hvbGFyPSJodHRwOi8vc2Nob2xhci5nb29nbGUuY29tL3NjaG9sYXI/Y2l0ZXM9NzgzNjkxODc1NDkyNDczNjQ2MiZhc19zZHQ9MjAwNSZzY2lvZHQ9MCw1JmhsPWVuIiwKKSkKCkRCKENpdGF0aW9uKAogICAgY3VyY2luMjAxN2EsIG11cnRhMjAxNGEsIHJlZj0iIiwKICAgIGNvbnRleHRzPVsKCiAgICBdLAopKQoKJycnLCBjaXRhdGlvbnM9J25vd29ya2Zsb3cyMDE0Jyk7\"));\n",
       "    "
      ],
      "text/plain": [
       "<IPython.core.display.Javascript object>"
      ]
     },
     "metadata": {},
     "output_type": "display_data"
    },
    {
     "data": {
      "application/javascript": [
       "$('span:contains(\"# Temp\")').closest('.cell').remove();"
      ],
      "text/plain": [
       "<IPython.core.display.Javascript object>"
      ]
     },
     "metadata": {},
     "output_type": "display_data"
    },
    {
     "data": {
      "application/javascript": [
       "\n",
       "        $('span:contains(\"# Temp\")').closest('.cell').remove();\n",
       "        var code = IPython.notebook.insert_cell_below('code');\n",
       "        code.set_text(atob(\"IyBUZW1wCmluc2VydCgnJycKbmV2ZXMyMDE3YSA9IERCKFdvcmsoCiAgICAyMDE3LCAiTWFuYWdpbmcgUHJvdmVuYW5jZSBvZiBJbXBsaWNpdCBEYXRhIEZsb3dzIGluIFNjaWVudGlmaWMgRXhwZXJpbWVudHMiLAogICAgZGlzcGxheT0ibmV2ZXMiLAogICAgYXV0aG9ycz0iTmV2ZXMsIFZpdG9yIEMgYW5kIE9saXZlaXJhLCBEYW5pZWwgRGUgYW5kIE9jYfFhLCBLYXJ5IEFDUyBhbmQgQnJhZ2FuaG9sbywgVmFuZXNzYSBhbmQgTXVydGEsIExlb25hcmRvIiwKICAgIHBwPSIzNiIsCiAgICBwbGFjZTE9IkFDTSBUcmFuc2FjdGlvbnMgb24gSW50ZXJuZXQgVGVjaG5vbG9neSAoVE9JVCkiLAogICAgZW50cnl0eXBlPSJhcnRpY2xlIiwKICAgIHZvbHVtZT0iMTciLAogICAgbnVtYmVyPSI0IiwKICAgIHB1Ymxpc2hlcj0iQUNNIiwKICAgIElEPSJuZXZlczIwMTdtYW5hZ2luZyIsCiAgICBjbHVzdGVyX2lkPSIyOTM1OTM5NjI3NTE1NDI3NTQzIiwKICAgIHNjaG9sYXI9Imh0dHA6Ly9zY2hvbGFyLmdvb2dsZS5jb20vc2Nob2xhcj9jaXRlcz0yOTM1OTM5NjI3NTE1NDI3NTQzJmFzX3NkdD0yMDA1JnNjaW9kdD0wLDUmaGw9ZW4iLAopKQoKREIoQ2l0YXRpb24oCiAgICBuZXZlczIwMTdhLCBtdXJ0YTIwMTRhLCByZWY9IiIsCiAgICBjb250ZXh0cz1bCgogICAgXSwKKSkKCicnJywgY2l0YXRpb25zPSdub3dvcmtmbG93MjAxNCcpOw==\"));\n",
       "    "
      ],
      "text/plain": [
       "<IPython.core.display.Javascript object>"
      ]
     },
     "metadata": {},
     "output_type": "display_data"
    },
    {
     "data": {
      "application/javascript": [
       "$('span:contains(\"# Temp\")').closest('.cell').remove();"
      ],
      "text/plain": [
       "<IPython.core.display.Javascript object>"
      ]
     },
     "metadata": {},
     "output_type": "display_data"
    },
    {
     "data": {
      "application/javascript": [
       "\n",
       "        $('span:contains(\"# Temp\")').closest('.cell').remove();\n",
       "        var code = IPython.notebook.insert_cell_below('code');\n",
       "        code.set_text(atob(\"IyBUZW1wCmluc2VydCgnJycKbmV2ZXMyMDE3YSA9IERCKFdvcmsoCiAgICAyMDE3LCAiTWFuYWdpbmcgUHJvdmVuYW5jZSBvZiBJbXBsaWNpdCBEYXRhIEZsb3dzIGluIFNjaWVudGlmaWMgRXhwZXJpbWVudHMiLAogICAgZGlzcGxheT0ibmV2ZXMiLAogICAgYXV0aG9ycz0iTmV2ZXMsIFZpdG9yIEMgYW5kIE9saXZlaXJhLCBEYW5pZWwgRGUgYW5kIE9jYfFhLCBLYXJ5IEFDUyBhbmQgQnJhZ2FuaG9sbywgVmFuZXNzYSBhbmQgTXVydGEsIExlb25hcmRvIiwKICAgIHBwPSIzNiIsCiAgICBwbGFjZTE9IkFDTSBUcmFuc2FjdGlvbnMgb24gSW50ZXJuZXQgVGVjaG5vbG9neSAoVE9JVCkiLAogICAgZW50cnl0eXBlPSJhcnRpY2xlIiwKICAgIHZvbHVtZT0iMTciLAogICAgbnVtYmVyPSI0IiwKICAgIHB1Ymxpc2hlcj0iQUNNIiwKICAgIElEPSJuZXZlczIwMTdtYW5hZ2luZyIsCiAgICBjbHVzdGVyX2lkPSIyOTM1OTM5NjI3NTE1NDI3NTQzIiwKICAgIHNjaG9sYXI9Imh0dHA6Ly9zY2hvbGFyLmdvb2dsZS5jb20vc2Nob2xhcj9jaXRlcz0yOTM1OTM5NjI3NTE1NDI3NTQzJmFzX3NkdD0yMDA1JnNjaW9kdD0wLDUmaGw9ZW4iLAopKQoKREIoQ2l0YXRpb24oCiAgICBuZXZlczIwMTdhLCBtdXJ0YTIwMTRhLCByZWY9IiIsCiAgICBjb250ZXh0cz1bCgogICAgXSwKKSkKCicnJywgY2l0YXRpb25zPSdub3dvcmtmbG93MjAxNCcpOw==\"));\n",
       "    "
      ],
      "text/plain": [
       "<IPython.core.display.Javascript object>"
      ]
     },
     "metadata": {},
     "output_type": "display_data"
    },
    {
     "data": {
      "application/javascript": [
       "$('span:contains(\"# Temp\")').closest('.cell').remove();"
      ],
      "text/plain": [
       "<IPython.core.display.Javascript object>"
      ]
     },
     "metadata": {},
     "output_type": "display_data"
    },
    {
     "data": {
      "application/javascript": [
       "\n",
       "        $('span:contains(\"# Temp\")').closest('.cell').remove();\n",
       "        var code = IPython.notebook.insert_cell_below('code');\n",
       "        code.set_text(atob(\"IyBUZW1wCmluc2VydCgnJycKY3VyY2luMjAxN2EgPSBEQihXb3JrKAogICAgMjAxNywgIkVtYmVkZGluZyBkYXRhIHByb3ZlbmFuY2UgaW50byB0aGUgTGVhcm5pbmcgSGVhbHRoIFN5c3RlbSB0byBmYWNpbGl0YXRlIHJlcHJvZHVjaWJsZSByZXNlYXJjaCIsCiAgICBkaXNwbGF5PSJjdXJjaW4iLAogICAgYXV0aG9ycz0iQ3VyY2luLCBWYXNhIiwKICAgIHBsYWNlPUxIUywKICAgIGVudHJ5dHlwZT0iYXJ0aWNsZSIsCiAgICB2b2x1bWU9IjEiLAogICAgbnVtYmVyPSIyIiwKICAgIHB1Ymxpc2hlcj0iV2lsZXkgT25saW5lIExpYnJhcnkiLAogICAgSUQ9ImN1cmNpbjIwMTdlbWJlZGRpbmciLAogICAgY2x1c3Rlcl9pZD0iNzgzNjkxODc1NDkyNDczNjQ2MiIsCiAgICBzY2hvbGFyPSJodHRwOi8vc2Nob2xhci5nb29nbGUuY29tL3NjaG9sYXI/Y2l0ZXM9NzgzNjkxODc1NDkyNDczNjQ2MiZhc19zZHQ9MjAwNSZzY2lvZHQ9MCw1JmhsPWVuIiwKKSkKCkRCKENpdGF0aW9uKAogICAgY3VyY2luMjAxN2EsIG11cnRhMjAxNGEsIHJlZj0iIiwKICAgIGNvbnRleHRzPVsKCiAgICBdLAopKQoKJycnLCBjaXRhdGlvbnM9J25vd29ya2Zsb3cyMDE0Jyk7\"));\n",
       "    "
      ],
      "text/plain": [
       "<IPython.core.display.Javascript object>"
      ]
     },
     "metadata": {},
     "output_type": "display_data"
    },
    {
     "data": {
      "application/javascript": [
       "$('span:contains(\"# Temp\")').closest('.cell').remove();"
      ],
      "text/plain": [
       "<IPython.core.display.Javascript object>"
      ]
     },
     "metadata": {},
     "output_type": "display_data"
    },
    {
     "data": {
      "application/javascript": [
       "\n",
       "        $('span:contains(\"# Temp\")').closest('.cell').remove();\n",
       "        var code = IPython.notebook.insert_cell_below('code');\n",
       "        code.set_text(atob(\"IyBUZW1wCmluc2VydCgnJycKY3VyY2luMjAxN2EgPSBEQihXb3JrKAogICAgMjAxNywgIkVtYmVkZGluZyBkYXRhIHByb3ZlbmFuY2UgaW50byB0aGUgTGVhcm5pbmcgSGVhbHRoIFN5c3RlbSB0byBmYWNpbGl0YXRlIHJlcHJvZHVjaWJsZSByZXNlYXJjaCIsCiAgICBkaXNwbGF5PSJjdXJjaW4iLAogICAgYXV0aG9ycz0iQ3VyY2luLCBWYXNhIiwKICAgIHBsYWNlPUxIUywKICAgIGVudHJ5dHlwZT0iYXJ0aWNsZSIsCiAgICB2b2x1bWU9IjEiLAogICAgbnVtYmVyPSIyIiwKICAgIHB1Ymxpc2hlcj0iV2lsZXkgT25saW5lIExpYnJhcnkiLAogICAgSUQ9ImN1cmNpbjIwMTdlbWJlZGRpbmciLAogICAgY2x1c3Rlcl9pZD0iNzgzNjkxODc1NDkyNDczNjQ2MiIsCiAgICBzY2hvbGFyPSJodHRwOi8vc2Nob2xhci5nb29nbGUuY29tL3NjaG9sYXI/Y2l0ZXM9NzgzNjkxODc1NDkyNDczNjQ2MiZhc19zZHQ9MjAwNSZzY2lvZHQ9MCw1JmhsPWVuIiwKKSkKCkRCKENpdGF0aW9uKAogICAgY3VyY2luMjAxN2EsIG11cnRhMjAxNGEsIHJlZj0iIiwKICAgIGNvbnRleHRzPVsKCiAgICBdLAopKQoKJycnLCBjaXRhdGlvbnM9J25vd29ya2Zsb3cyMDE0Jyk7\"));\n",
       "    "
      ],
      "text/plain": [
       "<IPython.core.display.Javascript object>"
      ]
     },
     "metadata": {},
     "output_type": "display_data"
    },
    {
     "data": {
      "application/javascript": [
       "$('span:contains(\"# Temp\")').closest('.cell').remove();"
      ],
      "text/plain": [
       "<IPython.core.display.Javascript object>"
      ]
     },
     "metadata": {},
     "output_type": "display_data"
    },
    {
     "data": {
      "application/javascript": [
       "\n",
       "        $('span:contains(\"# Temp\")').closest('.cell').remove();\n",
       "        var code = IPython.notebook.insert_cell_below('code');\n",
       "        code.set_text(atob(\"IyBUZW1wCmluc2VydCgnJycKbmV2ZXMyMDE3YSA9IERCKFdvcmsoCiAgICAyMDE3LCAiTWFuYWdpbmcgUHJvdmVuYW5jZSBvZiBJbXBsaWNpdCBEYXRhIEZsb3dzIGluIFNjaWVudGlmaWMgRXhwZXJpbWVudHMiLAogICAgZGlzcGxheT0ibmV2ZXMiLAogICAgYXV0aG9ycz0iTmV2ZXMsIFZpdG9yIEMgYW5kIE9saXZlaXJhLCBEYW5pZWwgRGUgYW5kIE9jYfFhLCBLYXJ5IEFDUyBhbmQgQnJhZ2FuaG9sbywgVmFuZXNzYSBhbmQgTXVydGEsIExlb25hcmRvIiwKICAgIHBwPSIzNiIsCiAgICBwbGFjZTE9IkFDTSBUcmFuc2FjdGlvbnMgb24gSW50ZXJuZXQgVGVjaG5vbG9neSAoVE9JVCkiLAogICAgZW50cnl0eXBlPSJhcnRpY2xlIiwKICAgIHZvbHVtZT0iMTciLAogICAgbnVtYmVyPSI0IiwKICAgIHB1Ymxpc2hlcj0iQUNNIiwKICAgIElEPSJuZXZlczIwMTdtYW5hZ2luZyIsCiAgICBjbHVzdGVyX2lkPSIyOTM1OTM5NjI3NTE1NDI3NTQzIiwKICAgIHNjaG9sYXI9Imh0dHA6Ly9zY2hvbGFyLmdvb2dsZS5jb20vc2Nob2xhcj9jaXRlcz0yOTM1OTM5NjI3NTE1NDI3NTQzJmFzX3NkdD0yMDA1JnNjaW9kdD0wLDUmaGw9ZW4iLAopKQoKREIoQ2l0YXRpb24oCiAgICBuZXZlczIwMTdhLCBtdXJ0YTIwMTRhLCByZWY9IiIsCiAgICBjb250ZXh0cz1bCgogICAgXSwKKSkKCicnJywgY2l0YXRpb25zPSdub3dvcmtmbG93MjAxNCcpOw==\"));\n",
       "    "
      ],
      "text/plain": [
       "<IPython.core.display.Javascript object>"
      ]
     },
     "metadata": {},
     "output_type": "display_data"
    },
    {
     "data": {
      "application/javascript": [
       "$('span:contains(\"# Temp\")').closest('.cell').remove();"
      ],
      "text/plain": [
       "<IPython.core.display.Javascript object>"
      ]
     },
     "metadata": {},
     "output_type": "display_data"
    },
    {
     "data": {
      "application/javascript": [
       "\n",
       "        $('span:contains(\"# Temp\")').closest('.cell').remove();\n",
       "        var code = IPython.notebook.insert_cell_below('code');\n",
       "        code.set_text(atob(\"IyBUZW1wCmluc2VydCgnJycKbmV2ZXMyMDE3YSA9IERCKFdvcmsoCiAgICAyMDE3LCAiTWFuYWdpbmcgUHJvdmVuYW5jZSBvZiBJbXBsaWNpdCBEYXRhIEZsb3dzIGluIFNjaWVudGlmaWMgRXhwZXJpbWVudHMiLAogICAgZGlzcGxheT0ibmV2ZXMiLAogICAgYXV0aG9ycz0iTmV2ZXMsIFZpdG9yIEMgYW5kIE9saXZlaXJhLCBEYW5pZWwgRGUgYW5kIE9jYfFhLCBLYXJ5IEFDUyBhbmQgQnJhZ2FuaG9sbywgVmFuZXNzYSBhbmQgTXVydGEsIExlb25hcmRvIiwKICAgIHBwPSIzNiIsCiAgICBwbGFjZTE9IkFDTSBUcmFuc2FjdGlvbnMgb24gSW50ZXJuZXQgVGVjaG5vbG9neSAoVE9JVCkiLAogICAgZW50cnl0eXBlPSJhcnRpY2xlIiwKICAgIHZvbHVtZT0iMTciLAogICAgbnVtYmVyPSI0IiwKICAgIHB1Ymxpc2hlcj0iQUNNIiwKICAgIElEPSJuZXZlczIwMTdtYW5hZ2luZyIsCiAgICBjbHVzdGVyX2lkPSIyOTM1OTM5NjI3NTE1NDI3NTQzIiwKICAgIHNjaG9sYXI9Imh0dHA6Ly9zY2hvbGFyLmdvb2dsZS5jb20vc2Nob2xhcj9jaXRlcz0yOTM1OTM5NjI3NTE1NDI3NTQzJmFzX3NkdD0yMDA1JnNjaW9kdD0wLDUmaGw9ZW4iLAopKQoKREIoQ2l0YXRpb24oCiAgICBuZXZlczIwMTdhLCBtdXJ0YTIwMTRhLCByZWY9IiIsCiAgICBjb250ZXh0cz1bCgogICAgXSwKKSkKCicnJywgY2l0YXRpb25zPSdub3dvcmtmbG93MjAxNCcpOw==\"));\n",
       "    "
      ],
      "text/plain": [
       "<IPython.core.display.Javascript object>"
      ]
     },
     "metadata": {},
     "output_type": "display_data"
    }
   ],
   "source": [
    "manager"
   ]
  },
  {
   "cell_type": "code",
   "execution_count": null,
   "metadata": {
    "collapsed": true
   },
   "outputs": [],
   "source": [
    "# Temp\n",
    "insert('''\n",
    "neves2017a = DB(Work(\n",
    "    2017, \"Managing Provenance of Implicit Data Flows in Scientific Experiments\",\n",
    "    display=\"neves\",\n",
    "    authors=\"Neves, Vitor C and Oliveira, Daniel De and Ocaña, Kary ACS and Braganholo, Vanessa and Murta, Leonardo\",\n",
    "    pp=\"36\",\n",
    "    place1=\"ACM Transactions on Internet Technology (TOIT)\",\n",
    "    entrytype=\"article\",\n",
    "    volume=\"17\",\n",
    "    number=\"4\",\n",
    "    publisher=\"ACM\",\n",
    "    ID=\"neves2017managing\",\n",
    "    cluster_id=\"2935939627515427543\",\n",
    "    scholar=\"http://scholar.google.com/scholar?cites=2935939627515427543&as_sdt=2005&sciodt=0,5&hl=en\",\n",
    "))\n",
    "\n",
    "DB(Citation(\n",
    "    neves2017a, murta2014a, ref=\"\",\n",
    "    contexts=[\n",
    "\n",
    "    ],\n",
    "))\n",
    "\n",
    "''', citations='noworkflow2014');"
   ]
  },
  {
   "cell_type": "code",
   "execution_count": null,
   "metadata": {
    "collapsed": true
   },
   "outputs": [],
   "source": []
  }
 ],
 "metadata": {
  "kernelspec": {
   "display_name": "Python 3",
   "language": "python",
   "name": "python3"
  },
  "language_info": {
   "codemirror_mode": {
    "name": "ipython",
    "version": 3
   },
   "file_extension": ".py",
   "mimetype": "text/x-python",
   "name": "python",
   "nbconvert_exporter": "python",
   "pygments_lexer": "ipython3",
   "version": "3.6.1"
  },
  "toc": {
   "nav_menu": {
    "height": "12px",
    "width": "252px"
   },
   "navigate_menu": true,
   "number_sections": true,
   "sideBar": true,
   "threshold": 4,
   "toc_cell": false,
   "toc_section_display": "block",
   "toc_window_display": false
  },
  "widgets": {
   "state": {
    "9a715388434440cbb1c066a168d61a18": {
     "views": [
      {
       "cell_index": 5
      }
     ]
    }
   },
   "version": "1.2.0"
  }
 },
 "nbformat": 4,
 "nbformat_minor": 1
}
