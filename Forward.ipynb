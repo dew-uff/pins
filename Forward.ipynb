{
 "cells": [
  {
   "cell_type": "code",
   "execution_count": 1,
   "metadata": {
    "collapsed": true
   },
   "outputs": [],
   "source": [
    "import database\n",
    "from snowballing.operations import load_work, reload, work_by_varname\n",
    "from snowballing.selenium_scholar import SeleniumScholarQuerier\n",
    "from snowballing.snowballing import ForwardSnowballing\n",
    "from snowballing.dbmanager import insert, set_attribute"
   ]
  },
  {
   "cell_type": "code",
   "execution_count": 2,
   "metadata": {
    "collapsed": true
   },
   "outputs": [],
   "source": [
    "querier = SeleniumScholarQuerier()"
   ]
  },
  {
   "cell_type": "code",
   "execution_count": 3,
   "metadata": {
    "scrolled": true
   },
   "outputs": [
    {
     "name": "stderr",
     "output_type": "stream",
     "text": [
      "[ INFO]  settings applied\n"
     ]
    },
    {
     "data": {
      "text/plain": [
       "<snowballing.selenium_scholar.SeleniumScholarQuerier at 0x27190bc5d68>"
      ]
     },
     "execution_count": 3,
     "metadata": {},
     "output_type": "execute_result"
    }
   ],
   "source": [
    "querier.apply_settings(20, 4)"
   ]
  },
  {
   "cell_type": "code",
   "execution_count": 36,
   "metadata": {
    "collapsed": true
   },
   "outputs": [],
   "source": [
    "manager = ForwardSnowballing(querier, \"michaelides2016a\", start=0)"
   ]
  },
  {
   "cell_type": "code",
   "execution_count": 37,
   "metadata": {
    "collapsed": true
   },
   "outputs": [],
   "source": [
    "reload()"
   ]
  },
  {
   "cell_type": "code",
   "execution_count": null,
   "metadata": {
    "collapsed": true
   },
   "outputs": [],
   "source": []
  },
  {
   "cell_type": "code",
   "execution_count": 38,
   "metadata": {},
   "outputs": [
    {
     "data": {
      "application/vnd.jupyter.widget-view+json": {
       "model_id": "622b09c6fd8d4f2f8ac97131884649a7",
       "version_major": 2,
       "version_minor": 0
      },
      "text/plain": [
       "A Jupyter Widget"
      ]
     },
     "metadata": {},
     "output_type": "display_data"
    },
    {
     "data": {
      "application/javascript": [
       "$('span:contains(\"# Temp\")').closest('.cell').remove();"
      ],
      "text/plain": [
       "<IPython.core.display.Javascript object>"
      ]
     },
     "metadata": {},
     "output_type": "display_data"
    },
    {
     "data": {
      "application/javascript": [
       "\n",
       "        $('span:contains(\"# Temp\")').closest('.cell').remove();\n",
       "        var code = IPython.notebook.insert_cell_below('code');\n",
       "        code.set_text(decodeURIComponent(window.atob(\"JTIzJTIwVGVtcCUwQWluc2VydCUyOCUyNyUyNyUyNyUwQW1vcmVhdTIwMThhJTIwJTNEJTIwREIlMjhXb3JrJTI4JTBBJTIwJTIwJTIwJTIwMjAxOCUyQyUyMCUyMkElMjB0ZW1wbGF0aW5nJTIwc3lzdGVtJTIwdG8lMjBnZW5lcmF0ZSUyMHByb3ZlbmFuY2UlMjIlMkMlMEElMjAlMjAlMjAlMjBkaXNwbGF5JTNEJTIybW9yZWF1JTIyJTJDJTBBJTIwJTIwJTIwJTIwYXV0aG9ycyUzRCUyMk1vcmVhdSUyQyUyMEx1YyUyMGFuZCUyMEJhdGxhamVyeSUyQyUyMEJlbGZyaXQlMjBWaWN0b3IlMjBhbmQlMjBIdXluaCUyQyUyMFRydW5nJTIwRG9uZyUyMGFuZCUyME1pY2hhZWxpZGVzJTJDJTIwRGFuaXVzJTIwYW5kJTIwUGFja2VyJTJDJTIwSGVhdGhlciUyMiUyQyUwQSUyMCUyMCUyMCUyMHBsYWNlJTNEVEJNRSUyQyUwQSUyMCUyMCUyMCUyMHBwJTNEJTIyMTAzLS0xMjElMjIlMkMlMEElMjAlMjAlMjAlMjBlbnRyeXR5cGUlM0QlMjJhcnRpY2xlJTIyJTJDJTBBJTIwJTIwJTIwJTIwdm9sdW1lJTNEJTIyNDQlMjIlMkMlMEElMjAlMjAlMjAlMjBudW1iZXIlM0QlMjIyJTIyJTJDJTBBJTIwJTIwJTIwJTIwcHVibGlzaGVyJTNEJTIySUVFRSUyMiUyQyUwQSUyMCUyMCUyMCUyMElEJTNEJTIybW9yZWF1MjAxOHRlbXBsYXRpbmclMjIlMkMlMEElMjAlMjAlMjAlMjBjbHVzdGVyX2lkJTNEJTIyMTM2Njk3MTcyMTkxODYwMDYyMzAlMjIlMkMlMEElMjAlMjAlMjAlMjBzY2hvbGFyJTNEJTIyaHR0cCUzQS8vc2Nob2xhci5nb29nbGUuY29tL3NjaG9sYXIlM0ZjaXRlcyUzRDEzNjY5NzE3MjE5MTg2MDA2MjMwJTI2YXNfc2R0JTNEMjAwNSUyNnNjaW9kdCUzRDAlMkM1JTI2aGwlM0RlbiUyMiUyQyUwQSUyOSUyOSUwQSUwQURCJTI4Q2l0YXRpb24lMjglMEElMjAlMjAlMjAlMjBtb3JlYXUyMDE4YSUyQyUyMG1pY2hhZWxpZGVzMjAxNmElMkMlMjByZWYlM0QlMjIlMjIlMkMlMEElMjAlMjAlMjAlMjBjb250ZXh0cyUzRCU1QiUwQSUwQSUyMCUyMCUyMCUyMCU1RCUyQyUwQSUyOSUyOSUwQSUwQSUyNyUyNyUyNyUyQyUyMGNpdGF0aW9ucyUzRCUyN21pY2hhZWxpZGVzMjAxNiUyNyUyOSUzQg==\")));\n",
       "    "
      ],
      "text/plain": [
       "<IPython.core.display.Javascript object>"
      ]
     },
     "metadata": {},
     "output_type": "display_data"
    },
    {
     "data": {
      "application/javascript": [
       "$('span:contains(\"# Temp\")').closest('.cell').remove();"
      ],
      "text/plain": [
       "<IPython.core.display.Javascript object>"
      ]
     },
     "metadata": {},
     "output_type": "display_data"
    },
    {
     "data": {
      "application/javascript": [
       "\n",
       "        $('span:contains(\"# Temp\")').closest('.cell').remove();\n",
       "        var code = IPython.notebook.insert_cell_below('code');\n",
       "        code.set_text(decodeURIComponent(window.atob(\"JTIzJTIwVGVtcCUwQWluc2VydCUyOCUyNyUyNyUyNyUwQW1vcmVhdTIwMThhJTIwJTNEJTIwREIlMjhXb3JrVW5yZWxhdGVkJTI4JTBBJTIwJTIwJTIwJTIwMjAxOCUyQyUyMCUyMkElMjB0ZW1wbGF0aW5nJTIwc3lzdGVtJTIwdG8lMjBnZW5lcmF0ZSUyMHByb3ZlbmFuY2UlMjIlMkMlMEElMjAlMjAlMjAlMjBkdWUlM0QlMjJVbnJlbGF0ZWQlMjB0byUyMHNjcmlwdHMlMjIlMkMlMEElMjAlMjAlMjAlMjBkaXNwbGF5JTNEJTIybW9yZWF1JTIyJTJDJTBBJTIwJTIwJTIwJTIwYXV0aG9ycyUzRCUyMk1vcmVhdSUyQyUyMEx1YyUyMGFuZCUyMEJhdGxhamVyeSUyQyUyMEJlbGZyaXQlMjBWaWN0b3IlMjBhbmQlMjBIdXluaCUyQyUyMFRydW5nJTIwRG9uZyUyMGFuZCUyME1pY2hhZWxpZGVzJTJDJTIwRGFuaXVzJTIwYW5kJTIwUGFja2VyJTJDJTIwSGVhdGhlciUyMiUyQyUwQSUyMCUyMCUyMCUyMHBsYWNlJTNEVEJNRSUyQyUwQSUyMCUyMCUyMCUyMHBwJTNEJTIyMTAzLS0xMjElMjIlMkMlMEElMjAlMjAlMjAlMjBlbnRyeXR5cGUlM0QlMjJhcnRpY2xlJTIyJTJDJTBBJTIwJTIwJTIwJTIwdm9sdW1lJTNEJTIyNDQlMjIlMkMlMEElMjAlMjAlMjAlMjBudW1iZXIlM0QlMjIyJTIyJTJDJTBBJTIwJTIwJTIwJTIwcHVibGlzaGVyJTNEJTIySUVFRSUyMiUyQyUwQSUyMCUyMCUyMCUyMElEJTNEJTIybW9yZWF1MjAxOHRlbXBsYXRpbmclMjIlMkMlMEElMjAlMjAlMjAlMjBjbHVzdGVyX2lkJTNEJTIyMTM2Njk3MTcyMTkxODYwMDYyMzAlMjIlMkMlMEElMjAlMjAlMjAlMjBzY2hvbGFyJTNEJTIyaHR0cCUzQS8vc2Nob2xhci5nb29nbGUuY29tL3NjaG9sYXIlM0ZjaXRlcyUzRDEzNjY5NzE3MjE5MTg2MDA2MjMwJTI2YXNfc2R0JTNEMjAwNSUyNnNjaW9kdCUzRDAlMkM1JTI2aGwlM0RlbiUyMiUyQyUwQSUyMCUyMCUyMCUyMGZpbGUlM0QlMjJtb3JlYXUyMDE4YS5wZGYlMjIlMkMlMEElMjklMjklMEElMEFEQiUyOENpdGF0aW9uJTI4JTBBJTIwJTIwJTIwJTIwbW9yZWF1MjAxOGElMkMlMjBtaWNoYWVsaWRlczIwMTZhJTJDJTIwcmVmJTNEJTIyJTIyJTJDJTBBJTIwJTIwJTIwJTIwY29udGV4dHMlM0QlNUIlMEElMEElMjAlMjAlMjAlMjAlNUQlMkMlMEElMjklMjklMEElMEElMjclMjclMjclMkMlMjBjaXRhdGlvbnMlM0QlMjdtaWNoYWVsaWRlczIwMTYlMjclMjklM0I=\")));\n",
       "    "
      ],
      "text/plain": [
       "<IPython.core.display.Javascript object>"
      ]
     },
     "metadata": {},
     "output_type": "display_data"
    },
    {
     "data": {
      "application/javascript": [
       "$('span:contains(\"# Temp\")').closest('.cell').remove();"
      ],
      "text/plain": [
       "<IPython.core.display.Javascript object>"
      ]
     },
     "metadata": {},
     "output_type": "display_data"
    },
    {
     "data": {
      "application/javascript": [
       "\n",
       "        $('span:contains(\"# Temp\")').closest('.cell').remove();\n",
       "        var code = IPython.notebook.insert_cell_below('code');\n",
       "        code.set_text(decodeURIComponent(window.atob(\"JTIzJTIwVGVtcCUwQWluc2VydCUyOCUyNyUyNyUyNyUwQWNvcnJlbmRvMjAxN2ElMjAlM0QlMjBEQiUyOFdvcmtVbnJlbGF0ZWQlMjglMEElMjAlMjAlMjAlMjAyMDE3JTJDJTIwJTIyRU80V2lsZGxpZmUlM0ElMjBEMy4lMjAyJTIwS25vd2xlZGdlJTIwQmFzZSUyMFNlcnZpY2UlMjBBcmNoaXRlY3R1cmUlMjBTcGVjaWZpY2F0aW9uJTIwdjIlM0ElMjBXUDMtLUFkdmFuY2VkJTIwQW5hbHl0aWNzJTIwYW5kJTIwS25vd2xlZGdlJTIwQmFzZSUyMiUyQyUwQSUyMCUyMCUyMCUyMGR1ZSUzRCUyMlVucmVsYXRlZCUyMHRvJTIwc2NyaXB0cyUyMiUyQyUwQSUyMCUyMCUyMCUyMGRpc3BsYXklM0QlMjJjb3JyZW5kbyUyMiUyQyUwQSUyMCUyMCUyMCUyMGF1dGhvcnMlM0QlMjJDb3JyZW5kbyUyQyUyMEdpYW5sdWNhJTIyJTJDJTBBJTIwJTIwJTIwJTIwcGxhY2UxJTNEJTIyJTIyJTJDJTBBJTIwJTIwJTIwJTIwZW50cnl0eXBlJTNEJTIyYXJ0aWNsZSUyMiUyQyUwQSUyMCUyMCUyMCUyMElEJTNEJTIyY29ycmVuZG8yMDE3ZW80d2lsZGxpZmUlMjIlMkMlMEElMjAlMjAlMjAlMjBmaWxlJTNEJTIyY29ycmVuZG8yMDE3YS5wZGYlMjIlMkMlMEElMjklMjklMEElMEFEQiUyOENpdGF0aW9uJTI4JTBBJTIwJTIwJTIwJTIwY29ycmVuZG8yMDE3YSUyQyUyMG1pY2hhZWxpZGVzMjAxNmElMkMlMjByZWYlM0QlMjIlMjIlMkMlMEElMjAlMjAlMjAlMjBjb250ZXh0cyUzRCU1QiUwQSUwQSUyMCUyMCUyMCUyMCU1RCUyQyUwQSUyOSUyOSUwQSUwQSUyNyUyNyUyNyUyQyUyMGNpdGF0aW9ucyUzRCUyN21pY2hhZWxpZGVzMjAxNiUyNyUyOSUzQg==\")));\n",
       "    "
      ],
      "text/plain": [
       "<IPython.core.display.Javascript object>"
      ]
     },
     "metadata": {},
     "output_type": "display_data"
    },
    {
     "data": {
      "application/javascript": [
       "$('span:contains(\"# Temp\")').closest('.cell').remove();"
      ],
      "text/plain": [
       "<IPython.core.display.Javascript object>"
      ]
     },
     "metadata": {},
     "output_type": "display_data"
    },
    {
     "data": {
      "application/javascript": [
       "\n",
       "        $('span:contains(\"# Temp\")').closest('.cell').remove();\n",
       "        var code = IPython.notebook.insert_cell_below('code');\n",
       "        code.set_text(decodeURIComponent(window.atob(\"JTIzJTIwVGVtcCUwQWluc2VydCUyOCUyNyUyNyUyNyUwQWNvcnJlbmRvMjAxN2ElMjAlM0QlMjBEQiUyOFdvcmslMjglMEElMjAlMjAlMjAlMjAyMDE3JTJDJTIwJTIyRU80V2lsZGxpZmUlM0ElMjBEMy4lMjAyJTIwS25vd2xlZGdlJTIwQmFzZSUyMFNlcnZpY2UlMjBBcmNoaXRlY3R1cmUlMjBTcGVjaWZpY2F0aW9uJTIwdjIlM0ElMjBXUDMtLUFkdmFuY2VkJTIwQW5hbHl0aWNzJTIwYW5kJTIwS25vd2xlZGdlJTIwQmFzZSUyMiUyQyUwQSUyMCUyMCUyMCUyMGRpc3BsYXklM0QlMjJjb3JyZW5kbyUyMiUyQyUwQSUyMCUyMCUyMCUyMGF1dGhvcnMlM0QlMjJDb3JyZW5kbyUyQyUyMEdpYW5sdWNhJTIyJTJDJTBBJTIwJTIwJTIwJTIwcGxhY2UxJTNEJTIyJTIyJTJDJTBBJTIwJTIwJTIwJTIwZW50cnl0eXBlJTNEJTIyYXJ0aWNsZSUyMiUyQyUwQSUyMCUyMCUyMCUyMElEJTNEJTIyY29ycmVuZG8yMDE3ZW80d2lsZGxpZmUlMjIlMkMlMEElMjklMjklMEElMEFEQiUyOENpdGF0aW9uJTI4JTBBJTIwJTIwJTIwJTIwY29ycmVuZG8yMDE3YSUyQyUyMG1pY2hhZWxpZGVzMjAxNmElMkMlMjByZWYlM0QlMjIlMjIlMkMlMEElMjAlMjAlMjAlMjBjb250ZXh0cyUzRCU1QiUwQSUwQSUyMCUyMCUyMCUyMCU1RCUyQyUwQSUyOSUyOSUwQSUwQSUyNyUyNyUyNyUyQyUyMGNpdGF0aW9ucyUzRCUyN21pY2hhZWxpZGVzMjAxNiUyNyUyOSUzQg==\")));\n",
       "    "
      ],
      "text/plain": [
       "<IPython.core.display.Javascript object>"
      ]
     },
     "metadata": {},
     "output_type": "display_data"
    },
    {
     "data": {
      "application/javascript": [
       "$('span:contains(\"# Temp\")').closest('.cell').remove();"
      ],
      "text/plain": [
       "<IPython.core.display.Javascript object>"
      ]
     },
     "metadata": {},
     "output_type": "display_data"
    },
    {
     "data": {
      "application/javascript": [
       "\n",
       "        $('span:contains(\"# Temp\")').closest('.cell').remove();\n",
       "        var code = IPython.notebook.insert_cell_below('code');\n",
       "        code.set_text(decodeURIComponent(window.atob(\"JTIzJTIwVGVtcCUwQWluc2VydCUyOCUyNyUyNyUyNyUwQWNvcnJlbmRvMjAxN2ElMjAlM0QlMjBEQiUyOFdvcmtVbnJlbGF0ZWQlMjglMEElMjAlMjAlMjAlMjAyMDE3JTJDJTIwJTIyRU80V2lsZGxpZmUlM0ElMjBEMy4lMjAyJTIwS25vd2xlZGdlJTIwQmFzZSUyMFNlcnZpY2UlMjBBcmNoaXRlY3R1cmUlMjBTcGVjaWZpY2F0aW9uJTIwdjIlM0ElMjBXUDMtLUFkdmFuY2VkJTIwQW5hbHl0aWNzJTIwYW5kJTIwS25vd2xlZGdlJTIwQmFzZSUyMiUyQyUwQSUyMCUyMCUyMCUyMGR1ZSUzRCUyMlVucmVsYXRlZCUyMHRvJTIwc2NyaXB0cyUyMiUyQyUwQSUyMCUyMCUyMCUyMGRpc3BsYXklM0QlMjJjb3JyZW5kbyUyMiUyQyUwQSUyMCUyMCUyMCUyMGF1dGhvcnMlM0QlMjJDb3JyZW5kbyUyQyUyMEdpYW5sdWNhJTIyJTJDJTBBJTIwJTIwJTIwJTIwcGxhY2UlM0RUaGVzaXMlMkMlMEElMjAlMjAlMjAlMjBlbnRyeXR5cGUlM0QlMjJhcnRpY2xlJTIyJTJDJTBBJTIwJTIwJTIwJTIwSUQlM0QlMjJjb3JyZW5kbzIwMTdlbzR3aWxkbGlmZSUyMiUyQyUwQSUyMCUyMCUyMCUyMGZpbGUlM0QlMjJjb3JyZW5kbzIwMTdhLnBkZiUyMiUyQyUwQSUyOSUyOSUwQSUwQURCJTI4Q2l0YXRpb24lMjglMEElMjAlMjAlMjAlMjBjb3JyZW5kbzIwMTdhJTJDJTIwbWljaGFlbGlkZXMyMDE2YSUyQyUyMHJlZiUzRCUyMiUyMiUyQyUwQSUyMCUyMCUyMCUyMGNvbnRleHRzJTNEJTVCJTBBJTBBJTIwJTIwJTIwJTIwJTVEJTJDJTBBJTI5JTI5JTBBJTBBJTI3JTI3JTI3JTJDJTIwY2l0YXRpb25zJTNEJTI3bWljaGFlbGlkZXMyMDE2JTI3JTI5JTNC\")));\n",
       "    "
      ],
      "text/plain": [
       "<IPython.core.display.Javascript object>"
      ]
     },
     "metadata": {},
     "output_type": "display_data"
    },
    {
     "data": {
      "application/javascript": [
       "$('span:contains(\"# Temp\")').closest('.cell').remove();"
      ],
      "text/plain": [
       "<IPython.core.display.Javascript object>"
      ]
     },
     "metadata": {},
     "output_type": "display_data"
    },
    {
     "data": {
      "application/javascript": [
       "\n",
       "        $('span:contains(\"# Temp\")').closest('.cell').remove();\n",
       "        var code = IPython.notebook.insert_cell_below('code');\n",
       "        code.set_text(decodeURIComponent(window.atob(\"JTIzJTIwVGVtcCUwQWluc2VydCUyOCUyNyUyNyUyNyUwQWxlcm5lcjIwMThhJTIwJTNEJTIwREIlMjhXb3JrVW5yZWxhdGVkJTI4JTBBJTIwJTIwJTIwJTIwMjAxOCUyQyUyMCUyMlVzaW5nJTIwSW50cm9zcGVjdGlvbiUyMHRvJTIwQ29sbGVjdCUyMFByb3ZlbmFuY2UlMjBpbiUyMFIlMjIlMkMlMEElMjAlMjAlMjAlMjBkdWUlM0QlMjJVbnJlbGF0ZWQlMjB0byUyMHNjcmlwdHMlMjIlMkMlMEElMjAlMjAlMjAlMjBkaXNwbGF5JTNEJTIybGVybmVyJTIyJTJDJTBBJTIwJTIwJTIwJTIwYXV0aG9ycyUzRCUyMkxlcm5lciUyQyUyMEJhcmJhcmElMjBhbmQlMjBCb29zZSUyQyUyMEVtZXJ5JTIwYW5kJTIwUGVyZXolMkMlMjBMdWlzJTIyJTJDJTBBJTIwJTIwJTIwJTIwcGxhY2UlM0RUaGVzaXMlMkMlMEElMjAlMjAlMjAlMjBwcCUzRCUyMjEyJTIyJTJDJTBBJTIwJTIwJTIwJTIwZW50cnl0eXBlJTNEJTIyaW5wcm9jZWVkaW5ncyUyMiUyQyUwQSUyMCUyMCUyMCUyMHZvbHVtZSUzRCUyMjUlMjIlMkMlMEElMjAlMjAlMjAlMjBudW1iZXIlM0QlMjIxJTIyJTJDJTBBJTIwJTIwJTIwJTIwb3JnYW5pemF0aW9uJTNEJTIyTXVsdGlkaXNjaXBsaW5hcnklMjBEaWdpdGFsJTIwUHVibGlzaGluZyUyMEluc3RpdHV0ZSUyMiUyQyUwQSUyMCUyMCUyMCUyMElEJTNEJTIybGVybmVyMjAxOHVzaW5nJTIyJTJDJTBBJTIwJTIwJTIwJTIwZmlsZSUzRCUyMmxlcm5lcjIwMThhLnBkZiUyMiUyQyUwQSUyOSUyOSUwQSUwQURCJTI4Q2l0YXRpb24lMjglMEElMjAlMjAlMjAlMjBsZXJuZXIyMDE4YSUyQyUyMG1pY2hhZWxpZGVzMjAxNmElMkMlMjByZWYlM0QlMjIlMjIlMkMlMEElMjAlMjAlMjAlMjBjb250ZXh0cyUzRCU1QiUwQSUwQSUyMCUyMCUyMCUyMCU1RCUyQyUwQSUyOSUyOSUwQSUwQSUyNyUyNyUyNyUyQyUyMGNpdGF0aW9ucyUzRCUyN21pY2hhZWxpZGVzMjAxNiUyNyUyOSUzQg==\")));\n",
       "    "
      ],
      "text/plain": [
       "<IPython.core.display.Javascript object>"
      ]
     },
     "metadata": {},
     "output_type": "display_data"
    },
    {
     "data": {
      "application/javascript": [
       "$('span:contains(\"# Temp\")').closest('.cell').remove();"
      ],
      "text/plain": [
       "<IPython.core.display.Javascript object>"
      ]
     },
     "metadata": {},
     "output_type": "display_data"
    },
    {
     "data": {
      "application/javascript": [
       "\n",
       "        $('span:contains(\"# Temp\")').closest('.cell').remove();\n",
       "        var code = IPython.notebook.insert_cell_below('code');\n",
       "        code.set_text(decodeURIComponent(window.atob(\"JTIzJTIwVGVtcCUwQWluc2VydCUyOCUyNyUyNyUyNyUwQWxlcm5lcjIwMThhJTIwJTNEJTIwREIlMjhXb3JrJTI4JTBBJTIwJTIwJTIwJTIwMjAxOCUyQyUyMCUyMlVzaW5nJTIwSW50cm9zcGVjdGlvbiUyMHRvJTIwQ29sbGVjdCUyMFByb3ZlbmFuY2UlMjBpbiUyMFIlMjIlMkMlMEElMjAlMjAlMjAlMjBkaXNwbGF5JTNEJTIybGVybmVyJTIyJTJDJTBBJTIwJTIwJTIwJTIwYXV0aG9ycyUzRCUyMkxlcm5lciUyQyUyMEJhcmJhcmElMjBhbmQlMjBCb29zZSUyQyUyMEVtZXJ5JTIwYW5kJTIwUGVyZXolMkMlMjBMdWlzJTIyJTJDJTBBJTIwJTIwJTIwJTIwcGxhY2UlM0RiaW9pbmZvcm1hdGljcyUyQyUwQSUyMCUyMCUyMCUyMHBwJTNEJTIyMTIlMjIlMkMlMEElMjAlMjAlMjAlMjBlbnRyeXR5cGUlM0QlMjJpbnByb2NlZWRpbmdzJTIyJTJDJTBBJTIwJTIwJTIwJTIwdm9sdW1lJTNEJTIyNSUyMiUyQyUwQSUyMCUyMCUyMCUyMG51bWJlciUzRCUyMjElMjIlMkMlMEElMjAlMjAlMjAlMjBvcmdhbml6YXRpb24lM0QlMjJNdWx0aWRpc2NpcGxpbmFyeSUyMERpZ2l0YWwlMjBQdWJsaXNoaW5nJTIwSW5zdGl0dXRlJTIyJTJDJTBBJTIwJTIwJTIwJTIwSUQlM0QlMjJsZXJuZXIyMDE4dXNpbmclMjIlMkMlMEElMjklMjklMEElMEFEQiUyOENpdGF0aW9uJTI4JTBBJTIwJTIwJTIwJTIwbGVybmVyMjAxOGElMkMlMjBtaWNoYWVsaWRlczIwMTZhJTJDJTIwcmVmJTNEJTIyJTIyJTJDJTBBJTIwJTIwJTIwJTIwY29udGV4dHMlM0QlNUIlMEElMEElMjAlMjAlMjAlMjAlNUQlMkMlMEElMjklMjklMEElMEElMjclMjclMjclMkMlMjBjaXRhdGlvbnMlM0QlMjdtaWNoYWVsaWRlczIwMTYlMjclMjklM0I=\")));\n",
       "    "
      ],
      "text/plain": [
       "<IPython.core.display.Javascript object>"
      ]
     },
     "metadata": {},
     "output_type": "display_data"
    },
    {
     "data": {
      "application/javascript": [
       "$('span:contains(\"# Temp\")').closest('.cell').remove();"
      ],
      "text/plain": [
       "<IPython.core.display.Javascript object>"
      ]
     },
     "metadata": {},
     "output_type": "display_data"
    },
    {
     "data": {
      "application/javascript": [
       "\n",
       "        $('span:contains(\"# Temp\")').closest('.cell').remove();\n",
       "        var code = IPython.notebook.insert_cell_below('code');\n",
       "        code.set_text(decodeURIComponent(window.atob(\"JTIzJTIwVGVtcCUwQWluc2VydCUyOCUyNyUyNyUyNyUwQWxlcm5lcjIwMThhJTIwJTNEJTIwREIlMjhXb3JrT2slMjglMEElMjAlMjAlMjAlMjAyMDE4JTJDJTIwJTIyVXNpbmclMjBJbnRyb3NwZWN0aW9uJTIwdG8lMjBDb2xsZWN0JTIwUHJvdmVuYW5jZSUyMGluJTIwUiUyMiUyQyUwQSUyMCUyMCUyMCUyMGRpc3BsYXklM0QlMjJsZXJuZXIlMjIlMkMlMEElMjAlMjAlMjAlMjBhdXRob3JzJTNEJTIyTGVybmVyJTJDJTIwQmFyYmFyYSUyMGFuZCUyMEJvb3NlJTJDJTIwRW1lcnklMjBhbmQlMjBQZXJleiUyQyUyMEx1aXMlMjIlMkMlMEElMjAlMjAlMjAlMjBwbGFjZSUzRGJpb2luZm9ybWF0aWNzJTJDJTBBJTIwJTIwJTIwJTIwcHAlM0QlMjIxMiUyMiUyQyUwQSUyMCUyMCUyMCUyMGVudHJ5dHlwZSUzRCUyMmlucHJvY2VlZGluZ3MlMjIlMkMlMEElMjAlMjAlMjAlMjB2b2x1bWUlM0QlMjI1JTIyJTJDJTBBJTIwJTIwJTIwJTIwbnVtYmVyJTNEJTIyMSUyMiUyQyUwQSUyMCUyMCUyMCUyMG9yZ2FuaXphdGlvbiUzRCUyMk11bHRpZGlzY2lwbGluYXJ5JTIwRGlnaXRhbCUyMFB1Ymxpc2hpbmclMjBJbnN0aXR1dGUlMjIlMkMlMEElMjAlMjAlMjAlMjBJRCUzRCUyMmxlcm5lcjIwMTh1c2luZyUyMiUyQyUwQSUyOSUyOSUwQSUwQURCJTI4Q2l0YXRpb24lMjglMEElMjAlMjAlMjAlMjBsZXJuZXIyMDE4YSUyQyUyMG1pY2hhZWxpZGVzMjAxNmElMkMlMjByZWYlM0QlMjIlMjIlMkMlMEElMjAlMjAlMjAlMjBjb250ZXh0cyUzRCU1QiUwQSUwQSUyMCUyMCUyMCUyMCU1RCUyQyUwQSUyOSUyOSUwQSUwQSUyNyUyNyUyNyUyQyUyMGNpdGF0aW9ucyUzRCUyN21pY2hhZWxpZGVzMjAxNiUyNyUyOSUzQg==\")));\n",
       "    "
      ],
      "text/plain": [
       "<IPython.core.display.Javascript object>"
      ]
     },
     "metadata": {},
     "output_type": "display_data"
    },
    {
     "data": {
      "application/javascript": [
       "$('span:contains(\"# Temp\")').closest('.cell').remove();"
      ],
      "text/plain": [
       "<IPython.core.display.Javascript object>"
      ]
     },
     "metadata": {},
     "output_type": "display_data"
    },
    {
     "data": {
      "application/javascript": [
       "\n",
       "        $('span:contains(\"# Temp\")').closest('.cell').remove();\n",
       "        var code = IPython.notebook.insert_cell_below('code');\n",
       "        code.set_text(decodeURIComponent(window.atob(\"JTIzJTIwVGVtcCUwQWluc2VydCUyOCUyNyUyNyUyNyUwQWNvcnJlbmRvMjAxNmElMjAlM0QlMjBEQiUyOFdvcmtPayUyOCUwQSUyMCUyMCUyMCUyMDIwMTYlMkMlMjAlMjJLbm93bGVkZ2UlMjBCYXNlJTIwU2VydmljZSUyMGFyY2hpdGVjdHVyZSUyMFNwZWNpZmljYXRpb24lMjB2MSUyMiUyQyUwQSUyMCUyMCUyMCUyMGRpc3BsYXklM0QlMjJjb3JyZW5kbyUyMiUyQyUwQSUyMCUyMCUyMCUyMGF1dGhvcnMlM0QlMjJDb3JyZW5kbyUyQyUyMEdpYW5sdWNhJTIwYW5kJTIwWmlnbmElMkMlMjBKZWFuLU1pY2hlbCUyMGFuZCUyMEhhdWdvbW1hcmQlMkMlMjBBbm5lJTIyJTJDJTBBJTIwJTIwJTIwJTIwcGxhY2UxJTNEJTIyJTIyJTJDJTBBJTIwJTIwJTIwJTIwZW50cnl0eXBlJTNEJTIyYXJ0aWNsZSUyMiUyQyUwQSUyMCUyMCUyMCUyMHB1Ymxpc2hlciUzRCUyMkVPNHdpbGRsaWZlJTIwQ29uc29ydGl1bSUyMiUyQyUwQSUyMCUyMCUyMCUyMElEJTNEJTIyY29ycmVuZG8yMDE2a25vd2xlZGdlJTIyJTJDJTBBJTI5JTI5JTBBJTBBREIlMjhDaXRhdGlvbiUyOCUwQSUyMCUyMCUyMCUyMGNvcnJlbmRvMjAxNmElMkMlMjBtaWNoYWVsaWRlczIwMTZhJTJDJTIwcmVmJTNEJTIyJTIyJTJDJTBBJTIwJTIwJTIwJTIwY29udGV4dHMlM0QlNUIlMEElMEElMjAlMjAlMjAlMjAlNUQlMkMlMEElMjklMjklMEElMEElMjclMjclMjclMkMlMjBjaXRhdGlvbnMlM0QlMjdtaWNoYWVsaWRlczIwMTYlMjclMjklM0I=\")));\n",
       "    "
      ],
      "text/plain": [
       "<IPython.core.display.Javascript object>"
      ]
     },
     "metadata": {},
     "output_type": "display_data"
    },
    {
     "data": {
      "application/javascript": [
       "$('span:contains(\"# Temp\")').closest('.cell').remove();"
      ],
      "text/plain": [
       "<IPython.core.display.Javascript object>"
      ]
     },
     "metadata": {},
     "output_type": "display_data"
    },
    {
     "data": {
      "application/javascript": [
       "\n",
       "        $('span:contains(\"# Temp\")').closest('.cell').remove();\n",
       "        var code = IPython.notebook.insert_cell_below('code');\n",
       "        code.set_text(decodeURIComponent(window.atob(\"JTIzJTIwVGVtcCUwQWluc2VydCUyOCUyNyUyNyUyNyUwQWNvcnJlbmRvMjAxNmElMjAlM0QlMjBEQiUyOFdvcmslMjglMEElMjAlMjAlMjAlMjAyMDE2JTJDJTIwJTIyS25vd2xlZGdlJTIwQmFzZSUyMFNlcnZpY2UlMjBhcmNoaXRlY3R1cmUlMjBTcGVjaWZpY2F0aW9uJTIwdjElMjIlMkMlMEElMjAlMjAlMjAlMjBkaXNwbGF5JTNEJTIyY29ycmVuZG8lMjIlMkMlMEElMjAlMjAlMjAlMjBhdXRob3JzJTNEJTIyQ29ycmVuZG8lMkMlMjBHaWFubHVjYSUyMGFuZCUyMFppZ25hJTJDJTIwSmVhbi1NaWNoZWwlMjBhbmQlMjBIYXVnb21tYXJkJTJDJTIwQW5uZSUyMiUyQyUwQSUyMCUyMCUyMCUyMHBsYWNlMSUzRCUyMiUyMiUyQyUwQSUyMCUyMCUyMCUyMGVudHJ5dHlwZSUzRCUyMmFydGljbGUlMjIlMkMlMEElMjAlMjAlMjAlMjBwdWJsaXNoZXIlM0QlMjJFTzR3aWxkbGlmZSUyMENvbnNvcnRpdW0lMjIlMkMlMEElMjAlMjAlMjAlMjBJRCUzRCUyMmNvcnJlbmRvMjAxNmtub3dsZWRnZSUyMiUyQyUwQSUyOSUyOSUwQSUwQURCJTI4Q2l0YXRpb24lMjglMEElMjAlMjAlMjAlMjBjb3JyZW5kbzIwMTZhJTJDJTIwbWljaGFlbGlkZXMyMDE2YSUyQyUyMHJlZiUzRCUyMiUyMiUyQyUwQSUyMCUyMCUyMCUyMGNvbnRleHRzJTNEJTVCJTBBJTBBJTIwJTIwJTIwJTIwJTVEJTJDJTBBJTI5JTI5JTBBJTBBJTI3JTI3JTI3JTJDJTIwY2l0YXRpb25zJTNEJTI3bWljaGFlbGlkZXMyMDE2JTI3JTI5JTNC\")));\n",
       "    "
      ],
      "text/plain": [
       "<IPython.core.display.Javascript object>"
      ]
     },
     "metadata": {},
     "output_type": "display_data"
    },
    {
     "data": {
      "application/javascript": [
       "$('span:contains(\"# Temp\")').closest('.cell').remove();"
      ],
      "text/plain": [
       "<IPython.core.display.Javascript object>"
      ]
     },
     "metadata": {},
     "output_type": "display_data"
    },
    {
     "data": {
      "application/javascript": [
       "\n",
       "        $('span:contains(\"# Temp\")').closest('.cell').remove();\n",
       "        var code = IPython.notebook.insert_cell_below('code');\n",
       "        code.set_text(decodeURIComponent(window.atob(\"JTIzJTIwVGVtcCUwQWluc2VydCUyOCUyNyUyNyUyNyUwQWNvcnJlbmRvMjAxNmElMjAlM0QlMjBEQiUyOFdvcmtVbnJlbGF0ZWQlMjglMEElMjAlMjAlMjAlMjAyMDE2JTJDJTIwJTIyS25vd2xlZGdlJTIwQmFzZSUyMFNlcnZpY2UlMjBhcmNoaXRlY3R1cmUlMjBTcGVjaWZpY2F0aW9uJTIwdjElMjIlMkMlMEElMjAlMjAlMjAlMjBkdWUlM0QlMjJVbnJlbGF0ZWQlMjB0byUyMHNjcmlwdHMlMjIlMkMlMEElMjAlMjAlMjAlMjBkaXNwbGF5JTNEJTIyY29ycmVuZG8lMjIlMkMlMEElMjAlMjAlMjAlMjBhdXRob3JzJTNEJTIyQ29ycmVuZG8lMkMlMjBHaWFubHVjYSUyMGFuZCUyMFppZ25hJTJDJTIwSmVhbi1NaWNoZWwlMjBhbmQlMjBIYXVnb21tYXJkJTJDJTIwQW5uZSUyMiUyQyUwQSUyMCUyMCUyMCUyMHBsYWNlMSUzRCUyMiUyMiUyQyUwQSUyMCUyMCUyMCUyMGVudHJ5dHlwZSUzRCUyMmFydGljbGUlMjIlMkMlMEElMjAlMjAlMjAlMjBwdWJsaXNoZXIlM0QlMjJFTzR3aWxkbGlmZSUyMENvbnNvcnRpdW0lMjIlMkMlMEElMjAlMjAlMjAlMjBJRCUzRCUyMmNvcnJlbmRvMjAxNmtub3dsZWRnZSUyMiUyQyUwQSUyMCUyMCUyMCUyMGZpbGUlM0QlMjJjb3JyZW5kbzIwMTZhLnBkZiUyMiUyQyUwQSUyOSUyOSUwQSUwQURCJTI4Q2l0YXRpb24lMjglMEElMjAlMjAlMjAlMjBjb3JyZW5kbzIwMTZhJTJDJTIwbWljaGFlbGlkZXMyMDE2YSUyQyUyMHJlZiUzRCUyMiUyMiUyQyUwQSUyMCUyMCUyMCUyMGNvbnRleHRzJTNEJTVCJTBBJTBBJTIwJTIwJTIwJTIwJTVEJTJDJTBBJTI5JTI5JTBBJTBBJTI3JTI3JTI3JTJDJTIwY2l0YXRpb25zJTNEJTI3bWljaGFlbGlkZXMyMDE2JTI3JTI5JTNC\")));\n",
       "    "
      ],
      "text/plain": [
       "<IPython.core.display.Javascript object>"
      ]
     },
     "metadata": {},
     "output_type": "display_data"
    },
    {
     "data": {
      "application/javascript": [
       "$('span:contains(\"# Temp\")').closest('.cell').remove();"
      ],
      "text/plain": [
       "<IPython.core.display.Javascript object>"
      ]
     },
     "metadata": {},
     "output_type": "display_data"
    },
    {
     "data": {
      "application/javascript": [
       "\n",
       "        $('span:contains(\"# Temp\")').closest('.cell').remove();\n",
       "        var code = IPython.notebook.insert_cell_below('code');\n",
       "        code.set_text(decodeURIComponent(window.atob(\"JTIzJTIwVGVtcCUwQWluc2VydCUyOCUyNyUyNyUyNyUwQWNvcnJlbmRvMjAxNmElMjAlM0QlMjBEQiUyOFdvcmtVbnJlbGF0ZWQlMjglMEElMjAlMjAlMjAlMjAyMDE2JTJDJTIwJTIyS25vd2xlZGdlJTIwQmFzZSUyMFNlcnZpY2UlMjBhcmNoaXRlY3R1cmUlMjBTcGVjaWZpY2F0aW9uJTIwdjElMjIlMkMlMEElMjAlMjAlMjAlMjBkdWUlM0QlMjJVbnJlbGF0ZWQlMjB0byUyMHNjcmlwdHMlMjIlMkMlMEElMjAlMjAlMjAlMjBkaXNwbGF5JTNEJTIyY29ycmVuZG8lMjIlMkMlMEElMjAlMjAlMjAlMjBhdXRob3JzJTNEJTIyQ29ycmVuZG8lMkMlMjBHaWFubHVjYSUyMGFuZCUyMFppZ25hJTJDJTIwSmVhbi1NaWNoZWwlMjBhbmQlMjBIYXVnb21tYXJkJTJDJTIwQW5uZSUyMiUyQyUwQSUyMCUyMCUyMCUyMHBsYWNlJTNEVGVjaFJlcG9ydCUyQyUwQSUyMCUyMCUyMCUyMGVudHJ5dHlwZSUzRCUyMmFydGljbGUlMjIlMkMlMEElMjAlMjAlMjAlMjBwdWJsaXNoZXIlM0QlMjJFTzR3aWxkbGlmZSUyMENvbnNvcnRpdW0lMjIlMkMlMEElMjAlMjAlMjAlMjBJRCUzRCUyMmNvcnJlbmRvMjAxNmtub3dsZWRnZSUyMiUyQyUwQSUyMCUyMCUyMCUyMGZpbGUlM0QlMjJjb3JyZW5kbzIwMTZhLnBkZiUyMiUyQyUwQSUyOSUyOSUwQSUwQURCJTI4Q2l0YXRpb24lMjglMEElMjAlMjAlMjAlMjBjb3JyZW5kbzIwMTZhJTJDJTIwbWljaGFlbGlkZXMyMDE2YSUyQyUyMHJlZiUzRCUyMiUyMiUyQyUwQSUyMCUyMCUyMCUyMGNvbnRleHRzJTNEJTVCJTBBJTBBJTIwJTIwJTIwJTIwJTVEJTJDJTBBJTI5JTI5JTBBJTBBJTI3JTI3JTI3JTJDJTIwY2l0YXRpb25zJTNEJTI3bWljaGFlbGlkZXMyMDE2JTI3JTI5JTNC\")));\n",
       "    "
      ],
      "text/plain": [
       "<IPython.core.display.Javascript object>"
      ]
     },
     "metadata": {},
     "output_type": "display_data"
    },
    {
     "data": {
      "application/javascript": [
       "$('span:contains(\"# Temp\")').closest('.cell').remove();"
      ],
      "text/plain": [
       "<IPython.core.display.Javascript object>"
      ]
     },
     "metadata": {},
     "output_type": "display_data"
    },
    {
     "data": {
      "application/javascript": [
       "\n",
       "        $('span:contains(\"# Temp\")').closest('.cell').remove();\n",
       "        var code = IPython.notebook.insert_cell_below('code');\n",
       "        code.set_text(decodeURIComponent(window.atob(\"JTIzJTIwVGVtcCUwQWluc2VydCUyOCUyNyUyNyUyNyUwQWNvcnJlbmRvMjAxNmElMjAlM0QlMjBEQiUyOFdvcmtVbnJlbGF0ZWQlMjglMEElMjAlMjAlMjAlMjAyMDE2JTJDJTIwJTIyS25vd2xlZGdlJTIwQmFzZSUyMFNlcnZpY2UlMjBhcmNoaXRlY3R1cmUlMjBTcGVjaWZpY2F0aW9uJTIwdjElMjIlMkMlMEElMjAlMjAlMjAlMjBkdWUlM0QlMjJVbnJlbGF0ZWQlMjB0byUyMHNjcmlwdHMlMjIlMkMlMEElMjAlMjAlMjAlMjBkaXNwbGF5JTNEJTIyY29ycmVuZG8lMjIlMkMlMEElMjAlMjAlMjAlMjBhdXRob3JzJTNEJTIyQ29ycmVuZG8lMkMlMjBHaWFubHVjYSUyMGFuZCUyMFppZ25hJTJDJTIwSmVhbi1NaWNoZWwlMjBhbmQlMjBIYXVnb21tYXJkJTJDJTIwQW5uZSUyMiUyQyUwQSUyMCUyMCUyMCUyMHBsYWNlJTNEVGVjaFJlcG9ydCUyQyUwQSUyMCUyMCUyMCUyMGVudHJ5dHlwZSUzRCUyMmFydGljbGUlMjIlMkMlMEElMjAlMjAlMjAlMjBwdWJsaXNoZXIlM0QlMjJFTzR3aWxkbGlmZSUyMENvbnNvcnRpdW0lMjIlMkMlMEElMjAlMjAlMjAlMjBJRCUzRCUyMmNvcnJlbmRvMjAxNmtub3dsZWRnZSUyMiUyQyUwQSUyMCUyMCUyMCUyMGZpbGUlM0QlMjJjb3JyZW5kbzIwMTZhLnBkZiUyMiUyQyUwQSUyOSUyOSUwQSUwQURCJTI4Q2l0YXRpb24lMjglMEElMjAlMjAlMjAlMjBjb3JyZW5kbzIwMTZhJTJDJTIwbWljaGFlbGlkZXMyMDE2YSUyQyUyMHJlZiUzRCUyMiUyMiUyQyUwQSUyMCUyMCUyMCUyMGNvbnRleHRzJTNEJTVCJTBBJTBBJTIwJTIwJTIwJTIwJTVEJTJDJTBBJTI5JTI5JTBBJTBBJTI3JTI3JTI3JTJDJTIwY2l0YXRpb25zJTNEJTI3bWljaGFlbGlkZXMyMDE2JTI3JTI5JTNC\")));\n",
       "    "
      ],
      "text/plain": [
       "<IPython.core.display.Javascript object>"
      ]
     },
     "metadata": {},
     "output_type": "display_data"
    },
    {
     "data": {
      "application/javascript": [
       "$('span:contains(\"# Temp\")').closest('.cell').remove();"
      ],
      "text/plain": [
       "<IPython.core.display.Javascript object>"
      ]
     },
     "metadata": {},
     "output_type": "display_data"
    },
    {
     "data": {
      "application/javascript": [
       "\n",
       "        $('span:contains(\"# Temp\")').closest('.cell').remove();\n",
       "        var code = IPython.notebook.insert_cell_below('code');\n",
       "        code.set_text(decodeURIComponent(window.atob(\"JTIzJTIwVGVtcCUwQWluc2VydCUyOCUyNyUyNyUyNyUwQW1vcmVhdTBhJTIwJTNEJTIwREIlMjhXb3JrVW5yZWxhdGVkJTI4JTBBJTIwJTIwJTIwJTIwMCUyQyUyMCUyMkElMjBUZW1wbGF0aW5nJTIwU3lzdGVtJTIwdG8lMjBHZW5lcmF0ZSUyMFByb3ZlbmFuY2UlRTIlODAlOTRTdXBwbGVtZW50YXJ5JTIwTWF0ZXJpYWwlRTIlODAlOTQlMjIlMkMlMEElMjAlMjAlMjAlMjBkdWUlM0QlMjJVbnJlbGF0ZWQlMjB0byUyMHNjcmlwdHMlMjIlMkMlMEElMjAlMjAlMjAlMjBkaXNwbGF5JTNEJTIybW9yZWF1JTIyJTJDJTBBJTIwJTIwJTIwJTIwYXV0aG9ycyUzRCUyMk1vcmVhdSUyQyUyMEx1YyUyMGFuZCUyMEJhdGxhamVyeSUyQyUyMEJlbGZyaXQlMjBWaWN0b3IlMjBhbmQlMjBIdXluaCUyQyUyMFRydW5nJTIwRG9uZyUyMGFuZCUyME1pY2hhZWxpZGVzJTJDJTIwRGFuaXVzJTIwYW5kJTIwUGFja2VyJTJDJTIwSGVhdGhlciUyMiUyQyUwQSUyMCUyMCUyMCUyMHBsYWNlJTNEVGVjaFJlcG9ydCUyQyUwQSUyMCUyMCUyMCUyMGVudHJ5dHlwZSUzRCUyMmFydGljbGUlMjIlMkMlMEElMjAlMjAlMjAlMjBJRCUzRCUyMm1vcmVhdXRlbXBsYXRpbmclMjIlMkMlMEElMjAlMjAlMjAlMjBmaWxlJTNEJTIybW9yZWF1MGEucGRmJTIyJTJDJTBBJTI5JTI5JTBBJTBBREIlMjhDaXRhdGlvbiUyOCUwQSUyMCUyMCUyMCUyMG1vcmVhdTBhJTJDJTIwbWljaGFlbGlkZXMyMDE2YSUyQyUyMHJlZiUzRCUyMiUyMiUyQyUwQSUyMCUyMCUyMCUyMGNvbnRleHRzJTNEJTVCJTBBJTBBJTIwJTIwJTIwJTIwJTVEJTJDJTBBJTI5JTI5JTBBJTBBJTI3JTI3JTI3JTJDJTIwY2l0YXRpb25zJTNEJTI3bWljaGFlbGlkZXMyMDE2JTI3JTI5JTNC\")));\n",
       "    "
      ],
      "text/plain": [
       "<IPython.core.display.Javascript object>"
      ]
     },
     "metadata": {},
     "output_type": "display_data"
    },
    {
     "data": {
      "application/javascript": [
       "$('span:contains(\"# Temp\")').closest('.cell').remove();"
      ],
      "text/plain": [
       "<IPython.core.display.Javascript object>"
      ]
     },
     "metadata": {},
     "output_type": "display_data"
    },
    {
     "data": {
      "application/javascript": [
       "\n",
       "        $('span:contains(\"# Temp\")').closest('.cell').remove();\n",
       "        var code = IPython.notebook.insert_cell_below('code');\n",
       "        code.set_text(decodeURIComponent(window.atob(\"JTIzJTIwVGVtcCUwQWluc2VydCUyOCUyNyUyNyUyNyUwQW1vcmVhdTBhJTIwJTNEJTIwREIlMjhXb3JrJTI4JTBBJTIwJTIwJTIwJTIwMCUyQyUyMCUyMkElMjBUZW1wbGF0aW5nJTIwU3lzdGVtJTIwdG8lMjBHZW5lcmF0ZSUyMFByb3ZlbmFuY2UlRTIlODAlOTRTdXBwbGVtZW50YXJ5JTIwTWF0ZXJpYWwlRTIlODAlOTQlMjIlMkMlMEElMjAlMjAlMjAlMjBkaXNwbGF5JTNEJTIybW9yZWF1JTIyJTJDJTBBJTIwJTIwJTIwJTIwYXV0aG9ycyUzRCUyMk1vcmVhdSUyQyUyMEx1YyUyMGFuZCUyMEJhdGxhamVyeSUyQyUyMEJlbGZyaXQlMjBWaWN0b3IlMjBhbmQlMjBIdXluaCUyQyUyMFRydW5nJTIwRG9uZyUyMGFuZCUyME1pY2hhZWxpZGVzJTJDJTIwRGFuaXVzJTIwYW5kJTIwUGFja2VyJTJDJTIwSGVhdGhlciUyMiUyQyUwQSUyMCUyMCUyMCUyMHBsYWNlMSUzRCUyMiUyMiUyQyUwQSUyMCUyMCUyMCUyMGVudHJ5dHlwZSUzRCUyMmFydGljbGUlMjIlMkMlMEElMjAlMjAlMjAlMjBJRCUzRCUyMm1vcmVhdXRlbXBsYXRpbmclMjIlMkMlMEElMjklMjklMEElMEFEQiUyOENpdGF0aW9uJTI4JTBBJTIwJTIwJTIwJTIwbW9yZWF1MGElMkMlMjBtaWNoYWVsaWRlczIwMTZhJTJDJTIwcmVmJTNEJTIyJTIyJTJDJTBBJTIwJTIwJTIwJTIwY29udGV4dHMlM0QlNUIlMEElMEElMjAlMjAlMjAlMjAlNUQlMkMlMEElMjklMjklMEElMEElMjclMjclMjclMkMlMjBjaXRhdGlvbnMlM0QlMjdtaWNoYWVsaWRlczIwMTYlMjclMjklM0I=\")));\n",
       "    "
      ],
      "text/plain": [
       "<IPython.core.display.Javascript object>"
      ]
     },
     "metadata": {},
     "output_type": "display_data"
    },
    {
     "data": {
      "application/javascript": [
       "$('span:contains(\"# Temp\")').closest('.cell').remove();"
      ],
      "text/plain": [
       "<IPython.core.display.Javascript object>"
      ]
     },
     "metadata": {},
     "output_type": "display_data"
    },
    {
     "data": {
      "application/javascript": [
       "\n",
       "        $('span:contains(\"# Temp\")').closest('.cell').remove();\n",
       "        var code = IPython.notebook.insert_cell_below('code');\n",
       "        code.set_text(decodeURIComponent(window.atob(\"JTIzJTIwVGVtcCUwQWluc2VydCUyOCUyNyUyNyUyNyUwQW1vcmVhdTIwMThiJTIwJTNEJTIwREIlMjhXb3JrJTI4JTBBJTIwJTIwJTIwJTIwMjAxOCUyQyUyMCUyMkElMjBUZW1wbGF0aW5nJTIwU3lzdGVtJTIwdG8lMjBHZW5lcmF0ZSUyMFByb3ZlbmFuY2UlRTIlODAlOTRTdXBwbGVtZW50YXJ5JTIwTWF0ZXJpYWwlRTIlODAlOTQlMjIlMkMlMEElMjAlMjAlMjAlMjBkaXNwbGF5JTNEJTIybW9yZWF1JTIyJTJDJTBBJTIwJTIwJTIwJTIwYXV0aG9ycyUzRCUyMk1vcmVhdSUyQyUyMEx1YyUyMGFuZCUyMEJhdGxhamVyeSUyQyUyMEJlbGZyaXQlMjBWaWN0b3IlMjBhbmQlMjBIdXluaCUyQyUyMFRydW5nJTIwRG9uZyUyMGFuZCUyME1pY2hhZWxpZGVzJTJDJTIwRGFuaXVzJTIwYW5kJTIwUGFja2VyJTJDJTIwSGVhdGhlciUyMiUyQyUwQSUyMCUyMCUyMCUyMHBsYWNlMSUzRCUyMiUyMiUyQyUwQSUyMCUyMCUyMCUyMGVudHJ5dHlwZSUzRCUyMmFydGljbGUlMjIlMkMlMEElMjAlMjAlMjAlMjBJRCUzRCUyMm1vcmVhdXRlbXBsYXRpbmclMjIlMkMlMEElMjklMjklMEElMEFEQiUyOENpdGF0aW9uJTI4JTBBJTIwJTIwJTIwJTIwbW9yZWF1MjAxOGIlMkMlMjBtaWNoYWVsaWRlczIwMTZhJTJDJTIwcmVmJTNEJTIyJTIyJTJDJTBBJTIwJTIwJTIwJTIwY29udGV4dHMlM0QlNUIlMEElMEElMjAlMjAlMjAlMjAlNUQlMkMlMEElMjklMjklMEElMEElMjclMjclMjclMkMlMjBjaXRhdGlvbnMlM0QlMjdtaWNoYWVsaWRlczIwMTYlMjclMjklM0I=\")));\n",
       "    "
      ],
      "text/plain": [
       "<IPython.core.display.Javascript object>"
      ]
     },
     "metadata": {},
     "output_type": "display_data"
    },
    {
     "data": {
      "application/javascript": [
       "$('span:contains(\"# Temp\")').closest('.cell').remove();"
      ],
      "text/plain": [
       "<IPython.core.display.Javascript object>"
      ]
     },
     "metadata": {},
     "output_type": "display_data"
    },
    {
     "data": {
      "application/javascript": [
       "\n",
       "        $('span:contains(\"# Temp\")').closest('.cell').remove();\n",
       "        var code = IPython.notebook.insert_cell_below('code');\n",
       "        code.set_text(decodeURIComponent(window.atob(\"JTIzJTIwVGVtcCUwQWluc2VydCUyOCUyNyUyNyUyNyUwQW1vcmVhdTIwMThiJTIwJTNEJTIwREIlMjhXb3JrJTI4JTBBJTIwJTIwJTIwJTIwMjAxOCUyQyUyMCUyMkElMjBUZW1wbGF0aW5nJTIwU3lzdGVtJTIwdG8lMjBHZW5lcmF0ZSUyMFByb3ZlbmFuY2UlRTIlODAlOTRTdXBwbGVtZW50YXJ5JTIwTWF0ZXJpYWwlRTIlODAlOTQlMjIlMkMlMEElMjAlMjAlMjAlMjBkaXNwbGF5JTNEJTIybW9yZWF1JTIyJTJDJTBBJTIwJTIwJTIwJTIwYXV0aG9ycyUzRCUyMk1vcmVhdSUyQyUyMEx1YyUyMGFuZCUyMEJhdGxhamVyeSUyQyUyMEJlbGZyaXQlMjBWaWN0b3IlMjBhbmQlMjBIdXluaCUyQyUyMFRydW5nJTIwRG9uZyUyMGFuZCUyME1pY2hhZWxpZGVzJTJDJTIwRGFuaXVzJTIwYW5kJTIwUGFja2VyJTJDJTIwSGVhdGhlciUyMiUyQyUwQSUyMCUyMCUyMCUyMHBsYWNlJTNEVGVjaFJlcG9ydCUyQyUwQSUyMCUyMCUyMCUyMGVudHJ5dHlwZSUzRCUyMmFydGljbGUlMjIlMkMlMEElMjAlMjAlMjAlMjBJRCUzRCUyMm1vcmVhdXRlbXBsYXRpbmclMjIlMkMlMEElMjklMjklMEElMEFEQiUyOENpdGF0aW9uJTI4JTBBJTIwJTIwJTIwJTIwbW9yZWF1MjAxOGIlMkMlMjBtaWNoYWVsaWRlczIwMTZhJTJDJTIwcmVmJTNEJTIyJTIyJTJDJTBBJTIwJTIwJTIwJTIwY29udGV4dHMlM0QlNUIlMEElMEElMjAlMjAlMjAlMjAlNUQlMkMlMEElMjklMjklMEElMEElMjclMjclMjclMkMlMjBjaXRhdGlvbnMlM0QlMjdtaWNoYWVsaWRlczIwMTYlMjclMjklM0I=\")));\n",
       "    "
      ],
      "text/plain": [
       "<IPython.core.display.Javascript object>"
      ]
     },
     "metadata": {},
     "output_type": "display_data"
    },
    {
     "data": {
      "application/javascript": [
       "$('span:contains(\"# Temp\")').closest('.cell').remove();"
      ],
      "text/plain": [
       "<IPython.core.display.Javascript object>"
      ]
     },
     "metadata": {},
     "output_type": "display_data"
    },
    {
     "data": {
      "application/javascript": [
       "\n",
       "        $('span:contains(\"# Temp\")').closest('.cell').remove();\n",
       "        var code = IPython.notebook.insert_cell_below('code');\n",
       "        code.set_text(decodeURIComponent(window.atob(\"JTIzJTIwVGVtcCUwQWluc2VydCUyOCUyNyUyNyUyNyUwQW1vcmVhdTIwMThiJTIwJTNEJTIwREIlMjhXb3JrVW5yZWxhdGVkJTI4JTBBJTIwJTIwJTIwJTIwMjAxOCUyQyUyMCUyMkElMjBUZW1wbGF0aW5nJTIwU3lzdGVtJTIwdG8lMjBHZW5lcmF0ZSUyMFByb3ZlbmFuY2UlRTIlODAlOTRTdXBwbGVtZW50YXJ5JTIwTWF0ZXJpYWwlRTIlODAlOTQlMjIlMkMlMEElMjAlMjAlMjAlMjBkdWUlM0QlMjJVbnJlbGF0ZWQlMjB0byUyMHNjcmlwdHMlMjIlMkMlMEElMjAlMjAlMjAlMjBkaXNwbGF5JTNEJTIybW9yZWF1JTIyJTJDJTBBJTIwJTIwJTIwJTIwYXV0aG9ycyUzRCUyMk1vcmVhdSUyQyUyMEx1YyUyMGFuZCUyMEJhdGxhamVyeSUyQyUyMEJlbGZyaXQlMjBWaWN0b3IlMjBhbmQlMjBIdXluaCUyQyUyMFRydW5nJTIwRG9uZyUyMGFuZCUyME1pY2hhZWxpZGVzJTJDJTIwRGFuaXVzJTIwYW5kJTIwUGFja2VyJTJDJTIwSGVhdGhlciUyMiUyQyUwQSUyMCUyMCUyMCUyMHBsYWNlJTNEVGVjaFJlcG9ydCUyQyUwQSUyMCUyMCUyMCUyMGVudHJ5dHlwZSUzRCUyMmFydGljbGUlMjIlMkMlMEElMjAlMjAlMjAlMjBJRCUzRCUyMm1vcmVhdXRlbXBsYXRpbmclMjIlMkMlMEElMjAlMjAlMjAlMjBmaWxlJTNEJTIybW9yZWF1MjAxOGIucGRmJTIyJTJDJTBBJTI5JTI5JTBBJTBBREIlMjhDaXRhdGlvbiUyOCUwQSUyMCUyMCUyMCUyMG1vcmVhdTIwMThiJTJDJTIwbWljaGFlbGlkZXMyMDE2YSUyQyUyMHJlZiUzRCUyMiUyMiUyQyUwQSUyMCUyMCUyMCUyMGNvbnRleHRzJTNEJTVCJTBBJTBBJTIwJTIwJTIwJTIwJTVEJTJDJTBBJTI5JTI5JTBBJTBBJTI3JTI3JTI3JTJDJTIwY2l0YXRpb25zJTNEJTI3bWljaGFlbGlkZXMyMDE2JTI3JTI5JTNC\")));\n",
       "    "
      ],
      "text/plain": [
       "<IPython.core.display.Javascript object>"
      ]
     },
     "metadata": {},
     "output_type": "display_data"
    },
    {
     "data": {
      "application/javascript": [
       "$('span:contains(\"# Temp\")').closest('.cell').remove();"
      ],
      "text/plain": [
       "<IPython.core.display.Javascript object>"
      ]
     },
     "metadata": {},
     "output_type": "display_data"
    },
    {
     "data": {
      "application/javascript": [
       "$('span:contains(\"# Temp\")').closest('.cell').remove();"
      ],
      "text/plain": [
       "<IPython.core.display.Javascript object>"
      ]
     },
     "metadata": {},
     "output_type": "display_data"
    },
    {
     "data": {
      "application/javascript": [
       "$('span:contains(\"# Temp\")').closest('.cell').remove();"
      ],
      "text/plain": [
       "<IPython.core.display.Javascript object>"
      ]
     },
     "metadata": {},
     "output_type": "display_data"
    },
    {
     "data": {
      "application/javascript": [
       "$('span:contains(\"# Temp\")').closest('.cell').remove();"
      ],
      "text/plain": [
       "<IPython.core.display.Javascript object>"
      ]
     },
     "metadata": {},
     "output_type": "display_data"
    },
    {
     "data": {
      "application/javascript": [
       "$('span:contains(\"# Temp\")').closest('.cell').remove();"
      ],
      "text/plain": [
       "<IPython.core.display.Javascript object>"
      ]
     },
     "metadata": {},
     "output_type": "display_data"
    },
    {
     "data": {
      "application/javascript": [
       "$('span:contains(\"# Temp\")').closest('.cell').remove();"
      ],
      "text/plain": [
       "<IPython.core.display.Javascript object>"
      ]
     },
     "metadata": {},
     "output_type": "display_data"
    },
    {
     "data": {
      "application/javascript": [
       "$('span:contains(\"# Temp\")').closest('.cell').remove();"
      ],
      "text/plain": [
       "<IPython.core.display.Javascript object>"
      ]
     },
     "metadata": {},
     "output_type": "display_data"
    },
    {
     "data": {
      "application/javascript": [
       "$('span:contains(\"# Temp\")').closest('.cell').remove();"
      ],
      "text/plain": [
       "<IPython.core.display.Javascript object>"
      ]
     },
     "metadata": {},
     "output_type": "display_data"
    },
    {
     "data": {
      "application/javascript": [
       "$('span:contains(\"# Temp\")').closest('.cell').remove();"
      ],
      "text/plain": [
       "<IPython.core.display.Javascript object>"
      ]
     },
     "metadata": {},
     "output_type": "display_data"
    }
   ],
   "source": [
    "manager"
   ]
  },
  {
   "cell_type": "code",
   "execution_count": null,
   "metadata": {
    "collapsed": true
   },
   "outputs": [],
   "source": []
  }
 ],
 "metadata": {
  "kernelspec": {
   "display_name": "Python 3",
   "language": "python",
   "name": "python3"
  },
  "language_info": {
   "codemirror_mode": {
    "name": "ipython",
    "version": 3
   },
   "file_extension": ".py",
   "mimetype": "text/x-python",
   "name": "python",
   "nbconvert_exporter": "python",
   "pygments_lexer": "ipython3",
   "version": "3.6.1"
  },
  "toc": {
   "nav_menu": {
    "height": "12px",
    "width": "252px"
   },
   "number_sections": true,
   "sideBar": true,
   "skip_h1_title": false,
   "title_cell": "Table of Contents",
   "title_sidebar": "Contents",
   "toc_cell": false,
   "toc_position": {},
   "toc_section_display": "block",
   "toc_window_display": false
  },
  "widgets": {
   "state": {
    "9a715388434440cbb1c066a168d61a18": {
     "views": [
      {
       "cell_index": 5
      }
     ]
    }
   },
   "version": "1.2.0"
  }
 },
 "nbformat": 4,
 "nbformat_minor": 1
}
