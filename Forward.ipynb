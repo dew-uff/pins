{
 "cells": [
  {
   "cell_type": "code",
   "execution_count": 1,
   "metadata": {
    "collapsed": false
   },
   "outputs": [],
   "source": [
    "import database\n",
    "from snowballing.operations import load_work, reload, work_by_varname\n",
    "from snowballing.selenium_scholar import SeleniumScholarQuerier\n",
    "from snowballing.snowballing import ForwardSnowballing\n",
    "from snowballing.dbmanager import insert, set_attribute"
   ]
  },
  {
   "cell_type": "code",
   "execution_count": 2,
   "metadata": {
    "collapsed": false
   },
   "outputs": [],
   "source": [
    "querier = SeleniumScholarQuerier()"
   ]
  },
  {
   "cell_type": "code",
   "execution_count": 12,
   "metadata": {
    "collapsed": false,
    "scrolled": true
   },
   "outputs": [
    {
     "name": "stderr",
     "output_type": "stream",
     "text": [
      "[ INFO]  settings applied\n"
     ]
    },
    {
     "data": {
      "text/plain": [
       "<snowballing.selenium_scholar.SeleniumScholarQuerier at 0x23ff690b0f0>"
      ]
     },
     "execution_count": 12,
     "metadata": {},
     "output_type": "execute_result"
    }
   ],
   "source": [
    "querier.apply_settings(20, 4)"
   ]
  },
  {
   "cell_type": "code",
   "execution_count": 13,
   "metadata": {
    "collapsed": false
   },
   "outputs": [
    {
     "name": "stdout",
     "output_type": "stream",
     "text": [
      "Ops. It requires a captcha!\n",
      "If you filled in the browser, type '<ok>' here.\n",
      "Captcha: <ok>\n"
     ]
    }
   ],
   "source": [
    "manager = ForwardSnowballing(querier, \"murta2014a\", start=0)"
   ]
  },
  {
   "cell_type": "code",
   "execution_count": 14,
   "metadata": {
    "collapsed": false
   },
   "outputs": [
    {
     "data": {
      "text/html": [
       "<div class=\"gs_r\"><div class=\"gs_ggs gs_fl\"><div class=\"gs_ggsm\" id=\"gs_ggsW16\"><div class=\"gs_ggsd\"><a data-clk=\"hl=en&amp;sa=T&amp;oi=gga&amp;ct=gga&amp;cd=16&amp;ei=fzF6WbyGB4TjjAHyg5mIDw\" href=\"http://onlinelibrary.wiley.com/doi/10.1002/lrh2.10019/full\"><span class=\"gs_ctg2\">[HTML]</span> wiley.com</a></div><div class=\"gs_ggsd\"><a href=\"/scholar?output=instlink&amp;q=info:zq_i-BVUwmwJ:scholar.google.com/&amp;hl=en&amp;as_sdt=2005&amp;sciodt=0,5&amp;scillfp=8087406630029292556&amp;oi=lle\">GetIt@NYU</a></div></div></div><div class=\"gs_ri\"><h3 class=\"gs_rt\"><span class=\"gs_ctc\"><span class=\"gs_ct1\">[HTML]</span><span class=\"gs_ct2\">[HTML]</span></span> <a data-clk=\"hl=en&amp;sa=T&amp;oi=ggp&amp;ct=res&amp;cd=16&amp;ei=fzF6WbyGB4TjjAHyg5mIDw\" href=\"http://onlinelibrary.wiley.com/doi/10.1002/lrh2.10019/full\">Embedding data provenance into the Learning Health System to facilitate reproducible research</a></h3><div class=\"gs_a\"><a href=\"/citations?user=X9VrDxkAAAAJ&amp;hl=en&amp;oi=sra\">V Curcin</a> - Learning Health Systems, 2017 - Wiley Online Library</div><div class=\"gs_rs\">Methods Data provenance technologies can automatically capture the trace of the research <br>task and resulting data, thereby facilitating reproducible research. While some <br>computational domains, such as bioinformatics, have embraced the technology through <br/></br></br></div><div class=\"gs_fl\"><a href=\"/scholar?cites=7836918754924736462&amp;as_sdt=2005&amp;sciodt=0,5&amp;hl=en\">Cited by 2</a> <a href=\"/scholar?q=related:zq_i-BVUwmwJ:scholar.google.com/&amp;hl=en&amp;as_sdt=2005&amp;sciodt=0,5\">Related articles</a> <a class=\"gs_nta gs_nph\" href=\"https://scholar.googleusercontent.com/scholar.bib?q=info:zq_i-BVUwmwJ:scholar.google.com/&amp;output=citation&amp;scisig=AAGBfm0AAAAAWXoz14QzTcm_lU5JgrPfhjhSW-lfpg09&amp;scisf=4&amp;ct=citation&amp;cd=16&amp;hl=en\">Import into BibTeX</a> <a aria-controls=\"gs_cit\" aria-haspopup=\"true\" class=\"gs_nvi\" href=\"#\" onclick=\"return gs_ocit(event,'zq_i-BVUwmwJ','16')\" role=\"button\">Cite</a> <span class=\"gs_nph\"><a href=\"#\" id=\"gs_svl16\" onclick=\"return gs_sva('zq_i-BVUwmwJ','16')\" title=\"Save this article to my library so that I can read or cite it later.\">Save</a><span class=\"gs_svm\" id=\"gs_svo16\">Saving<span id=\"gs_svd16\">...</span></span><a id=\"gs_svs16\" style=\"display:none\">Saved</a><span class=\"gs_svm\" id=\"gs_sve16\">Error saving. <a href=\"#\" onclick=\"return gs_sva('zq_i-BVUwmwJ','16')\">Try again?</a></span></span> <a class=\"gs_mor\" href=\"#\" onclick=\"return gs_more(this,1)\" role=\"button\">More</a> <a class=\"gs_nvi\" href=\"#\" onclick=\"return gs_more(this,0)\" role=\"button\">Fewer</a></div></div></div>"
      ],
      "text/plain": [
       "<IPython.core.display.HTML object>"
      ]
     },
     "metadata": {},
     "output_type": "display_data"
    },
    {
     "data": {
      "text/html": [
       "<input value='curcin2017a.pdf' style='width: 100%'></input>"
      ],
      "text/plain": [
       "<IPython.core.display.HTML object>"
      ]
     },
     "metadata": {},
     "output_type": "display_data"
    }
   ],
   "source": [
    "manager.browser()"
   ]
  },
  {
   "cell_type": "code",
   "execution_count": null,
   "metadata": {
    "collapsed": true
   },
   "outputs": [],
   "source": [
    "# Temp\n",
    "insert('''\n",
    "curcin2017a = DB(Work(\n",
    "    2017, \"Embedding data provenance into the Learning Health System to facilitate reproducible research\",\n",
    "    display=\"curcin\",\n",
    "    authors=\"Curcin, Vasa\",\n",
    "    place=LHS,\n",
    "    entrytype=\"article\",\n",
    "    volume=\"1\",\n",
    "    number=\"2\",\n",
    "    publisher=\"Wiley Online Library\",\n",
    "    ID=\"curcin2017embedding\",\n",
    "    cluster_id=\"7836918754924736462\",\n",
    "    scholar=\"http://scholar.google.com/scholar?cites=7836918754924736462&as_sdt=2005&sciodt=0,5&hl=en\",\n",
    "))\n",
    "\n",
    "DB(Citation(\n",
    "    curcin2017a, murta2014a, ref=\"\",\n",
    "    contexts=[\n",
    "\n",
    "    ],\n",
    "))\n",
    "\n",
    "''', citations='noworkflow2014');"
   ]
  },
  {
   "cell_type": "code",
   "execution_count": null,
   "metadata": {
    "collapsed": true
   },
   "outputs": [],
   "source": []
  }
 ],
 "metadata": {
  "kernelspec": {
   "display_name": "Python 3",
   "language": "python",
   "name": "python3"
  },
  "language_info": {
   "codemirror_mode": {
    "name": "ipython",
    "version": 3
   },
   "file_extension": ".py",
   "mimetype": "text/x-python",
   "name": "python",
   "nbconvert_exporter": "python",
   "pygments_lexer": "ipython3",
   "version": "3.6.0"
  },
  "toc": {
   "nav_menu": {
    "height": "12px",
    "width": "252px"
   },
   "navigate_menu": true,
   "number_sections": true,
   "sideBar": true,
   "threshold": 4,
   "toc_cell": false,
   "toc_section_display": "block",
   "toc_window_display": false
  },
  "widgets": {
   "state": {
    "9a715388434440cbb1c066a168d61a18": {
     "views": [
      {
       "cell_index": 5
      }
     ]
    }
   },
   "version": "1.2.0"
  }
 },
 "nbformat": 4,
 "nbformat_minor": 0
}
