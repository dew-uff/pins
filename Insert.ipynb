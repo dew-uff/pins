{
 "cells": [
  {
   "cell_type": "code",
   "execution_count": 3,
   "metadata": {
    "collapsed": true
   },
   "outputs": [],
   "source": [
    "import database\n",
    "from snowballing.operations import load_work, reload, work_by_varname\n",
    "from snowballing.snowballing import Converter\n",
    "from snowballing.snowballing import ArticleNavigator\n",
    "from snowballing.dbmanager import insert, set_attribute"
   ]
  },
  {
   "cell_type": "code",
   "execution_count": 4,
   "metadata": {},
   "outputs": [
    {
     "data": {
      "application/vnd.jupyter.widget-view+json": {
       "model_id": "278f8c123a044cddb8c07347b024778c",
       "version_major": 2,
       "version_minor": 0
      },
      "text/plain": [
       "A Jupyter Widget"
      ]
     },
     "metadata": {},
     "output_type": "display_data"
    }
   ],
   "source": [
    "Converter(\"bibtex\")"
   ]
  },
  {
   "cell_type": "code",
   "execution_count": 5,
   "metadata": {},
   "outputs": [
    {
     "data": {
      "text/plain": [
       "1"
      ]
     },
     "execution_count": 5,
     "metadata": {},
     "output_type": "execute_result"
    }
   ],
   "source": [
    "len(article_list)"
   ]
  },
  {
   "cell_type": "code",
   "execution_count": null,
   "metadata": {
    "collapsed": true
   },
   "outputs": [],
   "source": []
  },
  {
   "cell_type": "code",
   "execution_count": null,
   "metadata": {
    "collapsed": true
   },
   "outputs": [],
   "source": []
  },
  {
   "cell_type": "code",
   "execution_count": null,
   "metadata": {
    "collapsed": true
   },
   "outputs": [],
   "source": []
  },
  {
   "cell_type": "code",
   "execution_count": 6,
   "metadata": {},
   "outputs": [
    {
     "data": {
      "application/vnd.jupyter.widget-view+json": {
       "model_id": "7c32427176f146f0a35ee320adf5e75b",
       "version_major": 2,
       "version_minor": 0
      },
      "text/plain": [
       "A Jupyter Widget"
      ]
     },
     "metadata": {},
     "output_type": "display_data"
    },
    {
     "data": {
      "application/javascript": [
       "$('span:contains(\"# Temp\")').closest('.cell').remove();"
      ],
      "text/plain": [
       "<IPython.core.display.Javascript object>"
      ]
     },
     "metadata": {},
     "output_type": "display_data"
    },
    {
     "data": {
      "application/javascript": [
       "\n",
       "        $('span:contains(\"# Temp\")').closest('.cell').remove();\n",
       "        var code = IPython.notebook.insert_cell_below('code');\n",
       "        code.set_text(decodeURIComponent(window.atob(\"JTIzJTIwVGVtcCUwQWluc2VydCUyOCUyNyUyNyUyNyUwQW5ldmVzMjAxN2ElMjAlM0QlMjBEQiUyOFdvcmslMjglMEElMjAlMjAlMjAlMjAyMDE3JTJDJTIwJTIyTWFuYWdpbmclMjBwcm92ZW5hbmNlJTIwb2YlMjBpbXBsaWNpdCUyMGRhdGElMjBmbG93cyUyMGluJTIwc2NpZW50aWZpYyUyMGV4cGVyaW1lbnRzJTIyJTJDJTBBJTIwJTIwJTIwJTIwZGlzcGxheSUzRCUyMm5ldmVzJTIyJTJDJTBBJTIwJTIwJTIwJTIwYXV0aG9ycyUzRCUyMk5ldmVzJTJDJTIwVml0b3IlMjBDJTIwYW5kJTIwT2xpdmVpcmElMkMlMjBEYW5pZWwlMjBEZSUyMGFuZCUyME9jYSVDMyVCMWElMkMlMjBLYXJ5JTIwQUNTJTIwYW5kJTIwQnJhZ2FuaG9sbyUyQyUyMFZhbmVzc2ElMjBhbmQlMjBNdXJ0YSUyQyUyMExlb25hcmRvJTIyJTJDJTBBJTIwJTIwJTIwJTIwcHAlM0QlMjIzNiUyMiUyQyUwQSUyMCUyMCUyMCUyMHBsYWNlMSUzRCUyMkFDTSUyMFRyYW5zYWN0aW9ucyUyMG9uJTIwSW50ZXJuZXQlMjBUZWNobm9sb2d5JTIwJTI4VE9JVCUyOSUyMiUyQyUwQSUyMCUyMCUyMCUyMGVudHJ5dHlwZSUzRCUyMmFydGljbGUlMjIlMkMlMEElMjAlMjAlMjAlMjB2b2x1bWUlM0QlMjIxNyUyMiUyQyUwQSUyMCUyMCUyMCUyMG51bWJlciUzRCUyMjQlMjIlMkMlMEElMjAlMjAlMjAlMjBwdWJsaXNoZXIlM0QlMjJBQ00lMjIlMkMlMEElMjAlMjAlMjAlMjBJRCUzRCUyMm5ldmVzMjAxN21hbmFnaW5nJTIyJTJDJTBBJTI5JTI5JTBBJTI3JTI3JTI3JTI5JTNC\")));\n",
       "    "
      ],
      "text/plain": [
       "<IPython.core.display.Javascript object>"
      ]
     },
     "metadata": {},
     "output_type": "display_data"
    },
    {
     "data": {
      "application/javascript": [
       "$('span:contains(\"# Temp\")').closest('.cell').remove();"
      ],
      "text/plain": [
       "<IPython.core.display.Javascript object>"
      ]
     },
     "metadata": {},
     "output_type": "display_data"
    },
    {
     "data": {
      "application/javascript": [
       "\n",
       "        $('span:contains(\"# Temp\")').closest('.cell').remove();\n",
       "        var code = IPython.notebook.insert_cell_below('code');\n",
       "        code.set_text(decodeURIComponent(window.atob(\"JTIzJTIwVGVtcCUwQWluc2VydCUyOCUyNyUyNyUyNyUwQW5ldmVzMjAxN2ElMjAlM0QlMjBEQiUyOFdvcmtVbnJlbGF0ZWQlMjglMEElMjAlMjAlMjAlMjAyMDE3JTJDJTIwJTIyTWFuYWdpbmclMjBwcm92ZW5hbmNlJTIwb2YlMjBpbXBsaWNpdCUyMGRhdGElMjBmbG93cyUyMGluJTIwc2NpZW50aWZpYyUyMGV4cGVyaW1lbnRzJTIyJTJDJTBBJTIwJTIwJTIwJTIwZHVlJTNEJTIyVW5yZWxhdGVkJTIwdG8lMjBzY3JpcHRzJTIyJTJDJTBBJTIwJTIwJTIwJTIwZGlzcGxheSUzRCUyMm5ldmVzJTIyJTJDJTBBJTIwJTIwJTIwJTIwYXV0aG9ycyUzRCUyMk5ldmVzJTJDJTIwVml0b3IlMjBDJTIwYW5kJTIwT2xpdmVpcmElMkMlMjBEYW5pZWwlMjBEZSUyMGFuZCUyME9jYSVDMyVCMWElMkMlMjBLYXJ5JTIwQUNTJTIwYW5kJTIwQnJhZ2FuaG9sbyUyQyUyMFZhbmVzc2ElMjBhbmQlMjBNdXJ0YSUyQyUyMExlb25hcmRvJTIyJTJDJTBBJTIwJTIwJTIwJTIwcHAlM0QlMjIzNiUyMiUyQyUwQSUyMCUyMCUyMCUyMHBsYWNlMSUzRCUyMkFDTSUyMFRyYW5zYWN0aW9ucyUyMG9uJTIwSW50ZXJuZXQlMjBUZWNobm9sb2d5JTIwJTI4VE9JVCUyOSUyMiUyQyUwQSUyMCUyMCUyMCUyMGVudHJ5dHlwZSUzRCUyMmFydGljbGUlMjIlMkMlMEElMjAlMjAlMjAlMjB2b2x1bWUlM0QlMjIxNyUyMiUyQyUwQSUyMCUyMCUyMCUyMG51bWJlciUzRCUyMjQlMjIlMkMlMEElMjAlMjAlMjAlMjBwdWJsaXNoZXIlM0QlMjJBQ00lMjIlMkMlMEElMjAlMjAlMjAlMjBJRCUzRCUyMm5ldmVzMjAxN21hbmFnaW5nJTIyJTJDJTBBJTIwJTIwJTIwJTIwZmlsZSUzRCUyMm5ldmVzMjAxN2EucGRmJTIyJTJDJTBBJTI5JTI5JTBBJTI3JTI3JTI3JTI5JTNC\")));\n",
       "    "
      ],
      "text/plain": [
       "<IPython.core.display.Javascript object>"
      ]
     },
     "metadata": {},
     "output_type": "display_data"
    },
    {
     "data": {
      "application/javascript": [
       "$('span:contains(\"# Temp\")').closest('.cell').remove();"
      ],
      "text/plain": [
       "<IPython.core.display.Javascript object>"
      ]
     },
     "metadata": {},
     "output_type": "display_data"
    },
    {
     "data": {
      "application/javascript": [
       "\n",
       "        $('span:contains(\"# Temp\")').closest('.cell').remove();\n",
       "        var code = IPython.notebook.insert_cell_below('code');\n",
       "        code.set_text(decodeURIComponent(window.atob(\"JTIzJTIwVGVtcCUwQWluc2VydCUyOCUyNyUyNyUyNyUwQW5ldmVzMjAxN2ElMjAlM0QlMjBEQiUyOFdvcmtVbnJlbGF0ZWQlMjglMEElMjAlMjAlMjAlMjAyMDE3JTJDJTIwJTIyTWFuYWdpbmclMjBwcm92ZW5hbmNlJTIwb2YlMjBpbXBsaWNpdCUyMGRhdGElMjBmbG93cyUyMGluJTIwc2NpZW50aWZpYyUyMGV4cGVyaW1lbnRzJTIyJTJDJTBBJTIwJTIwJTIwJTIwZHVlJTNEJTIyVW5yZWxhdGVkJTIwdG8lMjBzY3JpcHRzJTIyJTJDJTBBJTIwJTIwJTIwJTIwZGlzcGxheSUzRCUyMm5ldmVzJTIyJTJDJTBBJTIwJTIwJTIwJTIwYXV0aG9ycyUzRCUyMk5ldmVzJTJDJTIwVml0b3IlMjBDJTIwYW5kJTIwT2xpdmVpcmElMkMlMjBEYW5pZWwlMjBEZSUyMGFuZCUyME9jYSVDMyVCMWElMkMlMjBLYXJ5JTIwQUNTJTIwYW5kJTIwQnJhZ2FuaG9sbyUyQyUyMFZhbmVzc2ElMjBhbmQlMjBNdXJ0YSUyQyUyMExlb25hcmRvJTIyJTJDJTBBJTIwJTIwJTIwJTIwcHAlM0QlMjIzNiUyMiUyQyUwQSUyMCUyMCUyMCUyMHBsYWNlMSUzRCUyMkFDTSUyMFRyYW5zYWN0aW9ucyUyMG9uJTIwSW50ZXJuZXQlMjBUZWNobm9sb2d5JTIwJTI4VE9JVCUyOSUyMiUyQyUwQSUyMCUyMCUyMCUyMGVudHJ5dHlwZSUzRCUyMmFydGljbGUlMjIlMkMlMEElMjAlMjAlMjAlMjB2b2x1bWUlM0QlMjIxNyUyMiUyQyUwQSUyMCUyMCUyMCUyMG51bWJlciUzRCUyMjQlMjIlMkMlMEElMjAlMjAlMjAlMjBwdWJsaXNoZXIlM0QlMjJBQ00lMjIlMkMlMEElMjAlMjAlMjAlMjBJRCUzRCUyMm5ldmVzMjAxN21hbmFnaW5nJTIyJTJDJTBBJTI5JTI5JTBBJTI3JTI3JTI3JTI5JTNC\")));\n",
       "    "
      ],
      "text/plain": [
       "<IPython.core.display.Javascript object>"
      ]
     },
     "metadata": {},
     "output_type": "display_data"
    },
    {
     "data": {
      "application/javascript": [
       "$('span:contains(\"# Temp\")').closest('.cell').remove();"
      ],
      "text/plain": [
       "<IPython.core.display.Javascript object>"
      ]
     },
     "metadata": {},
     "output_type": "display_data"
    },
    {
     "data": {
      "application/javascript": [
       "\n",
       "        $('span:contains(\"# Temp\")').closest('.cell').remove();\n",
       "        var code = IPython.notebook.insert_cell_below('code');\n",
       "        code.set_text(decodeURIComponent(window.atob(\"JTIzJTIwVGVtcCUwQWluc2VydCUyOCUyNyUyNyUyNyUwQW5ldmVzMjAxN2ElMjAlM0QlMjBEQiUyOFdvcmtVbnJlbGF0ZWQlMjglMEElMjAlMjAlMjAlMjAyMDE3JTJDJTIwJTIyTWFuYWdpbmclMjBwcm92ZW5hbmNlJTIwb2YlMjBpbXBsaWNpdCUyMGRhdGElMjBmbG93cyUyMGluJTIwc2NpZW50aWZpYyUyMGV4cGVyaW1lbnRzJTIyJTJDJTBBJTIwJTIwJTIwJTIwZHVlJTNEJTIyVW5yZWxhdGVkJTIwdG8lMjBzY3JpcHRzJTIyJTJDJTBBJTIwJTIwJTIwJTIwZGlzcGxheSUzRCUyMm5ldmVzJTIyJTJDJTBBJTIwJTIwJTIwJTIwYXV0aG9ycyUzRCUyMk5ldmVzJTJDJTIwVml0b3IlMjBDJTIwYW5kJTIwT2xpdmVpcmElMkMlMjBEYW5pZWwlMjBEZSUyMGFuZCUyME9jYSVDMyVCMWElMkMlMjBLYXJ5JTIwQUNTJTIwYW5kJTIwQnJhZ2FuaG9sbyUyQyUyMFZhbmVzc2ElMjBhbmQlMjBNdXJ0YSUyQyUyMExlb25hcmRvJTIyJTJDJTBBJTIwJTIwJTIwJTIwcGxhY2UlM0RUT0lUJTJDJTBBJTIwJTIwJTIwJTIwcHAlM0QlMjIzNiUyMiUyQyUwQSUyMCUyMCUyMCUyMGVudHJ5dHlwZSUzRCUyMmFydGljbGUlMjIlMkMlMEElMjAlMjAlMjAlMjB2b2x1bWUlM0QlMjIxNyUyMiUyQyUwQSUyMCUyMCUyMCUyMG51bWJlciUzRCUyMjQlMjIlMkMlMEElMjAlMjAlMjAlMjBwdWJsaXNoZXIlM0QlMjJBQ00lMjIlMkMlMEElMjAlMjAlMjAlMjBJRCUzRCUyMm5ldmVzMjAxN21hbmFnaW5nJTIyJTJDJTBBJTI5JTI5JTBBJTI3JTI3JTI3JTI5JTNC\")));\n",
       "    "
      ],
      "text/plain": [
       "<IPython.core.display.Javascript object>"
      ]
     },
     "metadata": {},
     "output_type": "display_data"
    }
   ],
   "source": [
    "ArticleNavigator(articles=article_list)"
   ]
  },
  {
   "cell_type": "code",
   "execution_count": 7,
   "metadata": {},
   "outputs": [
    {
     "name": "stdout",
     "output_type": "stream",
     "text": [
      "-Insert: neves2017a\n"
     ]
    }
   ],
   "source": [
    "# Temp\n",
    "insert('''\n",
    "neves2017a = DB(WorkUnrelated(\n",
    "    2017, \"Managing provenance of implicit data flows in scientific experiments\",\n",
    "    due=\"Unrelated to scripts\",\n",
    "    display=\"neves\",\n",
    "    authors=\"Neves, Vitor C and Oliveira, Daniel De and Ocaña, Kary ACS and Braganholo, Vanessa and Murta, Leonardo\",\n",
    "    place=TOIT,\n",
    "    pp=\"36\",\n",
    "    entrytype=\"article\",\n",
    "    volume=\"17\",\n",
    "    number=\"4\",\n",
    "    publisher=\"ACM\",\n",
    "    ID=\"neves2017managing\",\n",
    "))\n",
    "''');"
   ]
  },
  {
   "cell_type": "code",
   "execution_count": null,
   "metadata": {
    "collapsed": true
   },
   "outputs": [],
   "source": []
  }
 ],
 "metadata": {
  "kernelspec": {
   "display_name": "Python 3",
   "language": "python",
   "name": "python3"
  },
  "language_info": {
   "codemirror_mode": {
    "name": "ipython",
    "version": 3
   },
   "file_extension": ".py",
   "mimetype": "text/x-python",
   "name": "python",
   "nbconvert_exporter": "python",
   "pygments_lexer": "ipython3",
   "version": "3.6.1"
  },
  "toc": {
   "nav_menu": {
    "height": "12px",
    "width": "252px"
   },
   "number_sections": true,
   "sideBar": true,
   "skip_h1_title": false,
   "title_cell": "Table of Contents",
   "title_sidebar": "Contents",
   "toc_cell": false,
   "toc_position": {},
   "toc_section_display": "block",
   "toc_window_display": false
  },
  "widgets": {
   "state": {
    "067cfd4f146c4da6b519fad8e1111646": {
     "views": [
      {
       "cell_index": 1
      }
     ]
    },
    "4cfbe81ed81748a88f1f159f4607c8dc": {
     "views": [
      {
       "cell_index": 4
      }
     ]
    }
   },
   "version": "1.2.0"
  }
 },
 "nbformat": 4,
 "nbformat_minor": 2
}
